{
 "cells": [
  {
   "cell_type": "markdown",
   "id": "d82108b2-7513-4fd4-8948-718d67019712",
   "metadata": {},
   "source": [
    "# Apply Damage and Save Dataset\n",
    "Run the function below to apply the damages per image and save the damaged version and their respective masks in their corresponding directory."
   ]
  },
  {
   "cell_type": "code",
   "execution_count": 12,
   "id": "3269131d-5cc2-45c3-aba9-a9113a84cbca",
   "metadata": {
    "execution": {
     "iopub.execute_input": "2025-05-31T08:45:33.680250Z",
     "iopub.status.busy": "2025-05-31T08:45:33.679307Z",
     "iopub.status.idle": "2025-05-31T08:45:33.692340Z",
     "shell.execute_reply": "2025-05-31T08:45:33.690721Z",
     "shell.execute_reply.started": "2025-05-31T08:45:33.680168Z"
    }
   },
   "outputs": [],
   "source": [
    "# Ensure src is in the import path\n",
    "import os\n",
    "import sys\n",
    "\n",
    "project_root = os.path.abspath(\"..\")\n",
    "src_path = os.path.join(project_root, \"src\")\n",
    "if src_path not in sys.path:\n",
    "    sys.path.append(src_path)"
   ]
  },
  {
   "cell_type": "code",
   "execution_count": 13,
   "id": "cd355810-aa73-4f5c-87bc-e81e097c4b17",
   "metadata": {
    "execution": {
     "iopub.execute_input": "2025-05-31T08:45:35.452062Z",
     "iopub.status.busy": "2025-05-31T08:45:35.451261Z",
     "iopub.status.idle": "2025-05-31T08:45:35.462140Z",
     "shell.execute_reply": "2025-05-31T08:45:35.460117Z",
     "shell.execute_reply.started": "2025-05-31T08:45:35.451989Z"
    }
   },
   "outputs": [],
   "source": [
    "import json\n",
    "import random\n",
    "import numpy as np\n",
    "from PIL import Image, ImageDraw, ImageFilter\n",
    "\n",
    "# Import damage classes\n",
    "from maskerada import ScratchDamage, WaterDiscolouration, CraquelureDamage, NoDamage"
   ]
  },
  {
   "cell_type": "code",
   "execution_count": 14,
   "id": "b62a9448-2afd-4f1f-aab2-4f5d45092635",
   "metadata": {
    "execution": {
     "iopub.execute_input": "2025-05-31T08:45:36.471365Z",
     "iopub.status.busy": "2025-05-31T08:45:36.470561Z",
     "iopub.status.idle": "2025-05-31T08:45:36.494140Z",
     "shell.execute_reply": "2025-05-31T08:45:36.492094Z",
     "shell.execute_reply.started": "2025-05-31T08:45:36.471291Z"
    }
   },
   "outputs": [],
   "source": [
    "def apply_and_save_damage_set(\n",
    "    original_image_pil,\n",
    "    image_identifier,\n",
    "    damage_applicator_instance,\n",
    "    damage_type_name,\n",
    "    base_output_directory\n",
    "):\n",
    "    \"\"\"\n",
    "    Applies a given damage to an image, saves the damaged image into\n",
    "    a subdirectory.\n",
    "    \"\"\"\n",
    "    print(f\"Applying {damage_type_name} damage to '{image_identifier}'...\")\n",
    "\n",
    "    image_to_damage = original_image_pil.copy()\n",
    "    damaged_image, damage_mask = damage_applicator_instance.apply(image_to_damage)\n",
    "\n",
    "    # Define output subdirectories\n",
    "    damaged_output_dir = os.path.join(\n",
    "        base_output_directory, \"generated-damaged-images\"\n",
    "    )\n",
    "    os.makedirs(damaged_output_dir, exist_ok=True)\n",
    "\n",
    "    damage_mask_dir = os.path.join(\n",
    "        base_output_directory, \"generated-damage-masks\"\n",
    "    )\n",
    "    os.makedirs(damage_mask_dir, exist_ok=True)\n",
    "\n",
    "    # Prepare filename\n",
    "    id_str = str(image_identifier)\n",
    "    id_str_base, id_str_ext = os.path.splitext(id_str)\n",
    "\n",
    "    if id_str_ext.lower() in (\n",
    "        '.jpg', '.jpeg', '.png', '.gif', '.bmp', '.tiff', '.webp'\n",
    "    ):\n",
    "        id_str = id_str_base\n",
    "\n",
    "    damage_type_name = \"\".join(\n",
    "        c if c.isalnum() else '_' for c in damage_type_name\n",
    "    )\n",
    "    base_filename = f\"{id_str}-{damage_type_name}\"\n",
    "    damaged_filename = f\"{base_filename}.png\"\n",
    "    damaged_image_path = os.path.join(damaged_output_dir, damaged_filename)\n",
    "    mask_filename = f\"{base_filename}-mask.png\"\n",
    "    mask_image_path = os.path.join(damage_mask_dir, mask_filename)\n",
    "\n",
    "    # Save damaged image\n",
    "    try:\n",
    "        damaged_image.save(damaged_image_path)\n",
    "        damage_mask.save(mask_image_path)\n",
    "    except Exception as e:\n",
    "        print(\n",
    "            f\"  Error saving images for {damage_type_name} \"\n",
    "            f\"on {image_identifier}: {e}\"\n",
    "        )\n",
    "\n",
    "    return {\n",
    "        \"image_identifier\": image_identifier,\n",
    "        \"damage_type\": damage_type_name,\n",
    "        \"original_image_path\": (\n",
    "            original_image_pil.filename\n",
    "            if hasattr(original_image_pil, 'filename') else None\n",
    "        ),\n",
    "        \"damaged_image_path\": damaged_image_path,\n",
    "        \"mask_image_path\": mask_image_path,\n",
    "    }\n"
   ]
  },
  {
   "cell_type": "markdown",
   "id": "3d7053c6-e5fb-4dcd-982f-94798df25991",
   "metadata": {},
   "source": [
    "Note that the function above was modified from its original to include a `return` statement for the image file paths and remove the references to the mask.\n",
    "\n",
    "**Original Function:**\n",
    "```\n",
    "import random\n",
    "import numpy as np\n",
    "from PIL import Image, ImageDraw, ImageFilter\n",
    "import os\n",
    "\n",
    "def apply_and_save_damage_set(original_image_pil, image_identifier,\n",
    "                              damage_applicator_instance, damage_type_name,\n",
    "                              base_output_directory):\n",
    "    \"\"\"\n",
    "    Applies a given damage to an image, saves the damaged image and its mask\n",
    "    into respective subdirectories.\n",
    "\n",
    "    Args:\n",
    "        original_image_pil (PIL.Image): The original clean image.\n",
    "        image_identifier (str or int): A unique identifier for the image (e.g., \"Image_001\", \n",
    "                                     a filename like \"hash.jpg\", or an index).\n",
    "        damage_applicator_instance (object): An instance of a damage class (e.g., TearDamage()).\n",
    "        damage_type_name (str): A string to identify the damage type in filenames (e.g., \"Tears\").\n",
    "        base_output_directory (str): Base directory to save the output images.\n",
    "                                     Subdirectories 'damaged-images' and 'masks' will be created here.\n",
    "    \"\"\"\n",
    "    print(f\"Applying {damage_type_name} damage to '{image_identifier}'...\")\n",
    "    \n",
    "    image_to_damage = original_image_pil.copy() \n",
    "    damaged_image, damage_mask = damage_applicator_instance.apply(image_to_damage)\n",
    "\n",
    "    # Define output subdirectories\n",
    "    damaged_output_dir = os.path.join(base_output_directory, \"damaged-images\")\n",
    "    mask_output_dir = os.path.join(base_output_directory, \"masks\")\n",
    "\n",
    "    # Create subdirectories if they don't exist\n",
    "    os.makedirs(damaged_output_dir, exist_ok=True)\n",
    "    os.makedirs(mask_output_dir, exist_ok=True)\n",
    "\n",
    "    # Prepare image identifier for filename (strip extension if it's a filename)\n",
    "    id_str = str(image_identifier)\n",
    "    id_str_base, id_str_ext = os.path.splitext(id_str)\n",
    "    if id_str_ext.lower() in ['.jpg', '.jpeg', '.png', '.gif', '.bmp', '.tiff', '.webp']:\n",
    "        id_str = id_str_base # Use only the base name without the extension\n",
    "    \n",
    "    # Sanitize damage_type_name for filename\n",
    "    safe_damage_type_name = \"\".join(c if c.isalnum() else '_' for c in damage_type_name)\n",
    "        \n",
    "    base_filename = f\"{id_str} {safe_damage_type_name}\" \n",
    "\n",
    "    damaged_filename = f\"{base_filename}.png\"\n",
    "    mask_filename = f\"{base_filename}_mask.png\"\n",
    "\n",
    "    damaged_image_path = os.path.join(damaged_output_dir, damaged_filename)\n",
    "    mask_image_path = os.path.join(mask_output_dir, mask_filename)\n",
    "\n",
    "    # Save the images\n",
    "    try:\n",
    "        damaged_image.save(damaged_image_path)\n",
    "        damage_mask.save(mask_image_path)\n",
    "    except Exception as e:\n",
    "        print(f\"  Error saving images for {damage_type_name} on {image_identifier}: {e}\")\n",
    "\n",
    "```"
   ]
  },
  {
   "cell_type": "markdown",
   "id": "42cf596d-0017-463c-82fb-e9c918ebf90b",
   "metadata": {},
   "source": [
    "## Test with a sample image"
   ]
  },
  {
   "cell_type": "code",
   "execution_count": 5,
   "id": "053ebe64-5fe8-4c47-be82-d1c45a337beb",
   "metadata": {
    "execution": {
     "iopub.execute_input": "2025-05-29T13:38:15.687449Z",
     "iopub.status.busy": "2025-05-29T13:38:15.685475Z",
     "iopub.status.idle": "2025-05-29T13:38:16.124736Z",
     "shell.execute_reply": "2025-05-29T13:38:16.124009Z",
     "shell.execute_reply.started": "2025-05-29T13:38:15.687363Z"
    }
   },
   "outputs": [
    {
     "name": "stdout",
     "output_type": "stream",
     "text": [
      "Applying ScratchDamage damage to 'your_image'...\n",
      "Applying WaterDiscolouration damage to 'your_image'...\n",
      "Applying CraquelureDamage damage to 'your_image'...\n",
      "Applying NoDamage damage to 'your_image'...\n"
     ]
    }
   ],
   "source": [
    "# Load your original image\n",
    "original_image = Image.open(\"../data/sample-image-canvas-oil-Le-Moulin-de-la-Galette-1876.png\")\n",
    "\n",
    "# Define damage instances\n",
    "damage_types = [\n",
    "    ScratchDamage(),\n",
    "    WaterDiscolouration(),\n",
    "    CraquelureDamage(),\n",
    "    NoDamage()\n",
    "]\n",
    "\n",
    "# Output base directory\n",
    "base_output_directory = \"../data/sample-damaged-and-mask-data\"\n",
    "\n",
    "# Metadata collector\n",
    "damage_metadata = []\n",
    "\n",
    "# Apply each damage separately\n",
    "for dmg_instance in damage_types:\n",
    "    result = apply_and_save_damage_set(\n",
    "        original_image_pil=original_image,\n",
    "        image_identifier=\"your_image\",\n",
    "        damage_applicator_instance=dmg_instance,\n",
    "        damage_type_name=dmg_instance.__class__.__name__,\n",
    "        base_output_directory=base_output_directory\n",
    "    )\n",
    "    damage_metadata.append(result)\n",
    "\n",
    "# Save metadata to JSON\n",
    "with open(\"../data/damage_metadata.json\", \"w\") as f:\n",
    "    json.dump(damage_metadata, f, indent=2)\n"
   ]
  },
  {
   "cell_type": "markdown",
   "id": "a3a4fde6-f343-4e6c-8841-0d7decb7007c",
   "metadata": {},
   "source": [
    "## Generate 5 random damaged paintings from the dataset"
   ]
  },
  {
   "cell_type": "markdown",
   "id": "656dca14-1600-4412-b63f-f409f7b12450",
   "metadata": {},
   "source": [
    "This script applies a randomly chosen type of damage—such as scratches, water discoloration, or craquelure—to a fixed random sample of images from a directory. A set random seed ensures the same images are selected each time, while the damage effects remain varied. The script saves each damaged image to an output folder and logs metadata including the original filename, damage type, and file paths. All metadata is saved to a JSON file for easy tracking or later use in tasks like training or evaluating image restoration models."
   ]
  },
  {
   "cell_type": "code",
   "execution_count": 5,
   "id": "53622f9c-ade0-450d-94de-6c7d94639c6d",
   "metadata": {
    "execution": {
     "iopub.execute_input": "2025-05-26T13:41:58.341888Z",
     "iopub.status.busy": "2025-05-26T13:41:58.341097Z",
     "iopub.status.idle": "2025-05-26T13:42:00.777234Z",
     "shell.execute_reply": "2025-05-26T13:42:00.776176Z",
     "shell.execute_reply.started": "2025-05-26T13:41:58.341810Z"
    }
   },
   "outputs": [
    {
     "name": "stdout",
     "output_type": "stream",
     "text": [
      "Applying CraquelureDamage damage to '2272e22dcc68d4482b697b4483f9b82f79da494b'...\n",
      "Applying CraquelureDamage damage to '4ab128c6628cc70c24da63f736a14194a058b923'...\n",
      "Applying ScratchDamage damage to 'd73cb8d6a2be216deb26aa3107defdb9e01620f7'...\n",
      "Applying CraquelureDamage damage to 'ca7b1c5efc57c3c978be8365c54ab4e54b8e4723'...\n",
      "Applying ScratchDamage damage to '43ecd8a9fe1d83d96ad40ab59ac44127cffd38f5'...\n"
     ]
    }
   ],
   "source": [
    "# Define source and output directories\n",
    "image_directory = \"../data/img/full\"\n",
    "base_output_directory = \"../data/sample-damaged-and-mask-data\"\n",
    "metadata_output_path = \"../data/damage_metadata.json\"\n",
    "\n",
    "# Collect all image paths from the directory\n",
    "valid_extensions = ('.png', '.jpg', '.jpeg', '.bmp', '.tiff', '.webp')\n",
    "image_paths = [\n",
    "    os.path.join(image_directory, fname)\n",
    "    for fname in os.listdir(image_directory)\n",
    "    if fname.lower().endswith(valid_extensions)\n",
    "]\n",
    "\n",
    "# Set a separate seed for sampling\n",
    "sampling_rng = random.Random(42)\n",
    "\n",
    "# Sample image paths reproducibly\n",
    "image_paths = sampling_rng.sample(image_paths, k=5)\n",
    "\n",
    "# Define damage instances\n",
    "damage_classes = [ScratchDamage, WaterDiscolouration, CraquelureDamage]\n",
    "\n",
    "# Metadata collector\n",
    "damage_metadata = []\n",
    "\n",
    "# Apply random damage to each image\n",
    "for img_path in image_paths:\n",
    "    try:\n",
    "        original_image = Image.open(img_path)\n",
    "        damage_class = random.choice(damage_classes)\n",
    "        damage_instance = damage_class()\n",
    "\n",
    "        result = apply_and_save_damage_set(\n",
    "            original_image_pil=original_image,\n",
    "            image_identifier=os.path.splitext(os.path.basename(img_path))[0],\n",
    "            damage_applicator_instance=damage_instance,\n",
    "            damage_type_name=damage_class.__name__,\n",
    "            base_output_directory=base_output_directory\n",
    "        )\n",
    "\n",
    "        damage_metadata.append(result)\n",
    "\n",
    "    except Exception as e:\n",
    "        print(f\"Error processing '{img_path}': {e}\")\n",
    "\n",
    "# Save metadata to JSON\n",
    "with open(metadata_output_path, \"w\") as f:\n",
    "    json.dump(damage_metadata, f, indent=2)\n"
   ]
  },
  {
   "cell_type": "markdown",
   "id": "04eb6985-1d0b-4d71-9d8f-925c440aafe1",
   "metadata": {},
   "source": [
    "---"
   ]
  },
  {
   "cell_type": "markdown",
   "id": "e18a7b5b-7a6a-4e40-9024-a1e77ec58e19",
   "metadata": {},
   "source": [
    "# Generating the Actual Dataset"
   ]
  },
  {
   "cell_type": "markdown",
   "id": "8f8a98bf-41ba-4378-bd8a-22c5e037ddf3",
   "metadata": {},
   "source": [
    "**PLEASE RUN THIS IN THE SEPARATE NOTEBOOK PROVIDED: notebooks/generate-damage-mask-dataset.ipynb**\n",
    "\n",
    "This script applies one random, reproducible damage effect (e.g., scratches, water discoloration, or craquelure) to each image in a dataset. It uses multiprocessing to speed up processing across multiple CPU cores, saving both the damaged image and its corresponding damage mask. A metadata file is generated to track the original image, damage type applied, and output file paths."
   ]
  },
  {
   "cell_type": "code",
   "execution_count": 15,
   "id": "6def6f94-6a66-4c5d-bd6c-a3e73f7e5d58",
   "metadata": {
    "execution": {
     "iopub.execute_input": "2025-05-31T08:45:42.464312Z",
     "iopub.status.busy": "2025-05-31T08:45:42.462612Z",
     "iopub.status.idle": "2025-05-31T08:45:42.476838Z",
     "shell.execute_reply": "2025-05-31T08:45:42.474956Z",
     "shell.execute_reply.started": "2025-05-31T08:45:42.464231Z"
    }
   },
   "outputs": [],
   "source": [
    "import os\n",
    "import sys\n",
    "project_root = os.path.abspath(\"..\")\n",
    "src_path = os.path.join(project_root, \"src\")\n",
    "if src_path not in sys.path:\n",
    "    sys.path.append(src_path)\n",
    "\n",
    "import json\n",
    "import random\n",
    "import hashlib\n",
    "from concurrent.futures import ProcessPoolExecutor, as_completed\n",
    "\n",
    "import numpy as np\n",
    "from PIL import Image, ImageDraw, ImageFilter\n",
    "from tqdm import tqdm\n",
    "\n",
    "# Import damage classes\n",
    "from maskerada import ScratchDamage, WaterDiscolouration, CraquelureDamage, NoDamage"
   ]
  },
  {
   "cell_type": "code",
   "execution_count": 16,
   "id": "72480902-bd3e-46b7-b4b5-86825f471e01",
   "metadata": {
    "execution": {
     "iopub.execute_input": "2025-05-31T08:45:43.015603Z",
     "iopub.status.busy": "2025-05-31T08:45:43.014782Z",
     "iopub.status.idle": "2025-05-31T08:45:43.026086Z",
     "shell.execute_reply": "2025-05-31T08:45:43.024283Z",
     "shell.execute_reply.started": "2025-05-31T08:45:43.015511Z"
    }
   },
   "outputs": [],
   "source": [
    "# --- Utility: Generate a reproducible seed per image path ---\n",
    "def get_deterministic_seed(image_path):\n",
    "    \"\"\"\n",
    "    Generates a reproducible integer seed from the image path.\n",
    "\n",
    "    This ensures consistent random behavior per image across runs,\n",
    "    even when processed in parallel.\n",
    "\n",
    "    Args:\n",
    "        image_path (str): Full path to the image.\n",
    "\n",
    "    Returns:\n",
    "        int: A 32-bit integer seed derived from the image path.\n",
    "    \"\"\"\n",
    "    return int(hashlib.sha256(image_path.encode()).hexdigest(), 16) % (2**32)"
   ]
  },
  {
   "cell_type": "markdown",
   "id": "36e151e4-1001-461e-ac8f-d339cdc3cf67",
   "metadata": {},
   "source": [
    "### Revised Function\n",
    "Revised `process_all_images()` function in order to generate 1 to 2 randomly chosen damage types."
   ]
  },
  {
   "cell_type": "code",
   "execution_count": 20,
   "id": "3b3938d2-bc9f-489e-b68c-39f4687d0d2d",
   "metadata": {
    "execution": {
     "iopub.execute_input": "2025-05-31T08:45:45.990421Z",
     "iopub.status.busy": "2025-05-31T08:45:45.989472Z",
     "iopub.status.idle": "2025-05-31T08:45:46.015331Z",
     "shell.execute_reply": "2025-05-31T08:45:46.013460Z",
     "shell.execute_reply.started": "2025-05-31T08:45:45.990343Z"
    }
   },
   "outputs": [],
   "source": [
    "def process_image(args):\n",
    "    \"\"\"\n",
    "    Processes a single image by applying one randomly selected damage type.\n",
    "    Skips regeneration if output files already exist, but always returns metadata.\n",
    "\n",
    "    Args:\n",
    "        args (tuple): Contains:\n",
    "            - image_path (str): Path to the input image.\n",
    "            - base_output_directory (str): Where to save results.\n",
    "            - damage_classes (list): List of available damage classes.\n",
    "\n",
    "    Returns:\n",
    "        dict or None: Metadata dictionary if successful, None if errored.\n",
    "    \"\"\"\n",
    "    import hashlib\n",
    "    image_path, base_output_directory, damage_classes = args\n",
    "\n",
    "    try:\n",
    "        seed = int(hashlib.sha256(image_path.encode()).hexdigest(), 16) % (2**32)\n",
    "        random.seed(seed)\n",
    "\n",
    "        damage_class = random.choice(damage_classes)\n",
    "        damage_type_name = damage_class.__name__\n",
    "\n",
    "        image_identifier = os.path.splitext(os.path.basename(image_path))[0]\n",
    "        original_image_filename = os.path.basename(image_path)\n",
    "        damage_type_safe = \"\".join(c if c.isalnum() else \"_\" for c in damage_type_name)\n",
    "\n",
    "        base_filename = f\"{image_identifier}-{damage_type_safe}\"\n",
    "        damaged_output_dir = os.path.join(base_output_directory, \"generated-damaged-images-v4\")\n",
    "        damage_mask_dir = os.path.join(base_output_directory, \"generated-damage-masks-v4\")\n",
    "\n",
    "        damaged_image_path = os.path.join(damaged_output_dir, f\"{base_filename}.png\")\n",
    "        mask_image_path = os.path.join(damage_mask_dir, f\"{base_filename}-mask.png\")\n",
    "\n",
    "        if not (os.path.exists(damaged_image_path) and os.path.exists(mask_image_path)):\n",
    "            original_image = Image.open(image_path).convert(\"RGB\")\n",
    "            damage_instance = damage_class()\n",
    "            damaged_image, damage_mask = damage_instance.apply(original_image.copy())\n",
    "\n",
    "            os.makedirs(damaged_output_dir, exist_ok=True)\n",
    "            os.makedirs(damage_mask_dir, exist_ok=True)\n",
    "\n",
    "            damaged_image.save(damaged_image_path)\n",
    "            damage_mask.save(mask_image_path)\n",
    "\n",
    "        return {\n",
    "            \"image_identifier\": image_identifier,\n",
    "            \"original_image_filename\": original_image_filename,\n",
    "            \"damage_type\": damage_type_name,\n",
    "            \"original_image_path\": image_path,\n",
    "            \"damaged_image_path\": damaged_image_path,\n",
    "            \"mask_image_path\": mask_image_path\n",
    "        }\n",
    "\n",
    "    except Exception as e:\n",
    "        image_filename_fallback = os.path.basename(image_path)\n",
    "        print(f\"[ERROR] {image_filename_fallback}: {e}\")\n",
    "        return None\n"
   ]
  },
  {
   "cell_type": "code",
   "execution_count": 21,
   "id": "0fe708b9-4565-4cec-b430-07011c30d1c5",
   "metadata": {
    "execution": {
     "iopub.execute_input": "2025-05-31T08:45:46.404502Z",
     "iopub.status.busy": "2025-05-31T08:45:46.403702Z",
     "iopub.status.idle": "2025-05-31T08:45:46.430637Z",
     "shell.execute_reply": "2025-05-31T08:45:46.428733Z",
     "shell.execute_reply.started": "2025-05-31T08:45:46.404427Z"
    }
   },
   "outputs": [],
   "source": [
    "def process_all_images(\n",
    "    image_directory,\n",
    "    base_output_directory,\n",
    "    metadata_output_path,\n",
    "    damage_classes,\n",
    "    sample_size=None,\n",
    "    max_workers=None\n",
    "):\n",
    "    \"\"\"\n",
    "    Applies 1 randomly chosen damage type (including NoDamage) per image using multiprocessing.\n",
    "    Each image may generate multiple variants. Metadata is saved in a JSON file.\n",
    "\n",
    "    Args:\n",
    "        image_directory (str): Folder of input images.\n",
    "        base_output_directory (str): Where to save damaged images and masks.\n",
    "        metadata_output_path (str): Path to the output .json metadata file.\n",
    "        damage_classes (list): List of available damage class types (e.g., [Scratch, Water, NoDamage]).\n",
    "        sample_size (int, optional): Number of images to process. If None, use all.\n",
    "        max_workers (int, optional): Max number of parallel workers.\n",
    "\n",
    "    Returns:\n",
    "        None\n",
    "    \"\"\"\n",
    "    from concurrent.futures import ProcessPoolExecutor, as_completed\n",
    "    import json\n",
    "    from tqdm import tqdm\n",
    "    from collections import Counter\n",
    "\n",
    "    valid_extensions = ('.png', '.jpg', '.jpeg', '.bmp', '.tiff', '.webp')\n",
    "    image_paths = [\n",
    "        os.path.join(image_directory, fname)\n",
    "        for fname in os.listdir(image_directory)\n",
    "        if fname.lower().endswith(valid_extensions)\n",
    "    ]\n",
    "\n",
    "    if sample_size:\n",
    "        rng = random.Random(42)\n",
    "        image_paths = rng.sample(image_paths, k=sample_size)\n",
    "\n",
    "    rng = random.Random(42)\n",
    "    all_args = []\n",
    "    \n",
    "    for image_path in image_paths:\n",
    "        # ~10% chance of NoDamage, ~90% chance of real damage\n",
    "        if rng.random() < 0.1:\n",
    "            selected_damage = NoDamage\n",
    "        else:\n",
    "            real_damages = [d for d in damage_classes if d.__name__ != \"NoDamage\"]\n",
    "            selected_damage = rng.choice(real_damages)\n",
    "\n",
    "        all_args.append((image_path, base_output_directory, [selected_damage]))\n",
    "\n",
    "    metadata = []\n",
    "\n",
    "    with ProcessPoolExecutor(max_workers=max_workers) as executor:\n",
    "        futures = {executor.submit(process_image, args): args for args in all_args}\n",
    "        for future in tqdm(as_completed(futures), total=len(futures), desc=\"Processing\"):\n",
    "            result = future.result()\n",
    "            if result is not None:\n",
    "                metadata.append(result)\n",
    "\n",
    "    from collections import Counter\n",
    "    damage_counter = Counter([entry['damage_type'] for entry in metadata])\n",
    "\n",
    "    with open(metadata_output_path, \"w\") as f:\n",
    "        json.dump(metadata, f, indent=2)\n",
    "\n",
    "    print(f\"Saved {len(metadata)} image variants to '{metadata_output_path}'.\")\n",
    "    print(\"Damage type distribution:\")\n",
    "    for damage_type, count in damage_counter.items():\n",
    "        print(f\"- {damage_type}: {count}\")\n"
   ]
  },
  {
   "cell_type": "code",
   "execution_count": 22,
   "id": "dab0f01e-d139-4afe-a18d-6a67dadcd123",
   "metadata": {
    "execution": {
     "iopub.execute_input": "2025-05-31T08:45:47.864499Z",
     "iopub.status.busy": "2025-05-31T08:45:47.863685Z",
     "iopub.status.idle": "2025-05-31T08:46:02.609963Z",
     "shell.execute_reply": "2025-05-31T08:46:02.608102Z",
     "shell.execute_reply.started": "2025-05-31T08:45:47.864424Z"
    }
   },
   "outputs": [
    {
     "name": "stderr",
     "output_type": "stream",
     "text": [
      "Processing: 100%|██████████| 34579/34579 [00:11<00:00, 2955.30it/s]\n"
     ]
    },
    {
     "name": "stdout",
     "output_type": "stream",
     "text": [
      "Saved 34579 image variants to '../../data/damage_metadata_v4.json'.\n",
      "Damage type distribution:\n",
      "- CraquelureDamage: 10413\n",
      "- ScratchDamage: 10261\n",
      "- WaterDiscolouration: 10432\n",
      "- NoDamage: 3473\n"
     ]
    }
   ],
   "source": [
    "process_all_images(\n",
    "    image_directory=\"../../data/img/full\",\n",
    "    base_output_directory=\"../../data/v4-damaged-and-mask-multiprocessing\",\n",
    "    metadata_output_path=\"../../data/damage_metadata_v4.json\",\n",
    "    damage_classes=[ScratchDamage, WaterDiscolouration, CraquelureDamage, NoDamage],\n",
    "    sample_size=None,\n",
    "    max_workers=None\n",
    ")"
   ]
  },
  {
   "cell_type": "code",
   "execution_count": 23,
   "id": "eb6a08d0-72cc-48cb-9459-0d27a47b9ff5",
   "metadata": {
    "execution": {
     "iopub.execute_input": "2025-05-31T09:05:13.221333Z",
     "iopub.status.busy": "2025-05-31T09:05:13.220470Z",
     "iopub.status.idle": "2025-05-31T09:05:15.608726Z",
     "shell.execute_reply": "2025-05-31T09:05:15.606997Z",
     "shell.execute_reply.started": "2025-05-31T09:05:13.221252Z"
    }
   },
   "outputs": [
    {
     "name": "stdout",
     "output_type": "stream",
     "text": [
      "Metadata file shape:\n",
      "(34579, 6)\n",
      "Columns:\n",
      "['image_identifier', 'original_image_filename', 'damage_type', 'original_image_path', 'damaged_image_path', 'mask_image_path']\n"
     ]
    },
    {
     "data": {
      "text/html": [
       "<div>\n",
       "<style scoped>\n",
       "    .dataframe tbody tr th:only-of-type {\n",
       "        vertical-align: middle;\n",
       "    }\n",
       "\n",
       "    .dataframe tbody tr th {\n",
       "        vertical-align: top;\n",
       "    }\n",
       "\n",
       "    .dataframe thead th {\n",
       "        text-align: right;\n",
       "    }\n",
       "</style>\n",
       "<table border=\"1\" class=\"dataframe\">\n",
       "  <thead>\n",
       "    <tr style=\"text-align: right;\">\n",
       "      <th></th>\n",
       "      <th>image_identifier</th>\n",
       "      <th>original_image_filename</th>\n",
       "      <th>damage_type</th>\n",
       "      <th>original_image_path</th>\n",
       "      <th>damaged_image_path</th>\n",
       "      <th>mask_image_path</th>\n",
       "    </tr>\n",
       "  </thead>\n",
       "  <tbody>\n",
       "    <tr>\n",
       "      <th>0</th>\n",
       "      <td>f6d9aa5267e8e95e5cda617f33b7edae8886105e</td>\n",
       "      <td>f6d9aa5267e8e95e5cda617f33b7edae8886105e.jpg</td>\n",
       "      <td>CraquelureDamage</td>\n",
       "      <td>../../data/img/full/f6d9aa5267e8e95e5cda617f33...</td>\n",
       "      <td>../../data/v4-damaged-and-mask-multiprocessing...</td>\n",
       "      <td>../../data/v4-damaged-and-mask-multiprocessing...</td>\n",
       "    </tr>\n",
       "    <tr>\n",
       "      <th>1</th>\n",
       "      <td>0640fb1733fe9359814714a54ecfb2849e5c08ea</td>\n",
       "      <td>0640fb1733fe9359814714a54ecfb2849e5c08ea.jpg</td>\n",
       "      <td>CraquelureDamage</td>\n",
       "      <td>../../data/img/full/0640fb1733fe9359814714a54e...</td>\n",
       "      <td>../../data/v4-damaged-and-mask-multiprocessing...</td>\n",
       "      <td>../../data/v4-damaged-and-mask-multiprocessing...</td>\n",
       "    </tr>\n",
       "    <tr>\n",
       "      <th>2</th>\n",
       "      <td>a9bc1949817b9419bbeb18a888eb47f9fad2fa05</td>\n",
       "      <td>a9bc1949817b9419bbeb18a888eb47f9fad2fa05.jpg</td>\n",
       "      <td>ScratchDamage</td>\n",
       "      <td>../../data/img/full/a9bc1949817b9419bbeb18a888...</td>\n",
       "      <td>../../data/v4-damaged-and-mask-multiprocessing...</td>\n",
       "      <td>../../data/v4-damaged-and-mask-multiprocessing...</td>\n",
       "    </tr>\n",
       "    <tr>\n",
       "      <th>3</th>\n",
       "      <td>1e3d58100cc827f07ed9a80806e495f9893cf53e</td>\n",
       "      <td>1e3d58100cc827f07ed9a80806e495f9893cf53e.jpg</td>\n",
       "      <td>ScratchDamage</td>\n",
       "      <td>../../data/img/full/1e3d58100cc827f07ed9a80806...</td>\n",
       "      <td>../../data/v4-damaged-and-mask-multiprocessing...</td>\n",
       "      <td>../../data/v4-damaged-and-mask-multiprocessing...</td>\n",
       "    </tr>\n",
       "    <tr>\n",
       "      <th>4</th>\n",
       "      <td>065238b501fcb9a930a701a2665aa3d77f3af3b6</td>\n",
       "      <td>065238b501fcb9a930a701a2665aa3d77f3af3b6.jpg</td>\n",
       "      <td>WaterDiscolouration</td>\n",
       "      <td>../../data/img/full/065238b501fcb9a930a701a266...</td>\n",
       "      <td>../../data/v4-damaged-and-mask-multiprocessing...</td>\n",
       "      <td>../../data/v4-damaged-and-mask-multiprocessing...</td>\n",
       "    </tr>\n",
       "  </tbody>\n",
       "</table>\n",
       "</div>"
      ],
      "text/plain": [
       "                           image_identifier  \\\n",
       "0  f6d9aa5267e8e95e5cda617f33b7edae8886105e   \n",
       "1  0640fb1733fe9359814714a54ecfb2849e5c08ea   \n",
       "2  a9bc1949817b9419bbeb18a888eb47f9fad2fa05   \n",
       "3  1e3d58100cc827f07ed9a80806e495f9893cf53e   \n",
       "4  065238b501fcb9a930a701a2665aa3d77f3af3b6   \n",
       "\n",
       "                        original_image_filename          damage_type  \\\n",
       "0  f6d9aa5267e8e95e5cda617f33b7edae8886105e.jpg     CraquelureDamage   \n",
       "1  0640fb1733fe9359814714a54ecfb2849e5c08ea.jpg     CraquelureDamage   \n",
       "2  a9bc1949817b9419bbeb18a888eb47f9fad2fa05.jpg        ScratchDamage   \n",
       "3  1e3d58100cc827f07ed9a80806e495f9893cf53e.jpg        ScratchDamage   \n",
       "4  065238b501fcb9a930a701a2665aa3d77f3af3b6.jpg  WaterDiscolouration   \n",
       "\n",
       "                                 original_image_path  \\\n",
       "0  ../../data/img/full/f6d9aa5267e8e95e5cda617f33...   \n",
       "1  ../../data/img/full/0640fb1733fe9359814714a54e...   \n",
       "2  ../../data/img/full/a9bc1949817b9419bbeb18a888...   \n",
       "3  ../../data/img/full/1e3d58100cc827f07ed9a80806...   \n",
       "4  ../../data/img/full/065238b501fcb9a930a701a266...   \n",
       "\n",
       "                                  damaged_image_path  \\\n",
       "0  ../../data/v4-damaged-and-mask-multiprocessing...   \n",
       "1  ../../data/v4-damaged-and-mask-multiprocessing...   \n",
       "2  ../../data/v4-damaged-and-mask-multiprocessing...   \n",
       "3  ../../data/v4-damaged-and-mask-multiprocessing...   \n",
       "4  ../../data/v4-damaged-and-mask-multiprocessing...   \n",
       "\n",
       "                                     mask_image_path  \n",
       "0  ../../data/v4-damaged-and-mask-multiprocessing...  \n",
       "1  ../../data/v4-damaged-and-mask-multiprocessing...  \n",
       "2  ../../data/v4-damaged-and-mask-multiprocessing...  \n",
       "3  ../../data/v4-damaged-and-mask-multiprocessing...  \n",
       "4  ../../data/v4-damaged-and-mask-multiprocessing...  "
      ]
     },
     "execution_count": 23,
     "metadata": {},
     "output_type": "execute_result"
    }
   ],
   "source": [
    "import pandas as pd\n",
    "with open('../../data/damage_metadata_v4.json', 'r', encoding='utf-8') as f:\n",
    "    metadata_list = json.load(f)\n",
    "df = pd.DataFrame(metadata_list)\n",
    "print(f'Metadata file shape:\\n{df.shape}')\n",
    "print(f'Columns:\\n{list(df.columns)}')\n",
    "df.head()"
   ]
  }
 ],
 "metadata": {
  "kernelspec": {
   "display_name": "art-restoration-ai",
   "language": "python",
   "name": "art-restoration-ai"
  },
  "language_info": {
   "codemirror_mode": {
    "name": "ipython",
    "version": 3
   },
   "file_extension": ".py",
   "mimetype": "text/x-python",
   "name": "python",
   "nbconvert_exporter": "python",
   "pygments_lexer": "ipython3",
   "version": "3.10.13"
  }
 },
 "nbformat": 4,
 "nbformat_minor": 5
}

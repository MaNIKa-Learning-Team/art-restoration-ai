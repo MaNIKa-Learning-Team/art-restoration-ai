{
 "cells": [
  {
   "cell_type": "markdown",
   "id": "d82108b2-7513-4fd4-8948-718d67019712",
   "metadata": {},
   "source": [
    "# Apply Damage and Save Dataset\n",
    "Run the function below to apply the damages per image and save the damaged version and their respective masks in their corresponding directory."
   ]
  },
  {
   "cell_type": "code",
   "execution_count": 38,
   "id": "3269131d-5cc2-45c3-aba9-a9113a84cbca",
   "metadata": {
    "execution": {
     "iopub.execute_input": "2025-05-29T14:56:18.788265Z",
     "iopub.status.busy": "2025-05-29T14:56:18.786476Z",
     "iopub.status.idle": "2025-05-29T14:56:18.797445Z",
     "shell.execute_reply": "2025-05-29T14:56:18.795653Z",
     "shell.execute_reply.started": "2025-05-29T14:56:18.788186Z"
    }
   },
   "outputs": [],
   "source": [
    "# Ensure src is in the import path\n",
    "import os\n",
    "import sys\n",
    "\n",
    "project_root = os.path.abspath(\"..\")\n",
    "src_path = os.path.join(project_root, \"src\")\n",
    "if src_path not in sys.path:\n",
    "    sys.path.append(src_path)"
   ]
  },
  {
   "cell_type": "code",
   "execution_count": 39,
   "id": "cd355810-aa73-4f5c-87bc-e81e097c4b17",
   "metadata": {
    "execution": {
     "iopub.execute_input": "2025-05-29T14:56:19.222718Z",
     "iopub.status.busy": "2025-05-29T14:56:19.221385Z",
     "iopub.status.idle": "2025-05-29T14:56:19.231422Z",
     "shell.execute_reply": "2025-05-29T14:56:19.229621Z",
     "shell.execute_reply.started": "2025-05-29T14:56:19.222640Z"
    }
   },
   "outputs": [],
   "source": [
    "import json\n",
    "import random\n",
    "import numpy as np\n",
    "from PIL import Image, ImageDraw, ImageFilter\n",
    "\n",
    "# Import damage classes\n",
    "from maskerada import ScratchDamage, WaterDiscolouration, CraquelureDamage, NoDamage"
   ]
  },
  {
   "cell_type": "code",
   "execution_count": 40,
   "id": "b62a9448-2afd-4f1f-aab2-4f5d45092635",
   "metadata": {
    "execution": {
     "iopub.execute_input": "2025-05-29T14:56:26.419808Z",
     "iopub.status.busy": "2025-05-29T14:56:26.418146Z",
     "iopub.status.idle": "2025-05-29T14:56:26.439290Z",
     "shell.execute_reply": "2025-05-29T14:56:26.437611Z",
     "shell.execute_reply.started": "2025-05-29T14:56:26.419699Z"
    }
   },
   "outputs": [],
   "source": [
    "def apply_and_save_damage_set(\n",
    "    original_image_pil,\n",
    "    image_identifier,\n",
    "    damage_applicator_instance,\n",
    "    damage_type_name,\n",
    "    base_output_directory\n",
    "):\n",
    "    \"\"\"\n",
    "    Applies a given damage to an image, saves the damaged image into\n",
    "    a subdirectory.\n",
    "    \"\"\"\n",
    "    print(f\"Applying {damage_type_name} damage to '{image_identifier}'...\")\n",
    "\n",
    "    image_to_damage = original_image_pil.copy()\n",
    "    damaged_image, damage_mask = damage_applicator_instance.apply(image_to_damage)\n",
    "\n",
    "    # Define output subdirectories\n",
    "    damaged_output_dir = os.path.join(\n",
    "        base_output_directory, \"generated-damaged-images\"\n",
    "    )\n",
    "    os.makedirs(damaged_output_dir, exist_ok=True)\n",
    "\n",
    "    damage_mask_dir = os.path.join(\n",
    "        base_output_directory, \"generated-damage-masks\"\n",
    "    )\n",
    "    os.makedirs(damage_mask_dir, exist_ok=True)\n",
    "\n",
    "    # Prepare filename\n",
    "    id_str = str(image_identifier)\n",
    "    id_str_base, id_str_ext = os.path.splitext(id_str)\n",
    "\n",
    "    if id_str_ext.lower() in (\n",
    "        '.jpg', '.jpeg', '.png', '.gif', '.bmp', '.tiff', '.webp'\n",
    "    ):\n",
    "        id_str = id_str_base\n",
    "\n",
    "    damage_type_name = \"\".join(\n",
    "        c if c.isalnum() else '_' for c in damage_type_name\n",
    "    )\n",
    "    base_filename = f\"{id_str}-{damage_type_name}\"\n",
    "    damaged_filename = f\"{base_filename}.png\"\n",
    "    damaged_image_path = os.path.join(damaged_output_dir, damaged_filename)\n",
    "    mask_filename = f\"{base_filename}-mask.png\"\n",
    "    mask_image_path = os.path.join(damage_mask_dir, mask_filename)\n",
    "\n",
    "    # Save damaged image\n",
    "    try:\n",
    "        damaged_image.save(damaged_image_path)\n",
    "        damage_mask.save(mask_image_path)\n",
    "    except Exception as e:\n",
    "        print(\n",
    "            f\"  Error saving images for {damage_type_name} \"\n",
    "            f\"on {image_identifier}: {e}\"\n",
    "        )\n",
    "\n",
    "    return {\n",
    "        \"image_identifier\": image_identifier,\n",
    "        \"damage_type\": damage_type_name,\n",
    "        \"original_image_path\": (\n",
    "            original_image_pil.filename\n",
    "            if hasattr(original_image_pil, 'filename') else None\n",
    "        ),\n",
    "        \"damaged_image_path\": damaged_image_path,\n",
    "        \"mask_image_path\": mask_image_path,\n",
    "    }\n"
   ]
  },
  {
   "cell_type": "markdown",
   "id": "3d7053c6-e5fb-4dcd-982f-94798df25991",
   "metadata": {},
   "source": [
    "Note that the function above was modified from its original to include a `return` statement for the image file paths and remove the references to the mask.\n",
    "\n",
    "**Original Function:**\n",
    "```\n",
    "import random\n",
    "import numpy as np\n",
    "from PIL import Image, ImageDraw, ImageFilter\n",
    "import os\n",
    "\n",
    "def apply_and_save_damage_set(original_image_pil, image_identifier,\n",
    "                              damage_applicator_instance, damage_type_name,\n",
    "                              base_output_directory):\n",
    "    \"\"\"\n",
    "    Applies a given damage to an image, saves the damaged image and its mask\n",
    "    into respective subdirectories.\n",
    "\n",
    "    Args:\n",
    "        original_image_pil (PIL.Image): The original clean image.\n",
    "        image_identifier (str or int): A unique identifier for the image (e.g., \"Image_001\", \n",
    "                                     a filename like \"hash.jpg\", or an index).\n",
    "        damage_applicator_instance (object): An instance of a damage class (e.g., TearDamage()).\n",
    "        damage_type_name (str): A string to identify the damage type in filenames (e.g., \"Tears\").\n",
    "        base_output_directory (str): Base directory to save the output images.\n",
    "                                     Subdirectories 'damaged-images' and 'masks' will be created here.\n",
    "    \"\"\"\n",
    "    print(f\"Applying {damage_type_name} damage to '{image_identifier}'...\")\n",
    "    \n",
    "    image_to_damage = original_image_pil.copy() \n",
    "    damaged_image, damage_mask = damage_applicator_instance.apply(image_to_damage)\n",
    "\n",
    "    # Define output subdirectories\n",
    "    damaged_output_dir = os.path.join(base_output_directory, \"damaged-images\")\n",
    "    mask_output_dir = os.path.join(base_output_directory, \"masks\")\n",
    "\n",
    "    # Create subdirectories if they don't exist\n",
    "    os.makedirs(damaged_output_dir, exist_ok=True)\n",
    "    os.makedirs(mask_output_dir, exist_ok=True)\n",
    "\n",
    "    # Prepare image identifier for filename (strip extension if it's a filename)\n",
    "    id_str = str(image_identifier)\n",
    "    id_str_base, id_str_ext = os.path.splitext(id_str)\n",
    "    if id_str_ext.lower() in ['.jpg', '.jpeg', '.png', '.gif', '.bmp', '.tiff', '.webp']:\n",
    "        id_str = id_str_base # Use only the base name without the extension\n",
    "    \n",
    "    # Sanitize damage_type_name for filename\n",
    "    safe_damage_type_name = \"\".join(c if c.isalnum() else '_' for c in damage_type_name)\n",
    "        \n",
    "    base_filename = f\"{id_str} {safe_damage_type_name}\" \n",
    "\n",
    "    damaged_filename = f\"{base_filename}.png\"\n",
    "    mask_filename = f\"{base_filename}_mask.png\"\n",
    "\n",
    "    damaged_image_path = os.path.join(damaged_output_dir, damaged_filename)\n",
    "    mask_image_path = os.path.join(mask_output_dir, mask_filename)\n",
    "\n",
    "    # Save the images\n",
    "    try:\n",
    "        damaged_image.save(damaged_image_path)\n",
    "        damage_mask.save(mask_image_path)\n",
    "    except Exception as e:\n",
    "        print(f\"  Error saving images for {damage_type_name} on {image_identifier}: {e}\")\n",
    "\n",
    "```"
   ]
  },
  {
   "cell_type": "markdown",
   "id": "42cf596d-0017-463c-82fb-e9c918ebf90b",
   "metadata": {},
   "source": [
    "## Test with a sample image"
   ]
  },
  {
   "cell_type": "code",
   "execution_count": 5,
   "id": "053ebe64-5fe8-4c47-be82-d1c45a337beb",
   "metadata": {
    "execution": {
     "iopub.execute_input": "2025-05-29T13:38:15.687449Z",
     "iopub.status.busy": "2025-05-29T13:38:15.685475Z",
     "iopub.status.idle": "2025-05-29T13:38:16.124736Z",
     "shell.execute_reply": "2025-05-29T13:38:16.124009Z",
     "shell.execute_reply.started": "2025-05-29T13:38:15.687363Z"
    }
   },
   "outputs": [
    {
     "name": "stdout",
     "output_type": "stream",
     "text": [
      "Applying ScratchDamage damage to 'your_image'...\n",
      "Applying WaterDiscolouration damage to 'your_image'...\n",
      "Applying CraquelureDamage damage to 'your_image'...\n",
      "Applying NoDamage damage to 'your_image'...\n"
     ]
    }
   ],
   "source": [
    "# Load your original image\n",
    "original_image = Image.open(\"../data/sample-image-canvas-oil-Le-Moulin-de-la-Galette-1876.png\")\n",
    "\n",
    "# Define damage instances\n",
    "damage_types = [\n",
    "    ScratchDamage(),\n",
    "    WaterDiscolouration(),\n",
    "    CraquelureDamage(),\n",
    "    NoDamage()\n",
    "]\n",
    "\n",
    "# Output base directory\n",
    "base_output_directory = \"../data/sample-damaged-and-mask-data\"\n",
    "\n",
    "# Metadata collector\n",
    "damage_metadata = []\n",
    "\n",
    "# Apply each damage separately\n",
    "for dmg_instance in damage_types:\n",
    "    result = apply_and_save_damage_set(\n",
    "        original_image_pil=original_image,\n",
    "        image_identifier=\"your_image\",\n",
    "        damage_applicator_instance=dmg_instance,\n",
    "        damage_type_name=dmg_instance.__class__.__name__,\n",
    "        base_output_directory=base_output_directory\n",
    "    )\n",
    "    damage_metadata.append(result)\n",
    "\n",
    "# Save metadata to JSON\n",
    "with open(\"../data/damage_metadata.json\", \"w\") as f:\n",
    "    json.dump(damage_metadata, f, indent=2)\n"
   ]
  },
  {
   "cell_type": "markdown",
   "id": "a3a4fde6-f343-4e6c-8841-0d7decb7007c",
   "metadata": {},
   "source": [
    "## Generate 5 random damaged paintings from the dataset"
   ]
  },
  {
   "cell_type": "markdown",
   "id": "656dca14-1600-4412-b63f-f409f7b12450",
   "metadata": {},
   "source": [
    "This script applies a randomly chosen type of damage—such as scratches, water discoloration, or craquelure—to a fixed random sample of images from a directory. A set random seed ensures the same images are selected each time, while the damage effects remain varied. The script saves each damaged image to an output folder and logs metadata including the original filename, damage type, and file paths. All metadata is saved to a JSON file for easy tracking or later use in tasks like training or evaluating image restoration models."
   ]
  },
  {
   "cell_type": "code",
   "execution_count": 5,
   "id": "53622f9c-ade0-450d-94de-6c7d94639c6d",
   "metadata": {
    "execution": {
     "iopub.execute_input": "2025-05-26T13:41:58.341888Z",
     "iopub.status.busy": "2025-05-26T13:41:58.341097Z",
     "iopub.status.idle": "2025-05-26T13:42:00.777234Z",
     "shell.execute_reply": "2025-05-26T13:42:00.776176Z",
     "shell.execute_reply.started": "2025-05-26T13:41:58.341810Z"
    }
   },
   "outputs": [
    {
     "name": "stdout",
     "output_type": "stream",
     "text": [
      "Applying CraquelureDamage damage to '2272e22dcc68d4482b697b4483f9b82f79da494b'...\n",
      "Applying CraquelureDamage damage to '4ab128c6628cc70c24da63f736a14194a058b923'...\n",
      "Applying ScratchDamage damage to 'd73cb8d6a2be216deb26aa3107defdb9e01620f7'...\n",
      "Applying CraquelureDamage damage to 'ca7b1c5efc57c3c978be8365c54ab4e54b8e4723'...\n",
      "Applying ScratchDamage damage to '43ecd8a9fe1d83d96ad40ab59ac44127cffd38f5'...\n"
     ]
    }
   ],
   "source": [
    "# Define source and output directories\n",
    "image_directory = \"../data/img/full\"\n",
    "base_output_directory = \"../data/sample-damaged-and-mask-data\"\n",
    "metadata_output_path = \"../data/damage_metadata.json\"\n",
    "\n",
    "# Collect all image paths from the directory\n",
    "valid_extensions = ('.png', '.jpg', '.jpeg', '.bmp', '.tiff', '.webp')\n",
    "image_paths = [\n",
    "    os.path.join(image_directory, fname)\n",
    "    for fname in os.listdir(image_directory)\n",
    "    if fname.lower().endswith(valid_extensions)\n",
    "]\n",
    "\n",
    "# Set a separate seed for sampling\n",
    "sampling_rng = random.Random(42)\n",
    "\n",
    "# Sample image paths reproducibly\n",
    "image_paths = sampling_rng.sample(image_paths, k=5)\n",
    "\n",
    "# Define damage instances\n",
    "damage_classes = [ScratchDamage, WaterDiscolouration, CraquelureDamage]\n",
    "\n",
    "# Metadata collector\n",
    "damage_metadata = []\n",
    "\n",
    "# Apply random damage to each image\n",
    "for img_path in image_paths:\n",
    "    try:\n",
    "        original_image = Image.open(img_path)\n",
    "        damage_class = random.choice(damage_classes)\n",
    "        damage_instance = damage_class()\n",
    "\n",
    "        result = apply_and_save_damage_set(\n",
    "            original_image_pil=original_image,\n",
    "            image_identifier=os.path.splitext(os.path.basename(img_path))[0],\n",
    "            damage_applicator_instance=damage_instance,\n",
    "            damage_type_name=damage_class.__name__,\n",
    "            base_output_directory=base_output_directory\n",
    "        )\n",
    "\n",
    "        damage_metadata.append(result)\n",
    "\n",
    "    except Exception as e:\n",
    "        print(f\"Error processing '{img_path}': {e}\")\n",
    "\n",
    "# Save metadata to JSON\n",
    "with open(metadata_output_path, \"w\") as f:\n",
    "    json.dump(damage_metadata, f, indent=2)\n"
   ]
  },
  {
   "cell_type": "markdown",
   "id": "04eb6985-1d0b-4d71-9d8f-925c440aafe1",
   "metadata": {},
   "source": [
    "---"
   ]
  },
  {
   "cell_type": "markdown",
   "id": "e18a7b5b-7a6a-4e40-9024-a1e77ec58e19",
   "metadata": {},
   "source": [
    "# Generating the Actual Dataset"
   ]
  },
  {
   "cell_type": "markdown",
   "id": "8f8a98bf-41ba-4378-bd8a-22c5e037ddf3",
   "metadata": {},
   "source": [
    "**PLEASE RUN THIS IN THE SEPARATE NOTEBOOK PROVIDED: notebooks/generate-damage-mask-dataset.ipynb**\n",
    "\n",
    "This script applies one random, reproducible damage effect (e.g., scratches, water discoloration, or craquelure) to each image in a dataset. It uses multiprocessing to speed up processing across multiple CPU cores, saving both the damaged image and its corresponding damage mask. A metadata file is generated to track the original image, damage type applied, and output file paths."
   ]
  },
  {
   "cell_type": "code",
   "execution_count": 41,
   "id": "6def6f94-6a66-4c5d-bd6c-a3e73f7e5d58",
   "metadata": {
    "execution": {
     "iopub.execute_input": "2025-05-29T14:56:36.645522Z",
     "iopub.status.busy": "2025-05-29T14:56:36.643999Z",
     "iopub.status.idle": "2025-05-29T14:56:36.657456Z",
     "shell.execute_reply": "2025-05-29T14:56:36.655620Z",
     "shell.execute_reply.started": "2025-05-29T14:56:36.645446Z"
    }
   },
   "outputs": [],
   "source": [
    "import os\n",
    "import sys\n",
    "project_root = os.path.abspath(\"..\")\n",
    "src_path = os.path.join(project_root, \"src\")\n",
    "if src_path not in sys.path:\n",
    "    sys.path.append(src_path)\n",
    "\n",
    "import json\n",
    "import random\n",
    "import hashlib\n",
    "from concurrent.futures import ProcessPoolExecutor, as_completed\n",
    "\n",
    "import numpy as np\n",
    "from PIL import Image, ImageDraw, ImageFilter\n",
    "from tqdm import tqdm\n",
    "\n",
    "# Import damage classes\n",
    "from maskerada import ScratchDamage, WaterDiscolouration, CraquelureDamage, NoDamage"
   ]
  },
  {
   "cell_type": "code",
   "execution_count": 42,
   "id": "72480902-bd3e-46b7-b4b5-86825f471e01",
   "metadata": {
    "execution": {
     "iopub.execute_input": "2025-05-29T14:56:40.037541Z",
     "iopub.status.busy": "2025-05-29T14:56:40.036173Z",
     "iopub.status.idle": "2025-05-29T14:56:40.046999Z",
     "shell.execute_reply": "2025-05-29T14:56:40.045328Z",
     "shell.execute_reply.started": "2025-05-29T14:56:40.037464Z"
    }
   },
   "outputs": [],
   "source": [
    "# --- Utility: Generate a reproducible seed per image path ---\n",
    "def get_deterministic_seed(image_path):\n",
    "    \"\"\"\n",
    "    Generates a reproducible integer seed from the image path.\n",
    "\n",
    "    This ensures consistent random behavior per image across runs,\n",
    "    even when processed in parallel.\n",
    "\n",
    "    Args:\n",
    "        image_path (str): Full path to the image.\n",
    "\n",
    "    Returns:\n",
    "        int: A 32-bit integer seed derived from the image path.\n",
    "    \"\"\"\n",
    "    return int(hashlib.sha256(image_path.encode()).hexdigest(), 16) % (2**32)"
   ]
  },
  {
   "cell_type": "code",
   "execution_count": 43,
   "id": "5338aadd-6902-45c5-9fb5-c8470da80d23",
   "metadata": {
    "execution": {
     "iopub.execute_input": "2025-05-29T14:56:48.877323Z",
     "iopub.status.busy": "2025-05-29T14:56:48.876343Z",
     "iopub.status.idle": "2025-05-29T14:56:48.898953Z",
     "shell.execute_reply": "2025-05-29T14:56:48.897333Z",
     "shell.execute_reply.started": "2025-05-29T14:56:48.877246Z"
    }
   },
   "outputs": [],
   "source": [
    "def process_image(args):\n",
    "    \"\"\"\n",
    "    Processes a single image by applying one randomly selected damage type.\n",
    "    Skips processing if output files already exist. Returns metadata if successful.\n",
    "\n",
    "    Args:\n",
    "        args (tuple): Contains:\n",
    "            - image_path (str): Path to the input image.\n",
    "            - base_output_directory (str): Where to save results.\n",
    "            - damage_classes (list): List of available damage classes.\n",
    "\n",
    "    Returns:\n",
    "        dict or None: Metadata dictionary if processed, None if skipped or errored.\n",
    "    \"\"\"\n",
    "    image_path, base_output_directory, damage_classes = args\n",
    "\n",
    "    try:\n",
    "        seed = int(hashlib.sha256(image_path.encode()).hexdigest(), 16) % (2**32)\n",
    "        random.seed(seed)\n",
    "\n",
    "        damage_class = random.choice(damage_classes)\n",
    "        damage_type_name = damage_class.__name__\n",
    "\n",
    "        image_identifier = os.path.splitext(os.path.basename(image_path))[0]\n",
    "        original_image_filename = os.path.basename(image_path)\n",
    "        damage_type_safe = \"\".join(c if c.isalnum() else \"_\" for c in damage_type_name)\n",
    "\n",
    "        base_filename = f\"{image_identifier}-{damage_type_safe}\"\n",
    "        damaged_output_dir = os.path.join(base_output_directory, \"generated-damaged-images-v2\")\n",
    "        damage_mask_dir = os.path.join(base_output_directory, \"generated-damage-masks-v2\")\n",
    "\n",
    "        damaged_image_path = os.path.join(damaged_output_dir, f\"{base_filename}.png\")\n",
    "        mask_image_path = os.path.join(damage_mask_dir, f\"{base_filename}-mask.png\")\n",
    "\n",
    "        if os.path.exists(damaged_image_path) and os.path.exists(mask_image_path):\n",
    "            return None  # Skip if already processed\n",
    "\n",
    "        original_image = Image.open(image_path).convert(\"RGB\")\n",
    "        damage_instance = damage_class()\n",
    "        damaged_image, damage_mask = damage_instance.apply(original_image.copy())\n",
    "\n",
    "        os.makedirs(damaged_output_dir, exist_ok=True)\n",
    "        os.makedirs(damage_mask_dir, exist_ok=True)\n",
    "\n",
    "        damaged_image.save(damaged_image_path)\n",
    "        damage_mask.save(mask_image_path)\n",
    "\n",
    "        return {\n",
    "            \"image_identifier\": image_identifier,\n",
    "            \"original_image_filename\": original_image_filename,\n",
    "            \"damage_type\": damage_type_name,\n",
    "            \"original_image_path\": image_path,\n",
    "            \"damaged_image_path\": damaged_image_path,\n",
    "            \"mask_image_path\": mask_image_path\n",
    "        }\n",
    "\n",
    "    except Exception as e:\n",
    "        print(f\"[ERROR] {original_image_filename}: {e}\")\n",
    "        return None\n"
   ]
  },
  {
   "cell_type": "code",
   "execution_count": 32,
   "id": "69199115-2e51-48d1-b277-c74b464b2ede",
   "metadata": {
    "execution": {
     "iopub.execute_input": "2025-05-29T14:17:16.581023Z",
     "iopub.status.busy": "2025-05-29T14:17:16.580197Z",
     "iopub.status.idle": "2025-05-29T14:17:16.592152Z",
     "shell.execute_reply": "2025-05-29T14:17:16.590361Z",
     "shell.execute_reply.started": "2025-05-29T14:17:16.580948Z"
    }
   },
   "outputs": [],
   "source": [
    "# def process_all_images(\n",
    "#     image_directory,\n",
    "#     base_output_directory,\n",
    "#     metadata_output_path,\n",
    "#     damage_classes,\n",
    "#     sample_size=None,\n",
    "#     max_workers=None\n",
    "# ):\n",
    "#     \"\"\"\n",
    "#     Applies one random damage type to each image in the directory using multiprocessing.\n",
    "#     Skips already-processed images and writes valid JSON array metadata at the end.\n",
    "\n",
    "#     Args:\n",
    "#         image_directory (str): Folder of input images.\n",
    "#         base_output_directory (str): Where to save damaged images and masks.\n",
    "#         metadata_output_path (str): Path to the output .json metadata file.\n",
    "#         damage_classes (list): List of available damage class types.\n",
    "#         sample_size (int, optional): Limit number of images processed.\n",
    "#         max_workers (int, optional): Max number of parallel workers.\n",
    "\n",
    "#     Returns:\n",
    "#         None\n",
    "#     \"\"\"\n",
    "#     valid_extensions = ('.png', '.jpg', '.jpeg', '.bmp', '.tiff', '.webp')\n",
    "#     image_paths = [\n",
    "#         os.path.join(image_directory, fname)\n",
    "#         for fname in os.listdir(image_directory)\n",
    "#         if fname.lower().endswith(valid_extensions)\n",
    "#     ]\n",
    "\n",
    "#     if sample_size:\n",
    "#         rng = random.Random(42)\n",
    "#         image_paths = rng.sample(image_paths, k=sample_size)\n",
    "\n",
    "#     all_args = [\n",
    "#         (image_path, base_output_directory, damage_classes)\n",
    "#         for image_path in image_paths\n",
    "#     ]\n",
    "\n",
    "#     metadata = []\n",
    "\n",
    "#     with ProcessPoolExecutor(max_workers=max_workers) as executor:\n",
    "#         futures = {executor.submit(process_image, args): args for args in all_args}\n",
    "#         for future in tqdm(as_completed(futures), total=len(futures), desc=\"Processing\"):\n",
    "#             result = future.result()\n",
    "#             if result is not None:\n",
    "#                 metadata.append(result)\n",
    "\n",
    "#     with open(metadata_output_path, \"w\") as f:\n",
    "#         json.dump(metadata, f, indent=2)\n",
    "\n",
    "#     print(f\"\\nSaved {len(metadata)} entries to '{metadata_output_path}'.\")\n"
   ]
  },
  {
   "cell_type": "code",
   "execution_count": 24,
   "id": "40566c73-8fd8-47bf-b051-5ff94bf4b110",
   "metadata": {
    "execution": {
     "iopub.execute_input": "2025-05-29T14:13:23.772293Z",
     "iopub.status.busy": "2025-05-29T14:13:23.771423Z",
     "iopub.status.idle": "2025-05-29T14:13:23.781225Z",
     "shell.execute_reply": "2025-05-29T14:13:23.779247Z",
     "shell.execute_reply.started": "2025-05-29T14:13:23.772211Z"
    }
   },
   "outputs": [],
   "source": [
    "# process_all_images(\n",
    "#     image_directory=\"../../data/img/full\",\n",
    "#     base_output_directory=\"../../data/sample-damaged-and-mask-multiprocessing-v2\",\n",
    "#     metadata_output_path=\"../../data/damage_metadata_v2.json\",\n",
    "#     damage_classes=[ScratchDamage, WaterDiscolouration, CraquelureDamage, NoDamage],\n",
    "#     sample_size=None,\n",
    "#     max_workers=4\n",
    "# )"
   ]
  },
  {
   "cell_type": "markdown",
   "id": "36e151e4-1001-461e-ac8f-d339cdc3cf67",
   "metadata": {},
   "source": [
    "### Revised Function\n",
    "Revised `process_all_images()` function in order to generate 1 to 2 randomly chosen damage types."
   ]
  },
  {
   "cell_type": "code",
   "execution_count": 44,
   "id": "0fe708b9-4565-4cec-b430-07011c30d1c5",
   "metadata": {
    "execution": {
     "iopub.execute_input": "2025-05-29T14:57:01.346510Z",
     "iopub.status.busy": "2025-05-29T14:57:01.345495Z",
     "iopub.status.idle": "2025-05-29T14:57:01.367732Z",
     "shell.execute_reply": "2025-05-29T14:57:01.366130Z",
     "shell.execute_reply.started": "2025-05-29T14:57:01.346434Z"
    }
   },
   "outputs": [],
   "source": [
    "def process_all_images(\n",
    "    image_directory,\n",
    "    base_output_directory,\n",
    "    metadata_output_path,\n",
    "    damage_classes,\n",
    "    sample_size=None,\n",
    "    max_workers=None\n",
    "):\n",
    "    \"\"\"\n",
    "    Applies 1 to 2 randomly chosen damage types (including NoDamage) per image using multiprocessing.\n",
    "    Each image may generate multiple variants. Metadata is saved in a JSON file.\n",
    "\n",
    "    Args:\n",
    "        image_directory (str): Folder of input images.\n",
    "        base_output_directory (str): Where to save damaged images and masks.\n",
    "        metadata_output_path (str): Path to the output .json metadata file.\n",
    "        damage_classes (list): List of available damage class types (e.g., [Scratch, Water, NoDamage]).\n",
    "        sample_size (int, optional): Number of images to process. If None, use all.\n",
    "        max_workers (int, optional): Max number of parallel workers.\n",
    "\n",
    "    Returns:\n",
    "        None\n",
    "    \"\"\"\n",
    "    from concurrent.futures import ProcessPoolExecutor, as_completed\n",
    "    import json\n",
    "    from tqdm import tqdm\n",
    "\n",
    "    valid_extensions = ('.png', '.jpg', '.jpeg', '.bmp', '.tiff', '.webp')\n",
    "    image_paths = [\n",
    "        os.path.join(image_directory, fname)\n",
    "        for fname in os.listdir(image_directory)\n",
    "        if fname.lower().endswith(valid_extensions)\n",
    "    ]\n",
    "\n",
    "    if sample_size:\n",
    "        rng = random.Random(42)\n",
    "        image_paths = rng.sample(image_paths, k=sample_size)\n",
    "\n",
    "    all_args = []\n",
    "    rng = random.Random(42)\n",
    "\n",
    "    for image_path in image_paths:\n",
    "        num_variants = rng.choice([1, 2])\n",
    "        selected_damages = rng.sample(damage_classes, k=num_variants)\n",
    "        for damage_cls in selected_damages:\n",
    "            all_args.append((image_path, base_output_directory, [damage_cls]))\n",
    "\n",
    "    metadata = []\n",
    "\n",
    "    with ProcessPoolExecutor(max_workers=max_workers) as executor:\n",
    "        futures = {executor.submit(process_image, args): args for args in all_args}\n",
    "        for future in tqdm(as_completed(futures), total=len(futures), desc=\"Processing\"):\n",
    "            result = future.result()\n",
    "            if result is not None:\n",
    "                metadata.append(result)\n",
    "\n",
    "    with open(metadata_output_path, \"w\") as f:\n",
    "        json.dump(metadata, f, indent=2)\n",
    "\n",
    "    print(f\"\\nSaved {len(metadata)} image variants to '{metadata_output_path}'.\")"
   ]
  },
  {
   "cell_type": "code",
   "execution_count": null,
   "id": "dab0f01e-d139-4afe-a18d-6a67dadcd123",
   "metadata": {},
   "outputs": [],
   "source": [
    "process_all_images(\n",
    "    image_directory=\"../../data/img/full\",\n",
    "    base_output_directory=\"../../data/sample-damaged-and-mask-multiprocessing-v2\",\n",
    "    metadata_output_path=\"../../data/damage_metadata_v2.json\",\n",
    "    damage_classes=[ScratchDamage, WaterDiscolouration, CraquelureDamage, NoDamage],\n",
    "    sample_size=None,\n",
    "    max_workers=None\n",
    ")"
   ]
  },
  {
   "cell_type": "code",
   "execution_count": null,
   "id": "eb6a08d0-72cc-48cb-9459-0d27a47b9ff5",
   "metadata": {},
   "outputs": [],
   "source": []
  }
 ],
 "metadata": {
  "kernelspec": {
   "display_name": "art-restoration-ai",
   "language": "python",
   "name": "art-restoration-ai"
  },
  "language_info": {
   "codemirror_mode": {
    "name": "ipython",
    "version": 3
   },
   "file_extension": ".py",
   "mimetype": "text/x-python",
   "name": "python",
   "nbconvert_exporter": "python",
   "pygments_lexer": "ipython3",
   "version": "3.10.13"
  }
 },
 "nbformat": 4,
 "nbformat_minor": 5
}

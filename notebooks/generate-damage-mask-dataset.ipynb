{
 "cells": [
  {
   "cell_type": "markdown",
   "id": "e18a7b5b-7a6a-4e40-9024-a1e77ec58e19",
   "metadata": {},
   "source": [
    "# Generating the Actual Dataset for the Damage Detection Phase"
   ]
  },
  {
   "cell_type": "markdown",
   "id": "8f8a98bf-41ba-4378-bd8a-22c5e037ddf3",
   "metadata": {},
   "source": [
    "This script applies one random, reproducible damage effect (e.g., scratches, water discoloration, or craquelure) to each image in a dataset. It uses multiprocessing to speed up processing across multiple CPU cores, saving both the damaged image and its corresponding damage mask. A metadata file is generated to track the original image, damage type applied, and output file paths."
   ]
  },
  {
   "cell_type": "code",
   "execution_count": 1,
   "id": "6def6f94-6a66-4c5d-bd6c-a3e73f7e5d58",
   "metadata": {
    "execution": {
     "iopub.execute_input": "2025-05-26T14:09:24.335906Z",
     "iopub.status.busy": "2025-05-26T14:09:24.335638Z",
     "iopub.status.idle": "2025-05-26T14:09:26.115811Z",
     "shell.execute_reply": "2025-05-26T14:09:26.113687Z",
     "shell.execute_reply.started": "2025-05-26T14:09:24.335879Z"
    }
   },
   "outputs": [],
   "source": [
    "import os\n",
    "import sys\n",
    "project_root = os.path.abspath(\"..\")\n",
    "src_path = os.path.join(project_root, \"src\")\n",
    "if src_path not in sys.path:\n",
    "    sys.path.append(src_path)\n",
    "\n",
    "import json\n",
    "import random\n",
    "import hashlib\n",
    "from concurrent.futures import ProcessPoolExecutor, as_completed\n",
    "\n",
    "import numpy as np\n",
    "from PIL import Image, ImageDraw, ImageFilter\n",
    "from tqdm import tqdm\n",
    "\n",
    "# Import damage classes\n",
    "from maskerada import ScratchDamage, WaterDiscolouration, CraquelureDamage"
   ]
  },
  {
   "cell_type": "code",
   "execution_count": 2,
   "id": "72480902-bd3e-46b7-b4b5-86825f471e01",
   "metadata": {
    "execution": {
     "iopub.execute_input": "2025-05-26T14:09:26.119080Z",
     "iopub.status.busy": "2025-05-26T14:09:26.118386Z",
     "iopub.status.idle": "2025-05-26T14:09:26.128519Z",
     "shell.execute_reply": "2025-05-26T14:09:26.126616Z",
     "shell.execute_reply.started": "2025-05-26T14:09:26.119027Z"
    }
   },
   "outputs": [],
   "source": [
    "# --- Utility: Generate a reproducible seed per image path ---\n",
    "def get_deterministic_seed(image_path):\n",
    "    \"\"\"\n",
    "    Generates a reproducible integer seed from the image path.\n",
    "\n",
    "    This ensures consistent random behavior per image across runs,\n",
    "    even when processed in parallel.\n",
    "\n",
    "    Args:\n",
    "        image_path (str): Full path to the image.\n",
    "\n",
    "    Returns:\n",
    "        int: A 32-bit integer seed derived from the image path.\n",
    "    \"\"\"\n",
    "    return int(hashlib.sha256(image_path.encode())\n",
    "               .hexdigest(), 16) % (2**32)"
   ]
  },
  {
   "cell_type": "code",
   "execution_count": 3,
   "id": "5338aadd-6902-45c5-9fb5-c8470da80d23",
   "metadata": {
    "execution": {
     "iopub.execute_input": "2025-05-26T14:09:26.131512Z",
     "iopub.status.busy": "2025-05-26T14:09:26.130711Z",
     "iopub.status.idle": "2025-05-26T14:09:26.148779Z",
     "shell.execute_reply": "2025-05-26T14:09:26.146848Z",
     "shell.execute_reply.started": "2025-05-26T14:09:26.131460Z"
    }
   },
   "outputs": [],
   "source": [
    "def process_image(args):\n",
    "    \"\"\"\n",
    "    Processes a single image by applying one randomly selected damage type.\n",
    "    Skips processing if output files already exist. Returns metadata if \n",
    "    successful.\n",
    "\n",
    "    Args:\n",
    "        args (tuple): Contains:\n",
    "            - image_path (str): Path to the input image.\n",
    "            - base_output_directory (str): Where to save results.\n",
    "            - damage_classes (list): List of available damage classes.\n",
    "\n",
    "    Returns:\n",
    "        dict or None: Metadata dictionary if processed, None if skipped or \n",
    "        errored.\n",
    "    \"\"\"\n",
    "    image_path, base_output_directory, damage_classes = args\n",
    "\n",
    "    try:\n",
    "        seed = int(hashlib.sha256(image_path.encode())\n",
    "                   .hexdigest(), 16) % (2**32)\n",
    "        random.seed(seed)\n",
    "\n",
    "        damage_class = random.choice(damage_classes)\n",
    "        damage_type_name = damage_class.__name__\n",
    "\n",
    "        image_identifier = os.path.splitext(os.path.basename(image_path))[0]\n",
    "        original_image_filename = os.path.basename(image_path)\n",
    "        damage_type_safe = \"\".join(c if c\n",
    "                                   .isalnum() else \"_\" for c in damage_type_name)\n",
    "\n",
    "        base_filename = f\"{image_identifier}-{damage_type_safe}\"\n",
    "        damaged_output_dir = os.path.join(base_output_directory, \n",
    "                                          \"generated-damaged-images\")\n",
    "        damage_mask_dir = os.path.join(base_output_directory, \n",
    "                                       \"generated-damage-masks\")\n",
    "\n",
    "        damaged_image_path = os.path.join(damaged_output_dir, \n",
    "                                          f\"{base_filename}.png\")\n",
    "        mask_image_path = os.path.join(damage_mask_dir, \n",
    "                                       f\"{base_filename}-mask.png\")\n",
    "\n",
    "        if (os.path.exists(damaged_image_path) \n",
    "            and os.path.exists(mask_image_path)):\n",
    "            return None  # Skip if already processed\n",
    "\n",
    "        original_image = Image.open(image_path).convert(\"RGB\")\n",
    "        damage_instance = damage_class()\n",
    "        damaged_image, damage_mask = damage_instance.apply(original_image\n",
    "                                                           .copy())\n",
    "\n",
    "        os.makedirs(damaged_output_dir, exist_ok=True)\n",
    "        os.makedirs(damage_mask_dir, exist_ok=True)\n",
    "\n",
    "        damaged_image.save(damaged_image_path)\n",
    "        damage_mask.save(mask_image_path)\n",
    "\n",
    "        return {\n",
    "            \"image_identifier\": image_identifier,\n",
    "            \"original_image_filename\": original_image_filename,\n",
    "            \"damage_type\": damage_type_name,\n",
    "            \"original_image_path\": image_path,\n",
    "            \"damaged_image_path\": damaged_image_path,\n",
    "            \"mask_image_path\": mask_image_path\n",
    "        }\n",
    "\n",
    "    except Exception as e:\n",
    "        print(f\"[ERROR] {original_image_filename}: {e}\")\n",
    "        return None\n"
   ]
  },
  {
   "cell_type": "code",
   "execution_count": 4,
   "id": "69199115-2e51-48d1-b277-c74b464b2ede",
   "metadata": {
    "execution": {
     "iopub.execute_input": "2025-05-26T14:09:26.150521Z",
     "iopub.status.busy": "2025-05-26T14:09:26.150223Z",
     "iopub.status.idle": "2025-05-26T14:09:26.163453Z",
     "shell.execute_reply": "2025-05-26T14:09:26.161971Z",
     "shell.execute_reply.started": "2025-05-26T14:09:26.150491Z"
    }
   },
   "outputs": [],
   "source": [
    "def process_all_images(\n",
    "    image_directory,\n",
    "    base_output_directory,\n",
    "    metadata_output_path,\n",
    "    damage_classes,\n",
    "    sample_size=None,\n",
    "    max_workers=None\n",
    "):\n",
    "    \"\"\"\n",
    "    Applies one random damage type to each image in the directory using \n",
    "    multiprocessing. Skips already-processed images and writes valid JSON \n",
    "    array metadata at the end.\n",
    "\n",
    "    Args:\n",
    "        image_directory (str): Folder of input images.\n",
    "        base_output_directory (str): Where to save damaged images and masks.\n",
    "        metadata_output_path (str): Path to the output .json metadata file.\n",
    "        damage_classes (list): List of available damage class types.\n",
    "        sample_size (int, optional): Limit number of images processed.\n",
    "        max_workers (int, optional): Max number of parallel workers.\n",
    "\n",
    "    Returns:\n",
    "        None\n",
    "    \"\"\"\n",
    "    valid_extensions = ('.png', '.jpg', '.jpeg', '.bmp', '.tiff', '.webp')\n",
    "    image_paths = [\n",
    "        os.path.join(image_directory, fname)\n",
    "        for fname in os.listdir(image_directory)\n",
    "        if fname.lower().endswith(valid_extensions)\n",
    "    ]\n",
    "\n",
    "    if sample_size:\n",
    "        rng = random.Random(42)\n",
    "        image_paths = rng.sample(image_paths, k=sample_size)\n",
    "\n",
    "    all_args = [\n",
    "        (image_path, base_output_directory, damage_classes)\n",
    "        for image_path in image_paths\n",
    "    ]\n",
    "\n",
    "    metadata = []\n",
    "\n",
    "    with ProcessPoolExecutor(max_workers=max_workers) as executor:\n",
    "        futures = {executor\n",
    "                   .submit(process_image, args): args for args in all_args}\n",
    "        for future in tqdm(as_completed(futures), total=len(futures), \n",
    "                           desc=\"Processing\"):\n",
    "            result = future.result()\n",
    "            if result is not None:\n",
    "                metadata.append(result)\n",
    "\n",
    "    with open(metadata_output_path, \"w\") as f:\n",
    "        json.dump(metadata, f, indent=2)\n",
    "\n",
    "    print(f\"\\nFinished processing {len(metadata)} paintings.\")\n",
    "    print(f\"Saved metadata to '{metadata_output_path}'.\")\n"
   ]
  },
  {
   "cell_type": "code",
   "execution_count": 5,
   "id": "40566c73-8fd8-47bf-b051-5ff94bf4b110",
   "metadata": {
    "execution": {
     "iopub.execute_input": "2025-05-26T14:09:26.164592Z",
     "iopub.status.busy": "2025-05-26T14:09:26.164356Z",
     "iopub.status.idle": "2025-05-26T14:09:46.805125Z",
     "shell.execute_reply": "2025-05-26T14:09:46.802821Z",
     "shell.execute_reply.started": "2025-05-26T14:09:26.164567Z"
    }
   },
   "outputs": [
    {
     "name": "stderr",
     "output_type": "stream",
     "text": [
      "Processing: 100%|██████████| 50/50 [00:19<00:00,  2.53it/s]\n"
     ]
    },
    {
     "name": "stdout",
     "output_type": "stream",
     "text": [
      "\n",
      "Finished processing 50 paintings.\n",
      "Saved metadata to '../data/damage_metadata.json'.\n"
     ]
    }
   ],
   "source": [
    "process_all_images(\n",
    "    image_directory=\"../data/img/full\",\n",
    "    base_output_directory=\"../data/multiprocessing-sample-damaged-and-mask\",\n",
    "    metadata_output_path=\"../data/damage_metadata.json\",\n",
    "    damage_classes=[ScratchDamage, WaterDiscolouration, CraquelureDamage],\n",
    "    sample_size=50,\n",
    "    max_workers=None\n",
    ")"
   ]
  }
 ],
 "metadata": {
  "kernelspec": {
   "display_name": "art-restoration-ai",
   "language": "python",
   "name": "art-restoration-ai"
  },
  "language_info": {
   "codemirror_mode": {
    "name": "ipython",
    "version": 3
   },
   "file_extension": ".py",
   "mimetype": "text/x-python",
   "name": "python",
   "nbconvert_exporter": "python",
   "pygments_lexer": "ipython3",
   "version": "3.10.13"
  }
 },
 "nbformat": 4,
 "nbformat_minor": 5
}

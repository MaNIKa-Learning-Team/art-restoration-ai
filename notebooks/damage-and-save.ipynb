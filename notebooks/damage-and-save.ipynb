{
 "cells": [
  {
   "cell_type": "markdown",
   "id": "d82108b2-7513-4fd4-8948-718d67019712",
   "metadata": {},
   "source": [
    "# Apply Damage and Save Dataset\n",
    "Run the function below to apply the damages per image and save the damaged version and their respective masks in their corresponding directory."
   ]
  },
  {
   "cell_type": "code",
   "execution_count": 1,
   "id": "3269131d-5cc2-45c3-aba9-a9113a84cbca",
   "metadata": {
    "execution": {
     "iopub.execute_input": "2025-05-26T04:54:13.303819Z",
     "iopub.status.busy": "2025-05-26T04:54:13.301522Z",
     "iopub.status.idle": "2025-05-26T04:54:13.372428Z",
     "shell.execute_reply": "2025-05-26T04:54:13.365966Z",
     "shell.execute_reply.started": "2025-05-26T04:54:13.303598Z"
    }
   },
   "outputs": [],
   "source": [
    "# Ensure src is in the import path\n",
    "import os\n",
    "import sys\n",
    "\n",
    "project_root = os.path.abspath(\"..\")\n",
    "src_path = os.path.join(project_root, \"src\")\n",
    "if src_path not in sys.path:\n",
    "    sys.path.append(src_path)"
   ]
  },
  {
   "cell_type": "code",
   "execution_count": 3,
   "id": "cd355810-aa73-4f5c-87bc-e81e097c4b17",
   "metadata": {
    "execution": {
     "iopub.execute_input": "2025-05-26T04:54:32.387375Z",
     "iopub.status.busy": "2025-05-26T04:54:32.384243Z",
     "iopub.status.idle": "2025-05-26T04:54:32.449454Z",
     "shell.execute_reply": "2025-05-26T04:54:32.442340Z",
     "shell.execute_reply.started": "2025-05-26T04:54:32.387078Z"
    }
   },
   "outputs": [],
   "source": [
    "import json\n",
    "import random\n",
    "import numpy as np\n",
    "from PIL import Image, ImageDraw, ImageFilter\n",
    "\n",
    "# Import damage classes\n",
    "from maskerada import (ScratchDamage, WaterDiscolouration, \n",
    "                            CraquelureDamage)"
   ]
  },
  {
   "cell_type": "code",
   "execution_count": 4,
   "id": "b62a9448-2afd-4f1f-aab2-4f5d45092635",
   "metadata": {
    "execution": {
     "iopub.execute_input": "2025-05-26T04:54:35.661711Z",
     "iopub.status.busy": "2025-05-26T04:54:35.658077Z",
     "iopub.status.idle": "2025-05-26T04:54:35.740389Z",
     "shell.execute_reply": "2025-05-26T04:54:35.733227Z",
     "shell.execute_reply.started": "2025-05-26T04:54:35.661459Z"
    }
   },
   "outputs": [],
   "source": [
    "def apply_and_save_damage_set(\n",
    "    original_image_pil,\n",
    "    image_identifier,\n",
    "    damage_applicator_instance,\n",
    "    damage_type_name,\n",
    "    base_output_directory\n",
    "):\n",
    "    \"\"\"\n",
    "    Applies a given damage to an image, saves the damaged image into\n",
    "    a subdirectory.\n",
    "    \"\"\"\n",
    "    print(f\"Applying {damage_type_name} damage to '{image_identifier}'...\")\n",
    "\n",
    "    image_to_damage = original_image_pil.copy()\n",
    "    damaged_image = damage_applicator_instance.apply(image_to_damage)\n",
    "\n",
    "    # Define output subdirectory\n",
    "    damaged_output_dir = os.path.join(\n",
    "        base_output_directory, \"generated-damaged-images\"\n",
    "    )\n",
    "    os.makedirs(damaged_output_dir, exist_ok=True)\n",
    "\n",
    "    # Prepare filename\n",
    "    id_str = str(image_identifier)\n",
    "    id_str_base, id_str_ext = os.path.splitext(id_str)\n",
    "\n",
    "    if id_str_ext.lower() in (\n",
    "        '.jpg', '.jpeg', '.png', '.gif', '.bmp', '.tiff', '.webp'\n",
    "    ):\n",
    "        id_str = id_str_base\n",
    "\n",
    "    damage_type_name = \"\".join(\n",
    "        c if c.isalnum() else '_' for c in damage_type_name\n",
    "    )\n",
    "    base_filename = f\"{id_str}-{damage_type_name}\"\n",
    "    damaged_filename = f\"{base_filename}.png\"\n",
    "    damaged_image_path = os.path.join(damaged_output_dir, damaged_filename)\n",
    "\n",
    "    # Save damaged image\n",
    "    try:\n",
    "        damaged_image.save(damaged_image_path)\n",
    "    except Exception as e:\n",
    "        print(\n",
    "            f\"  Error saving images for {damage_type_name} \"\n",
    "            f\"on {image_identifier}: {e}\"\n",
    "        )\n",
    "\n",
    "    return {\n",
    "        \"image_identifier\": image_identifier,\n",
    "        \"damage_type\": damage_type_name,\n",
    "        \"original_image_path\": (\n",
    "            original_image_pil.filename\n",
    "            if hasattr(original_image_pil, 'filename') else None\n",
    "        ),\n",
    "        \"damaged_image_path\": damaged_image_path,\n",
    "    }\n"
   ]
  },
  {
   "cell_type": "markdown",
   "id": "3d7053c6-e5fb-4dcd-982f-94798df25991",
   "metadata": {},
   "source": [
    "Note that the function above was modified from its original to include a `return` statement for the image file paths and remove the references to the mask.\n",
    "\n",
    "**Original Function:**\n",
    "```\n",
    "import random\n",
    "import numpy as np\n",
    "from PIL import Image, ImageDraw, ImageFilter\n",
    "import os\n",
    "\n",
    "def apply_and_save_damage_set(original_image_pil, image_identifier,\n",
    "                              damage_applicator_instance, damage_type_name,\n",
    "                              base_output_directory):\n",
    "    \"\"\"\n",
    "    Applies a given damage to an image, saves the damaged image and its mask\n",
    "    into respective subdirectories.\n",
    "\n",
    "    Args:\n",
    "        original_image_pil (PIL.Image): The original clean image.\n",
    "        image_identifier (str or int): A unique identifier for the image (e.g., \"Image_001\", \n",
    "                                     a filename like \"hash.jpg\", or an index).\n",
    "        damage_applicator_instance (object): An instance of a damage class (e.g., TearDamage()).\n",
    "        damage_type_name (str): A string to identify the damage type in filenames (e.g., \"Tears\").\n",
    "        base_output_directory (str): Base directory to save the output images.\n",
    "                                     Subdirectories 'damaged-images' and 'masks' will be created here.\n",
    "    \"\"\"\n",
    "    print(f\"Applying {damage_type_name} damage to '{image_identifier}'...\")\n",
    "    \n",
    "    image_to_damage = original_image_pil.copy() \n",
    "    damaged_image, damage_mask = damage_applicator_instance.apply(image_to_damage)\n",
    "\n",
    "    # Define output subdirectories\n",
    "    damaged_output_dir = os.path.join(base_output_directory, \"damaged-images\")\n",
    "    mask_output_dir = os.path.join(base_output_directory, \"masks\")\n",
    "\n",
    "    # Create subdirectories if they don't exist\n",
    "    os.makedirs(damaged_output_dir, exist_ok=True)\n",
    "    os.makedirs(mask_output_dir, exist_ok=True)\n",
    "\n",
    "    # Prepare image identifier for filename (strip extension if it's a filename)\n",
    "    id_str = str(image_identifier)\n",
    "    id_str_base, id_str_ext = os.path.splitext(id_str)\n",
    "    if id_str_ext.lower() in ['.jpg', '.jpeg', '.png', '.gif', '.bmp', '.tiff', '.webp']:\n",
    "        id_str = id_str_base # Use only the base name without the extension\n",
    "    \n",
    "    # Sanitize damage_type_name for filename\n",
    "    safe_damage_type_name = \"\".join(c if c.isalnum() else '_' for c in damage_type_name)\n",
    "        \n",
    "    base_filename = f\"{id_str} {safe_damage_type_name}\" \n",
    "\n",
    "    damaged_filename = f\"{base_filename}.png\"\n",
    "    mask_filename = f\"{base_filename}_mask.png\"\n",
    "\n",
    "    damaged_image_path = os.path.join(damaged_output_dir, damaged_filename)\n",
    "    mask_image_path = os.path.join(mask_output_dir, mask_filename)\n",
    "\n",
    "    # Save the images\n",
    "    try:\n",
    "        damaged_image.save(damaged_image_path)\n",
    "        damage_mask.save(mask_image_path)\n",
    "    except Exception as e:\n",
    "        print(f\"  Error saving images for {damage_type_name} on {image_identifier}: {e}\")\n",
    "\n",
    "```"
   ]
  },
  {
   "cell_type": "markdown",
   "id": "42cf596d-0017-463c-82fb-e9c918ebf90b",
   "metadata": {},
   "source": [
    "## Test with a sample image"
   ]
  },
  {
   "cell_type": "code",
   "execution_count": 4,
   "id": "053ebe64-5fe8-4c47-be82-d1c45a337beb",
   "metadata": {
    "execution": {
     "iopub.execute_input": "2025-05-25T02:49:57.437258Z",
     "iopub.status.busy": "2025-05-25T02:49:57.435367Z",
     "iopub.status.idle": "2025-05-25T02:49:59.900407Z",
     "shell.execute_reply": "2025-05-25T02:49:59.892491Z",
     "shell.execute_reply.started": "2025-05-25T02:49:57.437044Z"
    }
   },
   "outputs": [
    {
     "name": "stdout",
     "output_type": "stream",
     "text": [
      "Applying ScratchDamage damage to 'your_image'...\n",
      "Applying WaterDiscolouration damage to 'your_image'...\n",
      "Applying CraquelureDamage damage to 'your_image'...\n"
     ]
    }
   ],
   "source": [
    "# Load your original image\n",
    "original_image = Image.open(\"../data/sample-image-canvas-oil-Le-Moulin-de-la-Galette-1876.png\")\n",
    "\n",
    "# Define damage instances\n",
    "damage_types = [\n",
    "    ScratchDamage(),\n",
    "    WaterDiscolouration(),\n",
    "    CraquelureDamage()\n",
    "]\n",
    "\n",
    "# Output base directory\n",
    "base_output_directory = \"../data/sample-damaged-paintings\"\n",
    "\n",
    "# Metadata collector\n",
    "damage_metadata = []\n",
    "\n",
    "# Apply each damage separately\n",
    "for dmg_instance in damage_types:\n",
    "    result = apply_and_save_damage_set(\n",
    "        original_image_pil=original_image,\n",
    "        image_identifier=\"your_image\",\n",
    "        damage_applicator_instance=dmg_instance,\n",
    "        damage_type_name=dmg_instance.__class__.__name__,\n",
    "        base_output_directory=base_output_directory\n",
    "    )\n",
    "    damage_metadata.append(result)\n",
    "\n",
    "# Save metadata to JSON\n",
    "with open(\"../data/damage_metadata.json\", \"w\") as f:\n",
    "    json.dump(damage_metadata, f, indent=2)\n"
   ]
  },
  {
   "cell_type": "markdown",
   "id": "a3a4fde6-f343-4e6c-8841-0d7decb7007c",
   "metadata": {},
   "source": [
    "## Generate 5 random damaged paintings from the dataset"
   ]
  },
  {
   "cell_type": "markdown",
   "id": "656dca14-1600-4412-b63f-f409f7b12450",
   "metadata": {},
   "source": [
    "This script applies a randomly chosen type of damage—such as scratches, water discoloration, or craquelure—to a fixed random sample of images from a directory. A set random seed ensures the same images are selected each time, while the damage effects remain varied. The script saves each damaged image to an output folder and logs metadata including the original filename, damage type, and file paths. All metadata is saved to a JSON file for easy tracking or later use in tasks like training or evaluating image restoration models."
   ]
  },
  {
   "cell_type": "code",
   "execution_count": 5,
   "id": "53622f9c-ade0-450d-94de-6c7d94639c6d",
   "metadata": {
    "execution": {
     "iopub.execute_input": "2025-05-25T02:49:59.932665Z",
     "iopub.status.busy": "2025-05-25T02:49:59.928483Z",
     "iopub.status.idle": "2025-05-25T02:50:09.945951Z",
     "shell.execute_reply": "2025-05-25T02:50:09.936135Z",
     "shell.execute_reply.started": "2025-05-25T02:49:59.932374Z"
    }
   },
   "outputs": [
    {
     "name": "stdout",
     "output_type": "stream",
     "text": [
      "Applying WaterDiscolouration damage to '2272e22dcc68d4482b697b4483f9b82f79da494b'...\n",
      "Applying WaterDiscolouration damage to '4ab128c6628cc70c24da63f736a14194a058b923'...\n",
      "Applying WaterDiscolouration damage to 'd73cb8d6a2be216deb26aa3107defdb9e01620f7'...\n",
      "Applying ScratchDamage damage to 'ca7b1c5efc57c3c978be8365c54ab4e54b8e4723'...\n",
      "Applying ScratchDamage damage to '43ecd8a9fe1d83d96ad40ab59ac44127cffd38f5'...\n"
     ]
    }
   ],
   "source": [
    "# Define source and output directories\n",
    "image_directory = \"../data/img/full\"\n",
    "base_output_directory = \"../data\"\n",
    "metadata_output_path = \"../data/damage_metadata.json\"\n",
    "\n",
    "# Collect all image paths from the directory\n",
    "valid_extensions = ('.png', '.jpg', '.jpeg', '.bmp', '.tiff', '.webp')\n",
    "image_paths = [\n",
    "    os.path.join(image_directory, fname)\n",
    "    for fname in os.listdir(image_directory)\n",
    "    if fname.lower().endswith(valid_extensions)\n",
    "]\n",
    "\n",
    "# Set a separate seed for sampling\n",
    "sampling_rng = random.Random(42)\n",
    "\n",
    "# Sample image paths reproducibly\n",
    "image_paths = sampling_rng.sample(image_paths, k=5)\n",
    "\n",
    "# Define damage instances\n",
    "damage_classes = [ScratchDamage, WaterDiscolouration, CraquelureDamage]\n",
    "\n",
    "# Metadata collector\n",
    "damage_metadata = []\n",
    "\n",
    "# Apply random damage to each image\n",
    "for img_path in image_paths:\n",
    "    try:\n",
    "        original_image = Image.open(img_path)\n",
    "        damage_class = random.choice(damage_classes)\n",
    "        damage_instance = damage_class()\n",
    "\n",
    "        result = apply_and_save_damage_set(\n",
    "            original_image_pil=original_image,\n",
    "            image_identifier=os.path.splitext(os.path.basename(img_path))[0],\n",
    "            damage_applicator_instance=damage_instance,\n",
    "            damage_type_name=damage_class.__name__,\n",
    "            base_output_directory=base_output_directory\n",
    "        )\n",
    "\n",
    "        damage_metadata.append(result)\n",
    "\n",
    "    except Exception as e:\n",
    "        print(f\"Error processing '{img_path}': {e}\")\n",
    "\n",
    "# Save metadata to JSON\n",
    "with open(metadata_output_path, \"w\") as f:\n",
    "    json.dump(damage_metadata, f, indent=2)\n"
   ]
  }
 ],
 "metadata": {
  "kernelspec": {
   "display_name": "art-restoration-ai",
   "language": "python",
   "name": "art-restoration-ai"
  },
  "language_info": {
   "codemirror_mode": {
    "name": "ipython",
    "version": 3
   },
   "file_extension": ".py",
   "mimetype": "text/x-python",
   "name": "python",
   "nbconvert_exporter": "python",
   "pygments_lexer": "ipython3",
   "version": "3.10.13"
  }
 },
 "nbformat": 4,
 "nbformat_minor": 5
}

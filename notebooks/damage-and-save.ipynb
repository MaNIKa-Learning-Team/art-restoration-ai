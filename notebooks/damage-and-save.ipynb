{
 "cells": [
  {
   "cell_type": "markdown",
   "id": "d82108b2-7513-4fd4-8948-718d67019712",
   "metadata": {},
   "source": [
    "# Apply Damage and Save Dataset\n",
    "Run the function below to apply the damages per image and save the damaged version and their respective masks in their corresponding directory."
   ]
  },
  {
   "cell_type": "code",
   "execution_count": 18,
   "id": "cd355810-aa73-4f5c-87bc-e81e097c4b17",
   "metadata": {
    "execution": {
     "iopub.execute_input": "2025-05-24T18:43:27.694247Z",
     "iopub.status.busy": "2025-05-24T18:43:27.691751Z",
     "iopub.status.idle": "2025-05-24T18:43:27.725658Z",
     "shell.execute_reply": "2025-05-24T18:43:27.717006Z",
     "shell.execute_reply.started": "2025-05-24T18:43:27.693864Z"
    }
   },
   "outputs": [],
   "source": [
    "import random\n",
    "import numpy as np\n",
    "from PIL import Image, ImageDraw, ImageFilter\n",
    "import os"
   ]
  },
  {
   "cell_type": "code",
   "execution_count": 19,
   "id": "b62a9448-2afd-4f1f-aab2-4f5d45092635",
   "metadata": {
    "execution": {
     "iopub.execute_input": "2025-05-24T18:43:29.463582Z",
     "iopub.status.busy": "2025-05-24T18:43:29.461331Z",
     "iopub.status.idle": "2025-05-24T18:43:29.527541Z",
     "shell.execute_reply": "2025-05-24T18:43:29.521006Z",
     "shell.execute_reply.started": "2025-05-24T18:43:29.463377Z"
    }
   },
   "outputs": [],
   "source": [
    "def apply_and_save_damage_set(original_image_pil, image_identifier,\n",
    "                              damage_applicator_instance, damage_type_name,\n",
    "                              base_output_directory):\n",
    "    \"\"\"\n",
    "    Applies a given damage to an image, saves the damaged image and its mask\n",
    "    into respective subdirectories.\n",
    "\n",
    "    Args:\n",
    "        original_image_pil (PIL.Image): The original clean image.\n",
    "        image_identifier (str or int): A unique identifier for the image (e.g., \"Image_001\", \n",
    "                                     a filename like \"hash.jpg\", or an index).\n",
    "        damage_applicator_instance (object): An instance of a damage class (e.g., TearDamage()).\n",
    "        damage_type_name (str): A string to identify the damage type in filenames (e.g., \"Tears\").\n",
    "        base_output_directory (str): Base directory to save the output images.\n",
    "                                     Subdirectories 'damaged-images' and 'masks' will be created here.\n",
    "    \"\"\"\n",
    "    print(f\"Applying {damage_type_name} damage to '{image_identifier}'...\")\n",
    "    \n",
    "    image_to_damage = original_image_pil.copy() \n",
    "    damaged_image, damage_mask = damage_applicator_instance.apply(image_to_damage)\n",
    "\n",
    "    # Define output subdirectories\n",
    "    damaged_output_dir = os.path.join(base_output_directory, \"damaged-images\")\n",
    "    mask_output_dir = os.path.join(base_output_directory, \"masks\")\n",
    "\n",
    "    # Create subdirectories if they don't exist\n",
    "    os.makedirs(damaged_output_dir, exist_ok=True)\n",
    "    os.makedirs(mask_output_dir, exist_ok=True)\n",
    "\n",
    "    # Prepare image identifier for filename (strip extension if it's a filename)\n",
    "    id_str = str(image_identifier)\n",
    "    id_str_base, id_str_ext = os.path.splitext(id_str)\n",
    "    if id_str_ext.lower() in ['.jpg', '.jpeg', '.png', '.gif', '.bmp', '.tiff', '.webp']:\n",
    "        id_str = id_str_base # Use only the base name without the extension\n",
    "    \n",
    "    # Sanitize damage_type_name for filename\n",
    "    safe_damage_type_name = \"\".join(c if c.isalnum() else '_' for c in damage_type_name)\n",
    "        \n",
    "    base_filename = f\"{id_str} {safe_damage_type_name}\" \n",
    "\n",
    "    damaged_filename = f\"{base_filename}.png\"\n",
    "    mask_filename = f\"{base_filename}_mask.png\"\n",
    "\n",
    "    damaged_image_path = os.path.join(damaged_output_dir, damaged_filename)\n",
    "    mask_image_path = os.path.join(mask_output_dir, mask_filename)\n",
    "\n",
    "    # Save the images\n",
    "    try:\n",
    "        damaged_image.save(damaged_image_path)\n",
    "        damage_mask.save(mask_image_path)\n",
    "    except Exception as e:\n",
    "        print(f\"  Error saving images for {damage_type_name} on {image_identifier}: {e}\")"
   ]
  }
 ],
 "metadata": {
  "kernelspec": {
   "display_name": "Python [conda env:.conda-ml3-final-project]",
   "language": "python",
   "name": "conda-env-.conda-ml3-final-project-py"
  },
  "language_info": {
   "codemirror_mode": {
    "name": "ipython",
    "version": 3
   },
   "file_extension": ".py",
   "mimetype": "text/x-python",
   "name": "python",
   "nbconvert_exporter": "python",
   "pygments_lexer": "ipython3",
   "version": "3.10.17"
  }
 },
 "nbformat": 4,
 "nbformat_minor": 5
}

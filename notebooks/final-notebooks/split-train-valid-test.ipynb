{
 "cells": [
  {
   "cell_type": "markdown",
   "id": "7c7305c9-84af-4bce-bdb2-4b105b351d8e",
   "metadata": {},
   "source": [
    "# Split the dataset to train-validation-test sets"
   ]
  },
  {
   "cell_type": "code",
   "execution_count": 1,
   "id": "c2b80e9f-10af-4301-a652-817f2178ed07",
   "metadata": {
    "execution": {
     "iopub.execute_input": "2025-06-01T15:40:07.893413Z",
     "iopub.status.busy": "2025-06-01T15:40:07.893175Z",
     "iopub.status.idle": "2025-06-01T15:40:07.926560Z",
     "shell.execute_reply": "2025-06-01T15:40:07.924823Z",
     "shell.execute_reply.started": "2025-06-01T15:40:07.893387Z"
    }
   },
   "outputs": [],
   "source": [
    "import os\n",
    "import random\n",
    "import shutil\n",
    "from pathlib import Path\n",
    "from tqdm import tqdm"
   ]
  },
  {
   "cell_type": "code",
   "execution_count": 2,
   "id": "11353818-a616-408a-946f-8fc035068c24",
   "metadata": {
    "execution": {
     "iopub.execute_input": "2025-06-01T15:40:07.929166Z",
     "iopub.status.busy": "2025-06-01T15:40:07.928470Z",
     "iopub.status.idle": "2025-06-01T15:40:07.952341Z",
     "shell.execute_reply": "2025-06-01T15:40:07.949804Z",
     "shell.execute_reply.started": "2025-06-01T15:40:07.929105Z"
    }
   },
   "outputs": [],
   "source": [
    "def split_dataset(\n",
    "    image_dir,\n",
    "    mask_dir=None,\n",
    "    output_dir=\"data/split-dataset\",\n",
    "    train_ratio=0.7,\n",
    "    val_ratio=0.15,\n",
    "    test_ratio=0.15,\n",
    "    seed=42\n",
    "):\n",
    "    \"\"\"\n",
    "    Splits images (and corresponding masks, if provided) into train/val/test directories.\n",
    "\n",
    "    Args:\n",
    "        image_dir (str): Path to directory containing images.\n",
    "        mask_dir (str or None): Path to directory containing masks (if available).\n",
    "        output_dir (str): Root directory for output split folders.\n",
    "        train_ratio (float): Proportion of data for training.\n",
    "        val_ratio (float): Proportion of data for validation.\n",
    "        test_ratio (float): Proportion of data for testing.\n",
    "        seed (int): Random seed for reproducibility.\n",
    "    \"\"\"\n",
    "    assert abs(train_ratio + val_ratio + test_ratio - 1.0) < 1e-6, \"Ratios must sum to 1\"\n",
    "\n",
    "    random.seed(seed)\n",
    "\n",
    "    image_dir = Path(image_dir)\n",
    "    mask_dir = Path(mask_dir) if mask_dir else None\n",
    "    output_dir = Path(output_dir)\n",
    "\n",
    "    image_files = sorted([f for f in image_dir.iterdir() if f.suffix.lower() in (\".png\", \".jpg\", \".jpeg\")])\n",
    "    random.shuffle(image_files)\n",
    "\n",
    "    total = len(image_files)\n",
    "    train_end = int(total * train_ratio)\n",
    "    val_end = train_end + int(total * val_ratio)\n",
    "\n",
    "    subsets = {\n",
    "        \"train\": image_files[:train_end],\n",
    "        \"val\": image_files[train_end:val_end],\n",
    "        \"test\": image_files[val_end:]\n",
    "    }\n",
    "\n",
    "    for split_name, file_list in subsets.items():\n",
    "        split_img_dir = output_dir / split_name / \"img\"\n",
    "        split_mask_dir = output_dir / split_name / \"mask\" if mask_dir else None\n",
    "\n",
    "        split_img_dir.mkdir(parents=True, exist_ok=True)\n",
    "        if split_mask_dir:\n",
    "            split_mask_dir.mkdir(parents=True, exist_ok=True)\n",
    "\n",
    "        print(f\"Copying {split_name} set ({len(file_list)} files)...\")\n",
    "\n",
    "        for img_path in tqdm(file_list, desc=f\"{split_name.capitalize():>5}\", unit=\"file\"):\n",
    "            shutil.copy(img_path, split_img_dir / img_path.name)\n",
    "\n",
    "            if mask_dir:\n",
    "                mask_name = img_path.stem + \"-mask.png\"\n",
    "                mask_path = mask_dir / mask_name\n",
    "                if mask_path.exists():\n",
    "                    shutil.copy(mask_path, split_mask_dir / mask_name)\n",
    "                else:\n",
    "                    print(f\"[WARNING] Missing mask for: {img_path.name}\")"
   ]
  },
  {
   "cell_type": "code",
   "execution_count": 3,
   "id": "9b8708b8-9b27-4b87-a9d9-5a4add836c6b",
   "metadata": {
    "execution": {
     "iopub.execute_input": "2025-06-01T15:40:07.954992Z",
     "iopub.status.busy": "2025-06-01T15:40:07.954568Z",
     "iopub.status.idle": "2025-06-01T15:44:13.934508Z",
     "shell.execute_reply": "2025-06-01T15:44:13.931225Z",
     "shell.execute_reply.started": "2025-06-01T15:40:07.954949Z"
    }
   },
   "outputs": [
    {
     "name": "stdout",
     "output_type": "stream",
     "text": [
      "Copying train set (24206 files)...\n"
     ]
    },
    {
     "name": "stderr",
     "output_type": "stream",
     "text": [
      "Train: 100%|██████████| 24206/24206 [02:45<00:00, 146.59file/s]\n"
     ]
    },
    {
     "name": "stdout",
     "output_type": "stream",
     "text": [
      "Copying val set (5187 files)...\n"
     ]
    },
    {
     "name": "stderr",
     "output_type": "stream",
     "text": [
      "  Val: 100%|██████████| 5187/5187 [00:39<00:00, 130.90file/s]\n"
     ]
    },
    {
     "name": "stdout",
     "output_type": "stream",
     "text": [
      "Copying test set (5188 files)...\n"
     ]
    },
    {
     "name": "stderr",
     "output_type": "stream",
     "text": [
      " Test: 100%|██████████| 5188/5188 [00:40<00:00, 127.77file/s]\n"
     ]
    }
   ],
   "source": [
    "split_dataset(\n",
    "    image_dir=\"../../data/v5-damaged-and-mask-dataset/generated-damaged-images\",\n",
    "    mask_dir=\"../../data/v5-damaged-and-mask-dataset/generated-damage-masks\",\n",
    "    output_dir=\"../../data/v5-split-dataset\"\n",
    ")"
   ]
  }
 ],
 "metadata": {
  "kernelspec": {
   "display_name": "art-restoration-ai",
   "language": "python",
   "name": "art-restoration-ai"
  },
  "language_info": {
   "codemirror_mode": {
    "name": "ipython",
    "version": 3
   },
   "file_extension": ".py",
   "mimetype": "text/x-python",
   "name": "python",
   "nbconvert_exporter": "python",
   "pygments_lexer": "ipython3",
   "version": "3.10.13"
  }
 },
 "nbformat": 4,
 "nbformat_minor": 5
}

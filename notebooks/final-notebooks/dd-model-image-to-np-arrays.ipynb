{
 "cells": [
  {
   "cell_type": "markdown",
   "id": "f6dadf12-0a91-41a7-86f7-1eacc48d736c",
   "metadata": {},
   "source": [
    "# Converting the image data to np arrays"
   ]
  },
  {
   "cell_type": "markdown",
   "id": "44e01e88-7c5b-481f-a099-4a5d70dedbbc",
   "metadata": {},
   "source": [
    "## Imports and configurations"
   ]
  },
  {
   "cell_type": "code",
   "execution_count": 1,
   "id": "306d73ea-0871-4f2c-85b6-b4e60f881e03",
   "metadata": {
    "execution": {
     "iopub.execute_input": "2025-06-02T06:48:08.848961Z",
     "iopub.status.busy": "2025-06-02T06:48:08.848052Z",
     "iopub.status.idle": "2025-06-02T06:48:09.546415Z",
     "shell.execute_reply": "2025-06-02T06:48:09.545273Z",
     "shell.execute_reply.started": "2025-06-02T06:48:08.848901Z"
    }
   },
   "outputs": [],
   "source": [
    "from pathlib import Path\n",
    "import os\n",
    "import glob\n",
    "import cv2\n",
    "import numpy as np\n",
    "from tqdm import tqdm\n",
    "import multiprocessing as mp\n",
    "import json"
   ]
  },
  {
   "cell_type": "markdown",
   "id": "9afcd4ee-2d4c-46e6-9881-c863bc69b19a",
   "metadata": {},
   "source": [
    "## Utility functions (multiprocessing and conversion)"
   ]
  },
  {
   "cell_type": "code",
   "execution_count": 2,
   "id": "f2163c2b-715f-475d-9167-044e29ce729d",
   "metadata": {
    "execution": {
     "iopub.execute_input": "2025-06-02T06:48:09.547884Z",
     "iopub.status.busy": "2025-06-02T06:48:09.547513Z",
     "iopub.status.idle": "2025-06-02T06:48:09.560788Z",
     "shell.execute_reply": "2025-06-02T06:48:09.559565Z",
     "shell.execute_reply.started": "2025-06-02T06:48:09.547849Z"
    }
   },
   "outputs": [],
   "source": [
    "def _process_single_pair(args):\n",
    "    img_file, image_dir, mask_dir, save_dir, image_size = args\n",
    "    img_id = Path(img_file).stem\n",
    "    mask_file = f\"{img_id}-mask.png\"\n",
    "\n",
    "    img_path = os.path.join(image_dir, img_file)\n",
    "    msk_path = os.path.join(mask_dir, mask_file)\n",
    "\n",
    "    if not os.path.exists(msk_path):\n",
    "        print(f\"Missing mask for image: {img_file}\")\n",
    "        return False\n",
    "\n",
    "    image = cv2.imread(img_path)\n",
    "    mask = cv2.imread(msk_path, cv2.IMREAD_GRAYSCALE)\n",
    "\n",
    "    if image is None:\n",
    "        print(f\"Failed to read image: {img_path}\")\n",
    "        return False\n",
    "    if mask is None:\n",
    "        print(f\"Failed to read mask: {msk_path}\")\n",
    "        return False\n",
    "\n",
    "    try:\n",
    "        image = cv2.cvtColor(image, cv2.COLOR_BGR2RGB)\n",
    "        image = cv2.resize(image, image_size).astype(\"float32\") / 255.0\n",
    "\n",
    "        mask = cv2.resize(mask, image_size)\n",
    "        mask = np.where(mask > 0, 1, 0).astype(\"float32\")\n",
    "        mask = np.expand_dims(mask, axis=-1)\n",
    "\n",
    "        npz_path = os.path.join(save_dir, f\"{img_id}.npz\")\n",
    "        np.savez(npz_path, image=image, mask=mask)\n",
    "    except Exception as e:\n",
    "        print(f\"Error processing {img_id}: {e}\")\n",
    "        return False\n",
    "\n",
    "    return True\n",
    "\n",
    "\n",
    "def preprocess_and_save_npz(image_dir, mask_dir, save_dir, image_size=(320, 320)):\n",
    "    os.makedirs(save_dir, exist_ok=True)\n",
    "    image_files = sorted(os.listdir(image_dir))\n",
    "\n",
    "    args = [\n",
    "        (img_file, image_dir, mask_dir, save_dir, image_size)\n",
    "        for img_file in image_files\n",
    "    ]\n",
    "\n",
    "    with mp.Pool(processes=mp.cpu_count()) as pool:\n",
    "        results = list(tqdm(pool.imap(_process_single_pair, args), total=len(args)))\n",
    "\n",
    "    valid_pairs = sum(results)\n",
    "    skipped_pairs = len(results) - valid_pairs\n",
    "\n",
    "    print(f\"Saved {valid_pairs} valid image-mask pairs to {save_dir}\")\n",
    "    print(f\"Skipped {skipped_pairs} invalid or missing pairs\")"
   ]
  },
  {
   "cell_type": "markdown",
   "id": "db712045-800c-4a2e-8965-c332a2a8b7ea",
   "metadata": {},
   "source": [
    "## Set directories"
   ]
  },
  {
   "cell_type": "code",
   "execution_count": 3,
   "id": "d17fd0cc-4876-4ba8-8103-5ce2e2f96ff2",
   "metadata": {
    "execution": {
     "iopub.execute_input": "2025-06-02T06:48:09.562093Z",
     "iopub.status.busy": "2025-06-02T06:48:09.561761Z",
     "iopub.status.idle": "2025-06-02T06:48:09.566876Z",
     "shell.execute_reply": "2025-06-02T06:48:09.565759Z",
     "shell.execute_reply.started": "2025-06-02T06:48:09.562045Z"
    }
   },
   "outputs": [],
   "source": [
    "DATA_DIR = \"../../data/v6-split-dataset/\""
   ]
  },
  {
   "cell_type": "code",
   "execution_count": 4,
   "id": "f83540cb-f33b-48ff-ad42-d144aa5176d1",
   "metadata": {
    "execution": {
     "iopub.execute_input": "2025-06-02T06:48:09.568372Z",
     "iopub.status.busy": "2025-06-02T06:48:09.567950Z",
     "iopub.status.idle": "2025-06-02T06:48:09.573933Z",
     "shell.execute_reply": "2025-06-02T06:48:09.572910Z",
     "shell.execute_reply.started": "2025-06-02T06:48:09.568333Z"
    }
   },
   "outputs": [],
   "source": [
    "x_train_dir = os.path.join(DATA_DIR, \"train/img\")\n",
    "y_train_dir = os.path.join(DATA_DIR, \"train/mask\")\n",
    "\n",
    "x_valid_dir = os.path.join(DATA_DIR, \"val/img\")\n",
    "y_valid_dir = os.path.join(DATA_DIR, \"val/mask\")\n",
    "\n",
    "x_test_dir = os.path.join(DATA_DIR, \"test/img\")\n",
    "y_test_dir = os.path.join(DATA_DIR, \"test/mask\")"
   ]
  },
  {
   "cell_type": "markdown",
   "id": "284a179b-1610-455e-8139-3d5b0c912417",
   "metadata": {},
   "source": [
    "## Preprocessing and save loop"
   ]
  },
  {
   "cell_type": "code",
   "execution_count": 5,
   "id": "b6e33383-08e1-4714-af7a-581ad7571abb",
   "metadata": {
    "execution": {
     "iopub.execute_input": "2025-06-02T06:48:09.575493Z",
     "iopub.status.busy": "2025-06-02T06:48:09.575036Z",
     "iopub.status.idle": "2025-06-02T06:56:47.020728Z",
     "shell.execute_reply": "2025-06-02T06:56:47.019050Z",
     "shell.execute_reply.started": "2025-06-02T06:48:09.575460Z"
    }
   },
   "outputs": [
    {
     "name": "stderr",
     "output_type": "stream",
     "text": [
      "100%|██████████| 24206/24206 [08:37<00:00, 46.82it/s]\n"
     ]
    },
    {
     "name": "stdout",
     "output_type": "stream",
     "text": [
      "Saved 24206 valid image-mask pairs to ../../data/v6-preprocessed-npz/train\n",
      "Skipped 0 invalid or missing pairs\n"
     ]
    }
   ],
   "source": [
    "# Train set\n",
    "preprocess_and_save_npz(\n",
    "    image_dir=x_train_dir,\n",
    "    mask_dir=y_train_dir,\n",
    "    save_dir=\"../../data/v6-preprocessed-npz/train\"\n",
    ")"
   ]
  },
  {
   "cell_type": "code",
   "execution_count": 6,
   "id": "cee83211-129e-4ef9-9bb1-b01aa37eb754",
   "metadata": {
    "execution": {
     "iopub.execute_input": "2025-06-02T06:56:47.024226Z",
     "iopub.status.busy": "2025-06-02T06:56:47.023747Z",
     "iopub.status.idle": "2025-06-02T06:58:30.853813Z",
     "shell.execute_reply": "2025-06-02T06:58:30.852474Z",
     "shell.execute_reply.started": "2025-06-02T06:56:47.024070Z"
    }
   },
   "outputs": [
    {
     "name": "stderr",
     "output_type": "stream",
     "text": [
      "100%|██████████| 5187/5187 [01:43<00:00, 50.12it/s]"
     ]
    },
    {
     "name": "stdout",
     "output_type": "stream",
     "text": [
      "Saved 5187 valid image-mask pairs to ../../data/v6-preprocessed-npz/valid\n",
      "Skipped 0 invalid or missing pairs\n"
     ]
    },
    {
     "name": "stderr",
     "output_type": "stream",
     "text": [
      "\n"
     ]
    }
   ],
   "source": [
    "# Validation set\n",
    "preprocess_and_save_npz(\n",
    "    image_dir=x_valid_dir,\n",
    "    mask_dir=y_valid_dir,\n",
    "    save_dir=\"../../data/v6-preprocessed-npz/valid\"\n",
    ")"
   ]
  },
  {
   "cell_type": "code",
   "execution_count": 7,
   "id": "d5986a96-04ce-4379-a943-13b3b01452a5",
   "metadata": {
    "execution": {
     "iopub.execute_input": "2025-06-02T06:58:30.855891Z",
     "iopub.status.busy": "2025-06-02T06:58:30.855459Z",
     "iopub.status.idle": "2025-06-02T07:00:15.748718Z",
     "shell.execute_reply": "2025-06-02T07:00:15.747484Z",
     "shell.execute_reply.started": "2025-06-02T06:58:30.855844Z"
    }
   },
   "outputs": [
    {
     "name": "stderr",
     "output_type": "stream",
     "text": [
      "100%|██████████| 5187/5187 [01:44<00:00, 49.60it/s]"
     ]
    },
    {
     "name": "stdout",
     "output_type": "stream",
     "text": [
      "Saved 5187 valid image-mask pairs to ../../data/v6-preprocessed-npz/test\n",
      "Skipped 0 invalid or missing pairs\n"
     ]
    },
    {
     "name": "stderr",
     "output_type": "stream",
     "text": [
      "\n"
     ]
    }
   ],
   "source": [
    "# Test set\n",
    "preprocess_and_save_npz(\n",
    "    image_dir=x_test_dir,\n",
    "    mask_dir=y_test_dir,\n",
    "    save_dir=\"../../data/v6-preprocessed-npz/test\"\n",
    ")"
   ]
  }
 ],
 "metadata": {
  "kernelspec": {
   "display_name": "art-restoration-ai",
   "language": "python",
   "name": "art-restoration-ai"
  },
  "language_info": {
   "codemirror_mode": {
    "name": "ipython",
    "version": 3
   },
   "file_extension": ".py",
   "mimetype": "text/x-python",
   "name": "python",
   "nbconvert_exporter": "python",
   "pygments_lexer": "ipython3",
   "version": "3.10.13"
  }
 },
 "nbformat": 4,
 "nbformat_minor": 5
}

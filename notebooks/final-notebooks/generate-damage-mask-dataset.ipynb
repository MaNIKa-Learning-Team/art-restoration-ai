{
 "cells": [
  {
   "cell_type": "markdown",
   "id": "e18a7b5b-7a6a-4e40-9024-a1e77ec58e19",
   "metadata": {},
   "source": [
    "# Generating the Actual Dataset for the Damage Detection Phase"
   ]
  },
  {
   "cell_type": "markdown",
   "id": "8f8a98bf-41ba-4378-bd8a-22c5e037ddf3",
   "metadata": {},
   "source": [
    "This script applies one random, reproducible damage effect (e.g., scratches, water discoloration, or craquelure) to each image in a dataset. It uses multiprocessing to speed up processing across multiple CPU cores, saving both the damaged image and its corresponding damage mask. A metadata file is generated to track the original image, damage type applied, and output file paths."
   ]
  },
  {
   "cell_type": "code",
   "execution_count": 1,
   "id": "6def6f94-6a66-4c5d-bd6c-a3e73f7e5d58",
   "metadata": {
    "execution": {
     "iopub.execute_input": "2025-06-01T15:23:33.874841Z",
     "iopub.status.busy": "2025-06-01T15:23:33.874593Z",
     "iopub.status.idle": "2025-06-01T15:23:35.409394Z",
     "shell.execute_reply": "2025-06-01T15:23:35.407375Z",
     "shell.execute_reply.started": "2025-06-01T15:23:33.874810Z"
    }
   },
   "outputs": [],
   "source": [
    "import os\n",
    "import sys\n",
    "import json\n",
    "import random\n",
    "from pathlib import Path\n",
    "import shutil\n",
    "import hashlib\n",
    "from concurrent.futures import ProcessPoolExecutor, as_completed\n",
    "\n",
    "# Add src/ to sys.path\n",
    "project_root = os.path.abspath(\"../..\")\n",
    "src_path = os.path.join(project_root, \"src\")\n",
    "if src_path not in sys.path:\n",
    "    sys.path.append(src_path)\n",
    "\n",
    "import numpy as np\n",
    "from PIL import Image, ImageDraw, ImageFilter\n",
    "from tqdm import tqdm\n",
    "\n",
    "# Local import\n",
    "from maskerada import (ScratchDamage, WaterDiscolouration, \n",
    "                       CraquelureDamage, NoDamage)"
   ]
  },
  {
   "cell_type": "code",
   "execution_count": 2,
   "id": "72480902-bd3e-46b7-b4b5-86825f471e01",
   "metadata": {
    "execution": {
     "iopub.execute_input": "2025-06-01T15:23:35.411752Z",
     "iopub.status.busy": "2025-06-01T15:23:35.411109Z",
     "iopub.status.idle": "2025-06-01T15:23:35.420643Z",
     "shell.execute_reply": "2025-06-01T15:23:35.418931Z",
     "shell.execute_reply.started": "2025-06-01T15:23:35.411700Z"
    }
   },
   "outputs": [],
   "source": [
    "def get_deterministic_seed(image_path):\n",
    "    \"\"\"\n",
    "    Generate a deterministic integer seed from an image path using SHA-256 hash.\n",
    "\n",
    "    Args:\n",
    "        image_path (str): Path to the input image file.\n",
    "\n",
    "    Returns:\n",
    "        int: 32-bit seed value.\n",
    "    \"\"\"\n",
    "    return int(hashlib.sha256(image_path.encode()).hexdigest(), 16) % (2**32)"
   ]
  },
  {
   "cell_type": "code",
   "execution_count": 3,
   "id": "5338aadd-6902-45c5-9fb5-c8470da80d23",
   "metadata": {
    "execution": {
     "iopub.execute_input": "2025-06-01T15:23:35.424060Z",
     "iopub.status.busy": "2025-06-01T15:23:35.423632Z",
     "iopub.status.idle": "2025-06-01T15:23:35.439667Z",
     "shell.execute_reply": "2025-06-01T15:23:35.437924Z",
     "shell.execute_reply.started": "2025-06-01T15:23:35.424018Z"
    }
   },
   "outputs": [],
   "source": [
    "def process_image(args):\n",
    "    \"\"\"\n",
    "    Applies a randomly selected damage class to an image and saves the damaged image and mask.\n",
    "\n",
    "    Args:\n",
    "        args (tuple): (image_path, base_output_directory, damage_classes)\n",
    "\n",
    "    Returns:\n",
    "        dict or None: Metadata dictionary if successful, else None.\n",
    "    \"\"\"\n",
    "    image_path, base_output_directory, damage_classes = args\n",
    "    original_image_filename = os.path.basename(image_path)\n",
    "    image_identifier = Path(original_image_filename).stem\n",
    "\n",
    "    try:\n",
    "        # Deterministic randomness for reproducibility\n",
    "        seed = get_deterministic_seed(image_path)\n",
    "        random.seed(seed)\n",
    "\n",
    "        image = Image.open(image_path).convert(\"RGB\")\n",
    "\n",
    "        # Support both classes and factories\n",
    "        damage_class = random.choice(damage_classes)\n",
    "        damage_instance = damage_class() if callable(damage_class) else damage_class\n",
    "\n",
    "        # Apply damage\n",
    "        damaged_image, damage_mask = damage_instance.apply(image)\n",
    "\n",
    "        if damaged_image is None or damage_mask is None:\n",
    "            print(f\"[WARNING] {damage_instance.__class__.__name__} returned None for {original_image_filename}\")\n",
    "            return None\n",
    "\n",
    "        # Use lowercase damage type name in filename\n",
    "        damage_type_name = damage_instance.__class__.__name__\n",
    "        damage_suffix = damage_type_name.lower().replace(\"damage\", \"\")\n",
    "\n",
    "        # Flat output directories\n",
    "        damage_img_dir = os.path.join(base_output_directory, \"generated-damaged-images\")\n",
    "        damage_mask_dir = os.path.join(base_output_directory, \"generated-damage-masks\")\n",
    "        os.makedirs(damage_img_dir, exist_ok=True)\n",
    "        os.makedirs(damage_mask_dir, exist_ok=True)\n",
    "\n",
    "        base_filename = f\"{image_identifier}-{damage_suffix}\"\n",
    "        damaged_image_path = os.path.join(damage_img_dir, base_filename + \".png\")\n",
    "        damage_mask_path = os.path.join(damage_mask_dir, base_filename + \"-mask.png\")\n",
    "\n",
    "        damaged_image.convert(\"RGB\").save(damaged_image_path)\n",
    "        damage_mask.save(damage_mask_path)\n",
    "\n",
    "        return {\n",
    "            \"filename\": original_image_filename,\n",
    "            \"damage_type\": damage_type_name,\n",
    "            \"damaged_image\": damaged_image_path,\n",
    "            \"damage_mask\": damage_mask_path\n",
    "        }\n",
    "\n",
    "    except Exception as e:\n",
    "        print(f\"[ERROR] {original_image_filename}: {e}\")\n",
    "        return None"
   ]
  },
  {
   "cell_type": "code",
   "execution_count": 4,
   "id": "69199115-2e51-48d1-b277-c74b464b2ede",
   "metadata": {
    "execution": {
     "iopub.execute_input": "2025-06-01T15:23:35.441670Z",
     "iopub.status.busy": "2025-06-01T15:23:35.441188Z",
     "iopub.status.idle": "2025-06-01T15:23:35.458237Z",
     "shell.execute_reply": "2025-06-01T15:23:35.456107Z",
     "shell.execute_reply.started": "2025-06-01T15:23:35.441620Z"
    }
   },
   "outputs": [],
   "source": [
    "def process_all_images(\n",
    "    image_directory,\n",
    "    base_output_directory,\n",
    "    metadata_output_path,\n",
    "    damage_classes,\n",
    "    sample_size=None,\n",
    "    max_workers=None\n",
    "):\n",
    "    \"\"\"\n",
    "    Applies a random damage class to all images in a directory using multiprocessing.\n",
    "\n",
    "    Args:\n",
    "        image_directory (str): Directory with source images.\n",
    "        base_output_directory (str): Where to save processed images and masks.\n",
    "        metadata_output_path (str): Path to output JSON metadata.\n",
    "        damage_classes (list): List of class objects or callable factories.\n",
    "        sample_size (int or None): Limit number of images processed.\n",
    "        max_workers (int or None): Number of processes to spawn.\n",
    "    \"\"\"\n",
    "    image_directory = Path(image_directory)\n",
    "    image_paths = sorted([p for p in image_directory.glob(\"*\") if p.suffix.lower() in {\".jpg\", \".jpeg\", \".png\"}])\n",
    "\n",
    "    if sample_size:\n",
    "        random.shuffle(image_paths)\n",
    "        image_paths = image_paths[:sample_size]\n",
    "\n",
    "    print(f\"Found {len(image_paths)} images to process.\")\n",
    "\n",
    "    task_args = [(str(path), base_output_directory, damage_classes) for path in image_paths]\n",
    "    results = []\n",
    "\n",
    "    with ProcessPoolExecutor(max_workers=max_workers) as executor:\n",
    "        futures = {executor.submit(process_image, args): args[0] for args in task_args}\n",
    "        for future in tqdm(as_completed(futures), total=len(futures), desc=\"Processing\", unit=\"img\"):\n",
    "            try:\n",
    "                result = future.result()\n",
    "                if result:\n",
    "                    results.append(result)\n",
    "            except Exception as e:\n",
    "                print(f\"[ERROR] Failed to process {futures[future]}: {e}\")\n",
    "\n",
    "    with open(metadata_output_path, \"w\") as f:\n",
    "        json.dump(results, f, indent=2)\n",
    "\n",
    "    print(f\"\\nDone. {len(results)} images processed successfully.\")"
   ]
  },
  {
   "cell_type": "code",
   "execution_count": 5,
   "id": "28b6bed2-e28a-4c3f-8a63-8bc228990427",
   "metadata": {
    "execution": {
     "iopub.execute_input": "2025-06-01T15:23:35.460829Z",
     "iopub.status.busy": "2025-06-01T15:23:35.460295Z",
     "iopub.status.idle": "2025-06-01T15:23:35.468066Z",
     "shell.execute_reply": "2025-06-01T15:23:35.466343Z",
     "shell.execute_reply.started": "2025-06-01T15:23:35.460773Z"
    }
   },
   "outputs": [],
   "source": [
    "def create_craquelure():\n",
    "    \"\"\"\n",
    "    Factory function for CraquelureDamage to ensure it's pickleable in multiprocessing.\n",
    "    \"\"\"\n",
    "    return CraquelureDamage(crack_mask_dir=\"../../data/crack-masks\")"
   ]
  },
  {
   "cell_type": "code",
   "execution_count": 6,
   "id": "7cebf8fa-e300-479d-8438-b2a73d9532c4",
   "metadata": {
    "execution": {
     "iopub.execute_input": "2025-06-01T15:23:35.470642Z",
     "iopub.status.busy": "2025-06-01T15:23:35.470108Z",
     "iopub.status.idle": "2025-06-01T15:39:52.170681Z",
     "shell.execute_reply": "2025-06-01T15:39:52.168630Z",
     "shell.execute_reply.started": "2025-06-01T15:23:35.470587Z"
    }
   },
   "outputs": [
    {
     "name": "stdout",
     "output_type": "stream",
     "text": [
      "Found 34581 images to process.\n"
     ]
    },
    {
     "name": "stderr",
     "output_type": "stream",
     "text": [
      "Processing: 100%|██████████| 34581/34581 [16:08<00:00, 35.69img/s]\n"
     ]
    },
    {
     "name": "stdout",
     "output_type": "stream",
     "text": [
      "\n",
      "Done. 34581 images processed successfully.\n"
     ]
    }
   ],
   "source": [
    "process_all_images(\n",
    "    image_directory=\"../../data/img/\",\n",
    "    base_output_directory=\"../../data/v5-damaged-and-mask-dataset\",\n",
    "    metadata_output_path=\"../../data/v5-damage_metadata.json\",\n",
    "    damage_classes=[\n",
    "        ScratchDamage,\n",
    "        WaterDiscolouration,\n",
    "        create_craquelure,\n",
    "        NoDamage\n",
    "    ],\n",
    "    sample_size=None,\n",
    "    max_workers=None\n",
    ")"
   ]
  }
 ],
 "metadata": {
  "kernelspec": {
   "display_name": "art-restoration-ai",
   "language": "python",
   "name": "art-restoration-ai"
  },
  "language_info": {
   "codemirror_mode": {
    "name": "ipython",
    "version": 3
   },
   "file_extension": ".py",
   "mimetype": "text/x-python",
   "name": "python",
   "nbconvert_exporter": "python",
   "pygments_lexer": "ipython3",
   "version": "3.10.13"
  }
 },
 "nbformat": 4,
 "nbformat_minor": 5
}

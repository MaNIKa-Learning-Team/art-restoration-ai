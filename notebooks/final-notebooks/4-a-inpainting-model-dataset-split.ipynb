{
 "cells": [
  {
   "cell_type": "markdown",
   "id": "927903f2-e8dd-495b-a4e1-34d0ea75919c",
   "metadata": {},
   "source": [
    "# Split to Inpainting"
   ]
  },
  {
   "cell_type": "markdown",
   "id": "180e23d8-8726-4a2f-808c-d3da9fb95277",
   "metadata": {},
   "source": [
    "This notebook reorganizes a pre-split damaged image dataset (`v6-split-dataset`) into a standardized format for image inpainting. It copies and renames damaged images and their masks into a new structure under `inpainting_dataset/{train,val,test}/{img,mask}`, preserving damage type labels in filenames. The process includes identifier extraction, directory setup, file mapping, and progress tracking with tqdm."
   ]
  },
  {
   "cell_type": "markdown",
   "id": "3aae3176-bd87-4c8c-8501-86a06c89cf42",
   "metadata": {},
   "source": [
    "## Imports and Configuration"
   ]
  },
  {
   "cell_type": "code",
   "execution_count": 1,
   "id": "0a774ca0-a4a4-4476-8ea1-45a81113f9be",
   "metadata": {
    "execution": {
     "iopub.execute_input": "2025-06-02T17:11:57.636719Z",
     "iopub.status.busy": "2025-06-02T17:11:57.636069Z",
     "iopub.status.idle": "2025-06-02T17:11:57.786720Z",
     "shell.execute_reply": "2025-06-02T17:11:57.784759Z",
     "shell.execute_reply.started": "2025-06-02T17:11:57.636660Z"
    }
   },
   "outputs": [],
   "source": [
    "import os\n",
    "import shutil\n",
    "from pathlib import Path\n",
    "from collections import defaultdict\n",
    "from tqdm import tqdm\n",
    "\n",
    "# Base paths\n",
    "SOURCE_BASE = Path(\"../../data/v6-split-dataset\")\n",
    "DEST_BASE = Path(\"../../data/inpainting-dataset\")"
   ]
  },
  {
   "cell_type": "markdown",
   "id": "9c953505-2920-4b77-9989-a670ef214267",
   "metadata": {},
   "source": [
    "## Helper Functions"
   ]
  },
  {
   "cell_type": "code",
   "execution_count": 2,
   "id": "64888529-a583-473d-b346-69554cd71979",
   "metadata": {
    "execution": {
     "iopub.execute_input": "2025-06-02T17:11:57.789914Z",
     "iopub.status.busy": "2025-06-02T17:11:57.789113Z",
     "iopub.status.idle": "2025-06-02T17:11:57.802155Z",
     "shell.execute_reply": "2025-06-02T17:11:57.800786Z",
     "shell.execute_reply.started": "2025-06-02T17:11:57.789820Z"
    }
   },
   "outputs": [],
   "source": [
    "def extract_identifier(filename):\n",
    "    \"\"\"Extract base identifier from filename like 'abc123-scratch.png' or 'abc123-scratch-mask.png'.\"\"\"\n",
    "    return filename.split(\"-\")[0]\n",
    "\n",
    "def copy_file(src_path, dest_path):\n",
    "    \"\"\"Copy file from src to dest, creating directories if needed.\"\"\"\n",
    "    dest_path.parent.mkdir(parents=True, exist_ok=True)\n",
    "    shutil.copy2(src_path, dest_path)"
   ]
  },
  {
   "cell_type": "markdown",
   "id": "bc2b5ceb-05d5-4a30-9323-d46325bbd346",
   "metadata": {},
   "source": [
    "## Directory Setup"
   ]
  },
  {
   "cell_type": "code",
   "execution_count": 3,
   "id": "9596e097-bfc3-41d4-aea6-df76d17dba7a",
   "metadata": {
    "execution": {
     "iopub.execute_input": "2025-06-02T17:11:57.804725Z",
     "iopub.status.busy": "2025-06-02T17:11:57.804218Z",
     "iopub.status.idle": "2025-06-02T17:11:58.047752Z",
     "shell.execute_reply": "2025-06-02T17:11:58.046130Z",
     "shell.execute_reply.started": "2025-06-02T17:11:57.804669Z"
    }
   },
   "outputs": [],
   "source": [
    "def create_inpainting_dirs(base_path):\n",
    "    \"\"\"Create inpainting_dataset/<split>/{img,mask} directory structure.\"\"\"\n",
    "    for split in ['train', 'val', 'test']:\n",
    "        (base_path / split / 'img').mkdir(parents=True, exist_ok=True)\n",
    "        (base_path / split / 'mask').mkdir(parents=True, exist_ok=True)\n",
    "\n",
    "create_inpainting_dirs(DEST_BASE)"
   ]
  },
  {
   "cell_type": "markdown",
   "id": "4e162f99-d481-48d6-a766-085b32f78679",
   "metadata": {},
   "source": [
    "## File Mapping and Copying Logic"
   ]
  },
  {
   "cell_type": "code",
   "execution_count": 4,
   "id": "cc3c0db3-6b98-4a30-bbb8-843b3b40a4ab",
   "metadata": {
    "execution": {
     "iopub.execute_input": "2025-06-02T17:11:58.050021Z",
     "iopub.status.busy": "2025-06-02T17:11:58.049502Z",
     "iopub.status.idle": "2025-06-02T17:11:58.063200Z",
     "shell.execute_reply": "2025-06-02T17:11:58.061614Z",
     "shell.execute_reply.started": "2025-06-02T17:11:58.049966Z"
    }
   },
   "outputs": [],
   "source": [
    "def process_split(split):\n",
    "    \"\"\"Process a single data split (train, val, or test) and copy files into the new format.\"\"\"\n",
    "    print(f\"\\nProcessing split: {split}\")\n",
    "\n",
    "    src_split_path = SOURCE_BASE / split\n",
    "    src_img_dir = src_split_path / \"img\"\n",
    "    src_mask_dir = src_split_path / \"mask\"\n",
    "\n",
    "    dest_img_dir = DEST_BASE / split / \"img\"\n",
    "    dest_mask_dir = DEST_BASE / split / \"mask\"\n",
    "\n",
    "    processed = 0\n",
    "    missing_masks = 0\n",
    "\n",
    "    for img_file in tqdm(list(src_img_dir.glob(\"*.png\")), desc=f\"{split.upper()}\"):\n",
    "        identifier = extract_identifier(img_file.name)\n",
    "        damage_type = img_file.name.split(\"-\")[1].replace(\".png\", \"\")\n",
    "\n",
    "        mask_file = src_mask_dir / f\"{identifier}-{damage_type}-mask.png\"\n",
    "        if not mask_file.exists():\n",
    "            missing_masks += 1\n",
    "            continue\n",
    "\n",
    "        # Option: Keep original filenames with damage info\n",
    "        dest_img_path = dest_img_dir / img_file.name\n",
    "        dest_mask_path = dest_mask_dir / mask_file.name\n",
    "\n",
    "        copy_file(img_file, dest_img_path)\n",
    "        copy_file(mask_file, dest_mask_path)\n",
    "\n",
    "        processed += 1\n",
    "\n",
    "    print(f\"Copied {processed} image-mask pairs.\")\n",
    "    if missing_masks > 0:\n",
    "        print(f\"Skipped {missing_masks} due to missing masks.\")"
   ]
  },
  {
   "cell_type": "markdown",
   "id": "bc3d7889-683a-4456-8da3-a81218a2d726",
   "metadata": {},
   "source": [
    "## Execute for All Splits"
   ]
  },
  {
   "cell_type": "code",
   "execution_count": 5,
   "id": "d78d1bd3-7778-4f95-a5dd-aa02490dd199",
   "metadata": {
    "execution": {
     "iopub.execute_input": "2025-06-02T17:11:58.065326Z",
     "iopub.status.busy": "2025-06-02T17:11:58.064808Z",
     "iopub.status.idle": "2025-06-02T17:25:18.459918Z",
     "shell.execute_reply": "2025-06-02T17:25:18.457836Z",
     "shell.execute_reply.started": "2025-06-02T17:11:58.065270Z"
    }
   },
   "outputs": [
    {
     "name": "stdout",
     "output_type": "stream",
     "text": [
      "\n",
      "Processing split: train\n"
     ]
    },
    {
     "name": "stderr",
     "output_type": "stream",
     "text": [
      "TRAIN: 100%|██████████| 24206/24206 [09:19<00:00, 43.23it/s]\n"
     ]
    },
    {
     "name": "stdout",
     "output_type": "stream",
     "text": [
      "Copied 24205 image-mask pairs.\n",
      "Skipped 1 due to missing masks.\n",
      "\n",
      "Processing split: val\n"
     ]
    },
    {
     "name": "stderr",
     "output_type": "stream",
     "text": [
      "VAL: 100%|██████████| 5187/5187 [01:59<00:00, 43.30it/s]\n"
     ]
    },
    {
     "name": "stdout",
     "output_type": "stream",
     "text": [
      "Copied 5187 image-mask pairs.\n",
      "\n",
      "Processing split: test\n"
     ]
    },
    {
     "name": "stderr",
     "output_type": "stream",
     "text": [
      "TEST: 100%|██████████| 5187/5187 [02:00<00:00, 43.12it/s]"
     ]
    },
    {
     "name": "stdout",
     "output_type": "stream",
     "text": [
      "Copied 5186 image-mask pairs.\n",
      "Skipped 1 due to missing masks.\n"
     ]
    },
    {
     "name": "stderr",
     "output_type": "stream",
     "text": [
      "\n"
     ]
    }
   ],
   "source": [
    "for split in ['train', 'val', 'test']:\n",
    "    process_split(split)"
   ]
  },
  {
   "cell_type": "markdown",
   "id": "ec598c0a-4f65-49e2-8a3d-c69e330e6837",
   "metadata": {},
   "source": [
    "## Sanity Check"
   ]
  },
  {
   "cell_type": "code",
   "execution_count": 6,
   "id": "7a832dff-58ca-4142-8131-59cfea5fa84b",
   "metadata": {
    "execution": {
     "iopub.execute_input": "2025-06-02T17:25:18.465757Z",
     "iopub.status.busy": "2025-06-02T17:25:18.465178Z",
     "iopub.status.idle": "2025-06-02T17:25:18.812236Z",
     "shell.execute_reply": "2025-06-02T17:25:18.810929Z",
     "shell.execute_reply.started": "2025-06-02T17:25:18.465699Z"
    }
   },
   "outputs": [
    {
     "name": "stdout",
     "output_type": "stream",
     "text": [
      "\n",
      "=== Sanity Check ===\n",
      "TRAIN: 24205 images, 24205 masks\n",
      "VAL: 5187 images, 5187 masks\n",
      "TEST: 5186 images, 5186 masks\n"
     ]
    }
   ],
   "source": [
    "def count_files(directory):\n",
    "    return len(list(Path(directory).glob(\"*.png\")))\n",
    "\n",
    "print(\"\\n=== Sanity Check ===\")\n",
    "for split in ['train', 'val', 'test']:\n",
    "    img_count = count_files(DEST_BASE / split / 'img')\n",
    "    mask_count = count_files(DEST_BASE / split / 'mask')\n",
    "    print(f\"{split.upper()}: {img_count} images, {mask_count} masks\")"
   ]
  },
  {
   "cell_type": "code",
   "execution_count": 8,
   "id": "32258b8a-e2fb-48e0-88d2-3fa7a4f561f7",
   "metadata": {
    "execution": {
     "iopub.execute_input": "2025-06-02T17:27:50.832654Z",
     "iopub.status.busy": "2025-06-02T17:27:50.832166Z",
     "iopub.status.idle": "2025-06-02T17:27:57.898993Z",
     "shell.execute_reply": "2025-06-02T17:27:57.897824Z",
     "shell.execute_reply.started": "2025-06-02T17:27:50.832614Z"
    }
   },
   "outputs": [
    {
     "name": "stdout",
     "output_type": "stream",
     "text": [
      "\n",
      "Checking: ../../data/inpainting-dataset/train\n",
      "- Images: 24205\n",
      "- Masks : 24205\n"
     ]
    },
    {
     "name": "stderr",
     "output_type": "stream",
     "text": [
      "Validating train: 100%|██████████| 24205/24205 [00:06<00:00, 3765.98it/s]\n"
     ]
    },
    {
     "name": "stdout",
     "output_type": "stream",
     "text": [
      "All image-mask pairs are valid.\n",
      "\n",
      "Checking: ../../data/inpainting-dataset/val\n",
      "- Images: 5187\n",
      "- Masks : 5187\n"
     ]
    },
    {
     "name": "stderr",
     "output_type": "stream",
     "text": [
      "Validating val: 100%|██████████| 5187/5187 [00:00<00:00, 19393.81it/s]\n"
     ]
    },
    {
     "name": "stdout",
     "output_type": "stream",
     "text": [
      "All image-mask pairs are valid.\n",
      "\n",
      "Checking: ../../data/inpainting-dataset/test\n",
      "- Images: 5186\n",
      "- Masks : 5186\n"
     ]
    },
    {
     "name": "stderr",
     "output_type": "stream",
     "text": [
      "Validating test: 100%|██████████| 5186/5186 [00:00<00:00, 18817.73it/s]"
     ]
    },
    {
     "name": "stdout",
     "output_type": "stream",
     "text": [
      "All image-mask pairs are valid.\n"
     ]
    },
    {
     "name": "stderr",
     "output_type": "stream",
     "text": [
      "\n"
     ]
    }
   ],
   "source": [
    "def check_split_integrity(split_dir, mask_suffix=None):\n",
    "    image_dir = os.path.join(split_dir, \"img\")\n",
    "    mask_dir = os.path.join(split_dir, \"mask\")\n",
    "\n",
    "    image_files = sorted(os.listdir(image_dir))\n",
    "    mask_files = sorted(os.listdir(mask_dir))\n",
    "\n",
    "    print(f\"\\nChecking: {split_dir}\")\n",
    "    print(f\"- Images: {len(image_files)}\")\n",
    "    print(f\"- Masks : {len(mask_files)}\")\n",
    "\n",
    "    mismatched = []\n",
    "    for img_file in tqdm(image_files, desc=f\"Validating {os.path.basename(split_dir)}\"):\n",
    "        img_id = os.path.splitext(img_file)[0]\n",
    "        expected_mask = img_id + mask_suffix if mask_suffix else img_file\n",
    "        if expected_mask not in mask_files:\n",
    "            mismatched.append((img_file, expected_mask))\n",
    "\n",
    "    if mismatched:\n",
    "        print(f\"\\nMismatched files ({len(mismatched)}):\")\n",
    "        for img, expected in mismatched[:10]:  # show only first 10\n",
    "            print(f\"  Image: {img} -> Expected mask: {expected}\")\n",
    "    else:\n",
    "        print(\"All image-mask pairs are valid.\")\n",
    "\n",
    "for split in [\"train\", \"val\", \"test\"]:\n",
    "    check_split_integrity(os.path.join(DEST_BASE, split), mask_suffix=\"-mask.png\")  # or \"_mask.png\""
   ]
  }
 ],
 "metadata": {
  "kernelspec": {
   "display_name": "art-restoration-ai",
   "language": "python",
   "name": "art-restoration-ai"
  },
  "language_info": {
   "codemirror_mode": {
    "name": "ipython",
    "version": 3
   },
   "file_extension": ".py",
   "mimetype": "text/x-python",
   "name": "python",
   "nbconvert_exporter": "python",
   "pygments_lexer": "ipython3",
   "version": "3.10.13"
  }
 },
 "nbformat": 4,
 "nbformat_minor": 5
}

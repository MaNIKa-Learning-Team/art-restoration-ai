{
 "cells": [
  {
   "cell_type": "markdown",
   "id": "d24ab21d-f36f-4c5d-93ea-9c0ec8a79433",
   "metadata": {},
   "source": [
    "# Baseline Evaluations for Damage Segmentation"
   ]
  },
  {
   "cell_type": "markdown",
   "id": "25389334-18a8-448c-b29e-e5662851e36c",
   "metadata": {},
   "source": [
    "This notebook establishes simple, non-learning baseline models for binary damage segmentation.  \n",
    "Each baseline is evaluated per image using standard pixel-level classification metrics: IoU, F1-score, Precision, and Recall.\n",
    "\n",
    "The baselines serve as reference points to assess whether a trained segmentation model is learning meaningful patterns beyond naive guessing or memorization.\n",
    "\n",
    "## Included Baselines\n",
    "\n",
    "- **All-Zeros Prediction**  \n",
    "  Predicts all pixels as background (no damage). Serves as a conservative baseline that avoids false positives but misses all actual damage.\n",
    "\n",
    "- **All-Ones Prediction**  \n",
    "  Predicts all pixels as damage. Captures all damaged areas (high recall) but performs poorly on precision due to overwhelming false positives.\n",
    "\n",
    "- **Mean Mask Prediction**  \n",
    "  Uses the average of all training masks (thresholded) as a fixed prediction for every test image. Simulates a model that learns only the general location and frequency of damage without seeing input images.\n",
    "\n",
    "Each strategy is evaluated using preprocessed `.npz` files for consistency with the training pipeline, and metrics are computed per mask then averaged to ensure robustness despite varying image sizes.\n"
   ]
  },
  {
   "cell_type": "markdown",
   "id": "379b71f2-cae7-4739-801b-57ad67ec7f4f",
   "metadata": {},
   "source": [
    "## Setup and Imports"
   ]
  },
  {
   "cell_type": "code",
   "execution_count": 1,
   "id": "16212718-0ded-4561-88b9-0d61f7da9426",
   "metadata": {
    "execution": {
     "iopub.execute_input": "2025-06-02T02:02:14.681341Z",
     "iopub.status.busy": "2025-06-02T02:02:14.680753Z",
     "iopub.status.idle": "2025-06-02T02:02:16.530409Z",
     "shell.execute_reply": "2025-06-02T02:02:16.529141Z",
     "shell.execute_reply.started": "2025-06-02T02:02:14.681287Z"
    }
   },
   "outputs": [],
   "source": [
    "import os\n",
    "import numpy as np\n",
    "from glob import glob\n",
    "from tqdm import tqdm\n",
    "from sklearn.metrics import f1_score, precision_score, recall_score, jaccard_score"
   ]
  },
  {
   "cell_type": "markdown",
   "id": "02f17971-5718-4aa6-a687-007cbca18859",
   "metadata": {},
   "source": [
    "## Load Test File Paths"
   ]
  },
  {
   "cell_type": "code",
   "execution_count": 2,
   "id": "5e1f36e0-c25d-4620-b8a6-7c5100655ab7",
   "metadata": {
    "execution": {
     "iopub.execute_input": "2025-06-02T02:02:16.531803Z",
     "iopub.status.busy": "2025-06-02T02:02:16.531470Z",
     "iopub.status.idle": "2025-06-02T02:02:16.550876Z",
     "shell.execute_reply": "2025-06-02T02:02:16.550123Z",
     "shell.execute_reply.started": "2025-06-02T02:02:16.531777Z"
    }
   },
   "outputs": [],
   "source": [
    "# Path to preprocessed test data\n",
    "test_file_paths = sorted(glob(\"../../data/v4-preprocessed-npz/test/*.npz\"))"
   ]
  },
  {
   "cell_type": "code",
   "execution_count": 3,
   "id": "1d88e4ae-17f3-4228-9fa0-2983ce38270d",
   "metadata": {
    "execution": {
     "iopub.execute_input": "2025-06-02T02:02:16.551881Z",
     "iopub.status.busy": "2025-06-02T02:02:16.551645Z",
     "iopub.status.idle": "2025-06-02T02:09:58.388999Z",
     "shell.execute_reply": "2025-06-02T02:09:58.386792Z",
     "shell.execute_reply.started": "2025-06-02T02:02:16.551857Z"
    }
   },
   "outputs": [
    {
     "name": "stderr",
     "output_type": "stream",
     "text": [
      "Computing mean training mask: 100%|██████████| 24205/24205 [07:41<00:00, 52.47it/s]\n"
     ]
    }
   ],
   "source": [
    "# Load training mask paths for mean mask computation\n",
    "train_file_paths = sorted(glob(\"../../data/v4-preprocessed-npz/train/*.npz\"))\n",
    "\n",
    "# Compute mean mask across all training masks\n",
    "accumulator = None\n",
    "num_masks = 0\n",
    "\n",
    "for path in tqdm(train_file_paths, desc=\"Computing mean training mask\"):\n",
    "    with np.load(path) as data:\n",
    "        mask = data[\"mask\"].astype(np.float32)\n",
    "        if accumulator is None:\n",
    "            accumulator = np.zeros_like(mask)\n",
    "        accumulator += mask\n",
    "        num_masks += 1\n",
    "\n",
    "mean_mask = accumulator / num_masks\n",
    "binary_mean_mask = (mean_mask > 0.5).astype(np.uint8)  # threshold at 50%"
   ]
  },
  {
   "cell_type": "markdown",
   "id": "28437869-4f13-49fb-969b-f680ef96ac9b",
   "metadata": {},
   "source": [
    "## Initialize Metric Lists"
   ]
  },
  {
   "cell_type": "code",
   "execution_count": 4,
   "id": "6ac24bc7-7f67-40a0-9ca6-c398299d5cf6",
   "metadata": {
    "execution": {
     "iopub.execute_input": "2025-06-02T02:09:58.392119Z",
     "iopub.status.busy": "2025-06-02T02:09:58.391526Z",
     "iopub.status.idle": "2025-06-02T02:09:58.402330Z",
     "shell.execute_reply": "2025-06-02T02:09:58.400676Z",
     "shell.execute_reply.started": "2025-06-02T02:09:58.392039Z"
    }
   },
   "outputs": [],
   "source": [
    "# For all-zeros prediction\n",
    "ious_zeros, f1s_zeros, precisions_zeros, recalls_zeros = [], [], [], []\n",
    "\n",
    "# For all-ones prediction\n",
    "ious_ones, f1s_ones, precisions_ones, recalls_ones = [], [], [], []\n",
    "\n",
    "# Evaluate mean mask as a fixed prediction for each test image\n",
    "ious_mean, f1s_mean, precisions_mean, recalls_mean = [], [], [], []"
   ]
  },
  {
   "cell_type": "markdown",
   "id": "f09b4530-a20f-464b-b1ea-b838c2b9fd5e",
   "metadata": {},
   "source": [
    "## Evaluate Baselines Per File"
   ]
  },
  {
   "cell_type": "code",
   "execution_count": 5,
   "id": "2e18b1f0-d293-47a2-b91a-2481ab00bb7b",
   "metadata": {
    "execution": {
     "iopub.execute_input": "2025-06-02T02:09:58.404697Z",
     "iopub.status.busy": "2025-06-02T02:09:58.404163Z",
     "iopub.status.idle": "2025-06-02T02:17:27.109513Z",
     "shell.execute_reply": "2025-06-02T02:17:27.108479Z",
     "shell.execute_reply.started": "2025-06-02T02:09:58.404643Z"
    }
   },
   "outputs": [
    {
     "name": "stderr",
     "output_type": "stream",
     "text": [
      "Evaluating baselines per mask: 100%|██████████| 5188/5188 [07:28<00:00, 11.56it/s]\n"
     ]
    }
   ],
   "source": [
    "# all_zeros and all_ones\n",
    "for path in tqdm(test_file_paths, desc=\"Evaluating baselines per mask\"):\n",
    "    with np.load(path) as data:\n",
    "        mask = data[\"mask\"].astype(np.uint8).flatten()\n",
    "\n",
    "    # All-zeros and all-ones predictions\n",
    "    zeros = np.zeros_like(mask)\n",
    "    ones = np.ones_like(mask)\n",
    "\n",
    "    # All-zeros metrics\n",
    "    ious_zeros.append(jaccard_score(mask, zeros, zero_division=0))\n",
    "    f1s_zeros.append(f1_score(mask, zeros, zero_division=0))\n",
    "    precisions_zeros.append(precision_score(mask, zeros, zero_division=0))\n",
    "    recalls_zeros.append(recall_score(mask, zeros, zero_division=0))\n",
    "\n",
    "    # All-ones metrics\n",
    "    ious_ones.append(jaccard_score(mask, ones, zero_division=0))\n",
    "    f1s_ones.append(f1_score(mask, ones, zero_division=0))\n",
    "    precisions_ones.append(precision_score(mask, ones, zero_division=0))\n",
    "    recalls_ones.append(recall_score(mask, ones, zero_division=0))"
   ]
  },
  {
   "cell_type": "code",
   "execution_count": 6,
   "id": "5d9ad32e-4e46-41a0-80ec-c6b5c597b311",
   "metadata": {
    "execution": {
     "iopub.execute_input": "2025-06-02T02:17:27.112232Z",
     "iopub.status.busy": "2025-06-02T02:17:27.111947Z",
     "iopub.status.idle": "2025-06-02T02:20:57.645588Z",
     "shell.execute_reply": "2025-06-02T02:20:57.644263Z",
     "shell.execute_reply.started": "2025-06-02T02:17:27.112206Z"
    }
   },
   "outputs": [
    {
     "name": "stderr",
     "output_type": "stream",
     "text": [
      "Evaluating mean mask baseline: 100%|██████████| 5188/5188 [03:30<00:00, 24.64it/s]\n"
     ]
    }
   ],
   "source": [
    "# mean_mask\n",
    "for path in tqdm(test_file_paths, desc=\"Evaluating mean mask baseline\"):\n",
    "    with np.load(path) as data:\n",
    "        mask = data[\"mask\"].astype(np.uint8)\n",
    "\n",
    "    if mask.shape != binary_mean_mask.shape:\n",
    "        continue  # skip mismatched shape cases\n",
    "\n",
    "    y_true_flat = mask.flatten()\n",
    "    y_pred_flat = binary_mean_mask.flatten()\n",
    "\n",
    "    ious_mean.append(jaccard_score(y_true_flat, y_pred_flat, zero_division=0))\n",
    "    f1s_mean.append(f1_score(y_true_flat, y_pred_flat, zero_division=0))\n",
    "    precisions_mean.append(precision_score(y_true_flat, y_pred_flat, zero_division=0))\n",
    "    recalls_mean.append(recall_score(y_true_flat, y_pred_flat, zero_division=0))"
   ]
  },
  {
   "cell_type": "markdown",
   "id": "ce81fd0f-3baa-408d-b103-a339c3cceaea",
   "metadata": {},
   "source": [
    "## Agggregate Metrics"
   ]
  },
  {
   "cell_type": "code",
   "execution_count": 7,
   "id": "b3fadd1e-37dd-4f0c-9a60-ee2d30003ef6",
   "metadata": {
    "execution": {
     "iopub.execute_input": "2025-06-02T02:20:57.647073Z",
     "iopub.status.busy": "2025-06-02T02:20:57.646775Z",
     "iopub.status.idle": "2025-06-02T02:20:57.658539Z",
     "shell.execute_reply": "2025-06-02T02:20:57.657245Z",
     "shell.execute_reply.started": "2025-06-02T02:20:57.647046Z"
    }
   },
   "outputs": [],
   "source": [
    "metrics_all_zeros = {\n",
    "    \"IoU\": np.mean(ious_zeros),\n",
    "    \"F1-score\": np.mean(f1s_zeros),\n",
    "    \"Precision\": np.mean(precisions_zeros),\n",
    "    \"Recall\": np.mean(recalls_zeros),\n",
    "}\n",
    "\n",
    "metrics_all_ones = {\n",
    "    \"IoU\": np.mean(ious_ones),\n",
    "    \"F1-score\": np.mean(f1s_ones),\n",
    "    \"Precision\": np.mean(precisions_ones),\n",
    "    \"Recall\": np.mean(recalls_ones),\n",
    "}\n",
    "\n",
    "metrics_mean_mask = {\n",
    "    \"IoU\": np.mean(ious_mean),\n",
    "    \"F1-score\": np.mean(f1s_mean),\n",
    "    \"Precision\": np.mean(precisions_mean),\n",
    "    \"Recall\": np.mean(recalls_mean),\n",
    "}"
   ]
  },
  {
   "cell_type": "markdown",
   "id": "e89226ec-d68e-4041-9906-63f575878ab1",
   "metadata": {},
   "source": [
    "## Display Comparison Results"
   ]
  },
  {
   "cell_type": "code",
   "execution_count": 8,
   "id": "ac42f94e-746a-4ad7-b0e7-1e34a79c9146",
   "metadata": {
    "execution": {
     "iopub.execute_input": "2025-06-02T02:20:57.659914Z",
     "iopub.status.busy": "2025-06-02T02:20:57.659590Z",
     "iopub.status.idle": "2025-06-02T02:20:57.667185Z",
     "shell.execute_reply": "2025-06-02T02:20:57.666185Z",
     "shell.execute_reply.started": "2025-06-02T02:20:57.659878Z"
    }
   },
   "outputs": [
    {
     "name": "stdout",
     "output_type": "stream",
     "text": [
      "=== Baseline Evaluation (Per-Mask Averaged) ===\n",
      "\n",
      "All-Zeros Prediction:\n",
      "       IoU: 0.0000\n",
      "  F1-score: 0.0000\n",
      " Precision: 0.0000\n",
      "    Recall: 0.0000\n",
      "\n",
      "All-Ones Prediction:\n",
      "       IoU: 0.1418\n",
      "  F1-score: 0.2340\n",
      " Precision: 0.1418\n",
      "    Recall: 0.9030\n",
      "\n",
      "Mean Mask Prediction:\n",
      "       IoU: 0.0000\n",
      "  F1-score: 0.0000\n",
      " Precision: 0.0000\n",
      "    Recall: 0.0000\n"
     ]
    }
   ],
   "source": [
    "print(\"=== Baseline Evaluation (Per-Mask Averaged) ===\\n\")\n",
    "\n",
    "print(\"All-Zeros Prediction:\")\n",
    "for key, value in metrics_all_zeros.items():\n",
    "    print(f\"{key:>10}: {value:.4f}\")\n",
    "\n",
    "print(\"\\nAll-Ones Prediction:\")\n",
    "for key, value in metrics_all_ones.items():\n",
    "    print(f\"{key:>10}: {value:.4f}\")\n",
    "\n",
    "print(\"\\nMean Mask Prediction:\")\n",
    "for key, value in metrics_mean_mask.items():\n",
    "    print(f\"{key:>10}: {value:.4f}\")"
   ]
  },
  {
   "cell_type": "markdown",
   "id": "e8052c0a-ec4a-4f1c-a3ce-555e0da04ac2",
   "metadata": {},
   "source": [
    "### Interpretation of Results\n",
    "\n",
    "To assess the baseline performance of trivial segmentation strategies, we evaluated three naive prediction masks against the ground truth:\n",
    "\n",
    "#### 1. All-Zeros Prediction\n",
    "The model predicts no damage at all.\n",
    "- **IoU, F1-score, Precision, and Recall are all 0.000**, indicating a complete failure to detect any damaged regions.\n",
    "- This serves as a **lower bound** baseline for model performance.\n",
    "\n",
    "#### 2. All-Ones Prediction\n",
    "The model marks the entire image as damaged.\n",
    "- **High recall (0.903)** suggests that most ground truth damage is indeed covered.\n",
    "- However, **low precision (0.1418)** reveals that a large portion of the predicted damage is incorrect (false positives).\n",
    "- **F1-score and IoU remain low**, reflecting the lack of selectivity in the prediction.\n",
    "- This highlights the **tradeoff between recall and precision** when damage is overpredicted.\n",
    "\n",
    "#### 3. Mean Mask Prediction\n",
    "A constant or average-valued mask (likely a soft, non-binary output).\n",
    "- All metrics are **0.000**, indicating that after thresholding, the output fails to meaningfully overlap with the actual damage.\n",
    "- This suggests that **uninformative or undertrained outputs** (e.g., from an untrained network) are ineffective for segmentation."
   ]
  }
 ],
 "metadata": {
  "kernelspec": {
   "display_name": "art-restoration-ai",
   "language": "python",
   "name": "art-restoration-ai"
  },
  "language_info": {
   "codemirror_mode": {
    "name": "ipython",
    "version": 3
   },
   "file_extension": ".py",
   "mimetype": "text/x-python",
   "name": "python",
   "nbconvert_exporter": "python",
   "pygments_lexer": "ipython3",
   "version": "3.10.13"
  }
 },
 "nbformat": 4,
 "nbformat_minor": 5
}

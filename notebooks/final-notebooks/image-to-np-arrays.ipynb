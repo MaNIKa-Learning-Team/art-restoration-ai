{
 "cells": [
  {
   "cell_type": "markdown",
   "id": "f6dadf12-0a91-41a7-86f7-1eacc48d736c",
   "metadata": {},
   "source": [
    "# Converting the image data to tensors"
   ]
  },
  {
   "cell_type": "markdown",
   "id": "44e01e88-7c5b-481f-a099-4a5d70dedbbc",
   "metadata": {},
   "source": [
    "## Imports and configurations"
   ]
  },
  {
   "cell_type": "code",
   "execution_count": 1,
   "id": "306d73ea-0871-4f2c-85b6-b4e60f881e03",
   "metadata": {
    "execution": {
     "iopub.execute_input": "2025-05-31T20:38:27.309036Z",
     "iopub.status.busy": "2025-05-31T20:38:27.308535Z",
     "iopub.status.idle": "2025-05-31T20:38:27.844558Z",
     "shell.execute_reply": "2025-05-31T20:38:27.843760Z",
     "shell.execute_reply.started": "2025-05-31T20:38:27.308993Z"
    }
   },
   "outputs": [],
   "source": [
    "from pathlib import Path\n",
    "import os\n",
    "import glob\n",
    "import cv2\n",
    "import numpy as np\n",
    "from tqdm import tqdm\n",
    "import multiprocessing as mp\n",
    "import json"
   ]
  },
  {
   "cell_type": "markdown",
   "id": "9afcd4ee-2d4c-46e6-9881-c863bc69b19a",
   "metadata": {},
   "source": [
    "## Utility functions (multiprocessing and conversion)"
   ]
  },
  {
   "cell_type": "code",
   "execution_count": 2,
   "id": "f2163c2b-715f-475d-9167-044e29ce729d",
   "metadata": {
    "execution": {
     "iopub.execute_input": "2025-05-31T20:38:27.846522Z",
     "iopub.status.busy": "2025-05-31T20:38:27.846082Z",
     "iopub.status.idle": "2025-05-31T20:38:27.862421Z",
     "shell.execute_reply": "2025-05-31T20:38:27.861261Z",
     "shell.execute_reply.started": "2025-05-31T20:38:27.846482Z"
    }
   },
   "outputs": [],
   "source": [
    "def _process_single_pair(args):\n",
    "    img_file, image_dir, mask_dir, save_dir, image_size = args\n",
    "    img_id = Path(img_file).stem\n",
    "    mask_file = f\"{img_id}-mask.png\"\n",
    "\n",
    "    img_path = os.path.join(image_dir, img_file)\n",
    "    msk_path = os.path.join(mask_dir, mask_file)\n",
    "\n",
    "    if not os.path.exists(msk_path):\n",
    "        print(f\"Missing mask for image: {img_file}\")\n",
    "        return False\n",
    "\n",
    "    image = cv2.imread(img_path)\n",
    "    mask = cv2.imread(msk_path, cv2.IMREAD_GRAYSCALE)\n",
    "\n",
    "    if image is None:\n",
    "        print(f\"Failed to read image: {img_path}\")\n",
    "        return False\n",
    "    if mask is None:\n",
    "        print(f\"Failed to read mask: {msk_path}\")\n",
    "        return False\n",
    "\n",
    "    try:\n",
    "        image = cv2.cvtColor(image, cv2.COLOR_BGR2RGB)\n",
    "        image = cv2.resize(image, image_size).astype(\"float32\") / 255.0\n",
    "\n",
    "        mask = cv2.resize(mask, image_size)\n",
    "        mask = np.where(mask > 0, 1, 0).astype(\"float32\")\n",
    "        mask = np.expand_dims(mask, axis=-1)\n",
    "\n",
    "        npz_path = os.path.join(save_dir, f\"{img_id}.npz\")\n",
    "        np.savez(npz_path, image=image, mask=mask)\n",
    "    except Exception as e:\n",
    "        print(f\"Error processing {img_id}: {e}\")\n",
    "        return False\n",
    "\n",
    "    return True\n",
    "\n",
    "\n",
    "def preprocess_and_save_npz(image_dir, mask_dir, save_dir, image_size=(320, 320)):\n",
    "    os.makedirs(save_dir, exist_ok=True)\n",
    "    image_files = sorted(os.listdir(image_dir))\n",
    "\n",
    "    args = [\n",
    "        (img_file, image_dir, mask_dir, save_dir, image_size)\n",
    "        for img_file in image_files\n",
    "    ]\n",
    "\n",
    "    with mp.Pool(processes=mp.cpu_count()) as pool:\n",
    "        results = list(tqdm(pool.imap(_process_single_pair, args), total=len(args)))\n",
    "\n",
    "    valid_pairs = sum(results)\n",
    "    skipped_pairs = len(results) - valid_pairs\n",
    "\n",
    "    print(f\"Saved {valid_pairs} valid image-mask pairs to {save_dir}\")\n",
    "    print(f\"Skipped {skipped_pairs} invalid or missing pairs\")\n"
   ]
  },
  {
   "cell_type": "markdown",
   "id": "db712045-800c-4a2e-8965-c332a2a8b7ea",
   "metadata": {},
   "source": [
    "## Set directories"
   ]
  },
  {
   "cell_type": "code",
   "execution_count": 3,
   "id": "d17fd0cc-4876-4ba8-8103-5ce2e2f96ff2",
   "metadata": {
    "execution": {
     "iopub.execute_input": "2025-05-31T20:38:27.865602Z",
     "iopub.status.busy": "2025-05-31T20:38:27.864801Z",
     "iopub.status.idle": "2025-05-31T20:38:27.870048Z",
     "shell.execute_reply": "2025-05-31T20:38:27.869089Z",
     "shell.execute_reply.started": "2025-05-31T20:38:27.865563Z"
    }
   },
   "outputs": [],
   "source": [
    "DATA_DIR = \"../../data/v4-damaged-and-mask-dataset/\""
   ]
  },
  {
   "cell_type": "code",
   "execution_count": 4,
   "id": "f83540cb-f33b-48ff-ad42-d144aa5176d1",
   "metadata": {
    "execution": {
     "iopub.execute_input": "2025-05-31T20:38:27.871220Z",
     "iopub.status.busy": "2025-05-31T20:38:27.870883Z",
     "iopub.status.idle": "2025-05-31T20:38:27.878351Z",
     "shell.execute_reply": "2025-05-31T20:38:27.876881Z",
     "shell.execute_reply.started": "2025-05-31T20:38:27.871185Z"
    }
   },
   "outputs": [],
   "source": [
    "x_train_dir = os.path.join(DATA_DIR, \"img-with-val/train/\")\n",
    "y_train_dir = os.path.join(DATA_DIR, \"mask-with-val/train/\")\n",
    "\n",
    "x_valid_dir = os.path.join(DATA_DIR, \"img-with-val/val/\")\n",
    "y_valid_dir = os.path.join(DATA_DIR, \"mask-with-val/val/\")\n",
    "\n",
    "x_test_dir = os.path.join(DATA_DIR, \"img-with-val/test/\")\n",
    "y_test_dir = os.path.join(DATA_DIR, \"mask-with-val/test/\")"
   ]
  },
  {
   "cell_type": "markdown",
   "id": "284a179b-1610-455e-8139-3d5b0c912417",
   "metadata": {},
   "source": [
    "## Preprocessing and save loop"
   ]
  },
  {
   "cell_type": "code",
   "execution_count": 5,
   "id": "b6e33383-08e1-4714-af7a-581ad7571abb",
   "metadata": {
    "execution": {
     "iopub.execute_input": "2025-05-31T20:38:27.879832Z",
     "iopub.status.busy": "2025-05-31T20:38:27.879283Z",
     "iopub.status.idle": "2025-05-31T20:41:38.225491Z",
     "shell.execute_reply": "2025-05-31T20:41:38.224621Z",
     "shell.execute_reply.started": "2025-05-31T20:38:27.879795Z"
    }
   },
   "outputs": [
    {
     "name": "stderr",
     "output_type": "stream",
     "text": [
      "100%|██████████| 24205/24205 [03:09<00:00, 127.42it/s]\n"
     ]
    },
    {
     "name": "stdout",
     "output_type": "stream",
     "text": [
      "Saved 24205 valid image-mask pairs to ../../data/v4-preprocessed-npz/train\n",
      "Skipped 0 invalid or missing pairs\n"
     ]
    }
   ],
   "source": [
    "# Train set\n",
    "preprocess_and_save_npz(\n",
    "    image_dir=x_train_dir,\n",
    "    mask_dir=y_train_dir,\n",
    "    save_dir=\"../../data/v4-preprocessed-npz/train\"\n",
    ")"
   ]
  },
  {
   "cell_type": "code",
   "execution_count": 6,
   "id": "cee83211-129e-4ef9-9bb1-b01aa37eb754",
   "metadata": {
    "execution": {
     "iopub.execute_input": "2025-05-31T20:41:38.227428Z",
     "iopub.status.busy": "2025-05-31T20:41:38.226648Z",
     "iopub.status.idle": "2025-05-31T20:42:13.791392Z",
     "shell.execute_reply": "2025-05-31T20:42:13.790453Z",
     "shell.execute_reply.started": "2025-05-31T20:41:38.227382Z"
    }
   },
   "outputs": [
    {
     "name": "stderr",
     "output_type": "stream",
     "text": [
      "100%|██████████| 5186/5186 [00:35<00:00, 147.32it/s]"
     ]
    },
    {
     "name": "stdout",
     "output_type": "stream",
     "text": [
      "Saved 5186 valid image-mask pairs to ../../data/v4-preprocessed-npz/valid\n",
      "Skipped 0 invalid or missing pairs\n"
     ]
    },
    {
     "name": "stderr",
     "output_type": "stream",
     "text": [
      "\n"
     ]
    }
   ],
   "source": [
    "# Validation set\n",
    "preprocess_and_save_npz(\n",
    "    image_dir=x_valid_dir,\n",
    "    mask_dir=y_valid_dir,\n",
    "    save_dir=\"../../data/v4-preprocessed-npz/valid\"\n",
    ")"
   ]
  },
  {
   "cell_type": "code",
   "execution_count": 7,
   "id": "d5986a96-04ce-4379-a943-13b3b01452a5",
   "metadata": {
    "execution": {
     "iopub.execute_input": "2025-05-31T20:42:13.793427Z",
     "iopub.status.busy": "2025-05-31T20:42:13.792759Z",
     "iopub.status.idle": "2025-05-31T20:42:52.852508Z",
     "shell.execute_reply": "2025-05-31T20:42:52.851632Z",
     "shell.execute_reply.started": "2025-05-31T20:42:13.793383Z"
    }
   },
   "outputs": [
    {
     "name": "stderr",
     "output_type": "stream",
     "text": [
      "100%|██████████| 5188/5188 [00:38<00:00, 134.04it/s]"
     ]
    },
    {
     "name": "stdout",
     "output_type": "stream",
     "text": [
      "Saved 5188 valid image-mask pairs to ../../data/v4-preprocessed-npz/test\n",
      "Skipped 0 invalid or missing pairs\n"
     ]
    },
    {
     "name": "stderr",
     "output_type": "stream",
     "text": [
      "\n"
     ]
    }
   ],
   "source": [
    "# Test set\n",
    "preprocess_and_save_npz(\n",
    "    image_dir=x_test_dir,\n",
    "    mask_dir=y_test_dir,\n",
    "    save_dir=\"../../data/v4-preprocessed-npz/test\"\n",
    ")"
   ]
  }
 ],
 "metadata": {
  "kernelspec": {
   "display_name": "art-restoration-ai",
   "language": "python",
   "name": "art-restoration-ai"
  },
  "language_info": {
   "codemirror_mode": {
    "name": "ipython",
    "version": 3
   },
   "file_extension": ".py",
   "mimetype": "text/x-python",
   "name": "python",
   "nbconvert_exporter": "python",
   "pygments_lexer": "ipython3",
   "version": "3.10.13"
  }
 },
 "nbformat": 4,
 "nbformat_minor": 5
}

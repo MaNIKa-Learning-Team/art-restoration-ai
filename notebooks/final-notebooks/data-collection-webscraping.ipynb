{
 "cells": [
  {
   "cell_type": "markdown",
   "id": "b58b9b10-fafa-4f67-8b4d-7dd44ffa2e59",
   "metadata": {
    "execution": {
     "iopub.execute_input": "2025-05-05T03:09:36.692822Z",
     "iopub.status.busy": "2025-05-05T03:09:36.691874Z",
     "iopub.status.idle": "2025-05-05T03:09:36.875608Z",
     "shell.execute_reply": "2025-05-05T03:09:36.874890Z",
     "shell.execute_reply.started": "2025-05-05T03:09:36.692757Z"
    }
   },
   "source": [
    "# Data Collection via Webscraping"
   ]
  },
  {
   "cell_type": "code",
   "execution_count": 1,
   "id": "5567121d-af00-4582-9f33-fa3826e3680d",
   "metadata": {
    "execution": {
     "iopub.execute_input": "2025-05-05T13:27:57.625541Z",
     "iopub.status.busy": "2025-05-05T13:27:57.625295Z",
     "iopub.status.idle": "2025-05-05T13:27:57.629690Z",
     "shell.execute_reply": "2025-05-05T13:27:57.628901Z",
     "shell.execute_reply.started": "2025-05-05T13:27:57.625510Z"
    }
   },
   "outputs": [],
   "source": [
    "# !git clone https://github.com/michaelvin1322/scrapWikiArt.git\n",
    "# !cd scrapWikiArt"
   ]
  },
  {
   "cell_type": "code",
   "execution_count": 2,
   "id": "5909f831-5b2b-4bdc-8dc2-7c659e3147a1",
   "metadata": {
    "execution": {
     "iopub.execute_input": "2025-05-05T13:27:57.633742Z",
     "iopub.status.busy": "2025-05-05T13:27:57.633513Z",
     "iopub.status.idle": "2025-05-05T13:27:57.639723Z",
     "shell.execute_reply": "2025-05-05T13:27:57.638697Z",
     "shell.execute_reply.started": "2025-05-05T13:27:57.633718Z"
    }
   },
   "outputs": [],
   "source": [
    "# Change current directory to scrapWikiArt\n",
    "# !cd ./scrapWikiArt"
   ]
  },
  {
   "cell_type": "code",
   "execution_count": 3,
   "id": "1cb93263-b449-429b-8cdb-b0c4dff4ccac",
   "metadata": {
    "execution": {
     "iopub.execute_input": "2025-05-05T13:27:57.641042Z",
     "iopub.status.busy": "2025-05-05T13:27:57.640817Z",
     "iopub.status.idle": "2025-05-05T13:27:57.646333Z",
     "shell.execute_reply": "2025-05-05T13:27:57.645083Z",
     "shell.execute_reply.started": "2025-05-05T13:27:57.641020Z"
    }
   },
   "outputs": [],
   "source": [
    "# !python -m venv venv\n",
    "# !source venv/bin/activate\n",
    "# !pip install -r requirements.txt"
   ]
  },
  {
   "cell_type": "code",
   "execution_count": 4,
   "id": "1ac4f028-a176-484a-8f7f-b61ff23034cb",
   "metadata": {
    "execution": {
     "iopub.execute_input": "2025-05-05T13:27:57.647300Z",
     "iopub.status.busy": "2025-05-05T13:27:57.647069Z",
     "iopub.status.idle": "2025-05-05T13:27:58.311372Z",
     "shell.execute_reply": "2025-05-05T13:27:58.310189Z",
     "shell.execute_reply.started": "2025-05-05T13:27:57.647277Z"
    }
   },
   "outputs": [],
   "source": [
    "import scrapy\n",
    "from bs4 import BeautifulSoup\n",
    "from ScrapWikiArt.items import ImageItem"
   ]
  },
  {
   "cell_type": "code",
   "execution_count": 5,
   "id": "5380ef28-8cf1-430a-9dd7-4401c3e8cba1",
   "metadata": {
    "execution": {
     "iopub.execute_input": "2025-05-05T13:27:58.314205Z",
     "iopub.status.busy": "2025-05-05T13:27:58.312789Z",
     "iopub.status.idle": "2025-05-05T13:27:58.321815Z",
     "shell.execute_reply": "2025-05-05T13:27:58.319750Z",
     "shell.execute_reply.started": "2025-05-05T13:27:58.314127Z"
    }
   },
   "outputs": [],
   "source": [
    "# !pip install scrapy-rotating-proxies"
   ]
  },
  {
   "cell_type": "code",
   "execution_count": 6,
   "id": "b6481dd8-a18a-47e9-94d4-af6ed9faa733",
   "metadata": {
    "execution": {
     "iopub.execute_input": "2025-05-05T13:27:58.335755Z",
     "iopub.status.busy": "2025-05-05T13:27:58.334687Z",
     "iopub.status.idle": "2025-05-05T13:27:58.486830Z",
     "shell.execute_reply": "2025-05-05T13:27:58.484514Z",
     "shell.execute_reply.started": "2025-05-05T13:27:58.335676Z"
    }
   },
   "outputs": [
    {
     "name": "stdout",
     "output_type": "stream",
     "text": [
      "Data_Collection_Webscraping.ipynb  proxy_list.txt     requirements3.txt\n",
      "ScrapWikiArt\t\t\t   readme.md\t      scrapy.cfg\n",
      "data_validation_script.py\t   requirements.txt   venv\n",
      "install_log.txt\t\t\t   requirements2.txt\n"
     ]
    }
   ],
   "source": [
    "!ls"
   ]
  },
  {
   "cell_type": "code",
   "execution_count": 7,
   "id": "0d729323-1299-4ee1-b4da-97713f4f81ab",
   "metadata": {
    "execution": {
     "iopub.execute_input": "2025-05-05T13:27:58.490053Z",
     "iopub.status.busy": "2025-05-05T13:27:58.489368Z",
     "iopub.status.idle": "2025-05-05T13:27:59.409657Z",
     "shell.execute_reply": "2025-05-05T13:27:59.407368Z",
     "shell.execute_reply.started": "2025-05-05T13:27:58.489976Z"
    }
   },
   "outputs": [
    {
     "name": "stdout",
     "output_type": "stream",
     "text": [
      "wikiart\n",
      "wikiart2\n",
      "wikiart_artist\n",
      "wikiart_movement\n",
      "wikiart_school\n",
      "wikiart_style\n"
     ]
    }
   ],
   "source": [
    "!scrapy list"
   ]
  },
  {
   "cell_type": "code",
   "execution_count": null,
   "id": "a08e1a36-5cdb-4f33-b9ae-5721600d856a",
   "metadata": {
    "execution": {
     "iopub.execute_input": "2025-05-05T13:27:59.412694Z",
     "iopub.status.busy": "2025-05-05T13:27:59.411991Z"
    }
   },
   "outputs": [
    {
     "name": "stdout",
     "output_type": "stream",
     "text": [
      "2025-05-05 21:27:59 [scrapy.utils.log] INFO: Scrapy 2.10.0 started (bot: scrapybot)\n",
      "2025-05-05 21:27:59 [scrapy.utils.log] INFO: Versions: lxml 4.9.3.0, libxml2 2.13.7, cssselect 1.2.0, parsel 1.8.1, w3lib 2.1.2, Twisted 22.10.0, Python 3.10.17 | packaged by conda-forge | (main, Apr 10 2025, 22:19:12) [GCC 13.3.0], pyOpenSSL 23.2.0 (OpenSSL 3.5.0 8 Apr 2025), cryptography 41.0.3, Platform Linux-6.8.0-51-generic-x86_64-with-glibc2.39\n",
      "2025-05-05 21:27:59 [scrapy.addons] INFO: Enabled addons:\n",
      "[]\n",
      "2025-05-05 21:27:59 [scrapy.crawler] INFO: Overridden settings:\n",
      "{'LOG_FILE': 'scrapy_crawl.log',\n",
      " 'LOG_FILE_APPEND': False,\n",
      " 'LOG_LEVEL': 'ERROR',\n",
      " 'SPIDER_MODULES': ['ScrapWikiArt.spiders']}\n"
     ]
    }
   ],
   "source": [
    "!scrapy crawl wikiart2 -o data/canvas_metadata.json:json"
   ]
  },
  {
   "cell_type": "code",
   "execution_count": 10,
   "id": "016d53e5-7c2f-4db4-8243-806962824a3c",
   "metadata": {
    "execution": {
     "iopub.execute_input": "2025-05-06T08:11:54.335544Z",
     "iopub.status.busy": "2025-05-06T08:11:54.334772Z",
     "iopub.status.idle": "2025-05-06T08:11:54.477667Z",
     "shell.execute_reply": "2025-05-06T08:11:54.475390Z",
     "shell.execute_reply.started": "2025-05-06T08:11:54.335470Z"
    }
   },
   "outputs": [
    {
     "name": "stdout",
     "output_type": "stream",
     "text": [
      "Data_Collection_Webscraping.ipynb  install_log.txt   requirements2.txt\tvenv\n",
      "ScrapWikiArt\t\t\t   proxy_list.txt    requirements3.txt\n",
      "data\t\t\t\t   readme.md\t     scrapy.cfg\n",
      "data_validation_script.py\t   requirements.txt  scrapy_crawl.log\n"
     ]
    }
   ],
   "source": [
    "!ls"
   ]
  },
  {
   "cell_type": "code",
   "execution_count": 13,
   "id": "96dc9221-baba-47a8-86b0-3be21b1b253a",
   "metadata": {
    "execution": {
     "iopub.execute_input": "2025-05-06T08:13:14.429576Z",
     "iopub.status.busy": "2025-05-06T08:13:14.428757Z",
     "iopub.status.idle": "2025-05-06T08:13:15.204495Z",
     "shell.execute_reply": "2025-05-06T08:13:15.203469Z",
     "shell.execute_reply.started": "2025-05-06T08:13:14.429498Z"
    }
   },
   "outputs": [
    {
     "name": "stdout",
     "output_type": "stream",
     "text": [
      "[\n",
      "    {\n",
      "        \"Id\": 2,\n",
      "        \"URL\": \"https://www.wikiart.org/en/joe-machine/me-and-my-grandfather-2001\",\n",
      "        \"Title\": \"Me and My Grandfather\",\n",
      "        \"OriginalTitle\": null,\n",
      "        \"Author\": \"Joe Machine\",\n",
      "        \"AuthorLink\": \"https://www.wikiart.org/en/joe-machine\",\n",
      "        \"Date\": null,\n",
      "        \"Styles\": [\n",
      "            [\n",
      "                \"Stuckism\",\n",
      "                \"https://www.wikiart.org/en/paintings-by-style/stuckism\"\n",
      "            ]\n",
      "        ],\n",
      "        \"Series\": null,\n",
      "        \"SeriesLink\": null,\n",
      "        \"Genre\": \"genre painting\",\n",
      "        \"GenreLink\": \"https://www.wikiart.org/en/paintings-by-genre/genre-painting\",\n",
      "        \"Media\": [\n",
      "            [\n",
      "                \"acrylic\",\n",
      "                \"https://www.wikiart.org/en/paintings-by-media/acrylic\"\n",
      "            ],\n",
      "            [\n",
      "                \"canvas\",\n",
      "                \"https://www.wikiart.org/en/paintings-by-media/canvas\"\n",
      "            ]\n",
      "        ],\n",
      "        \"Location\": null,\n",
      "        \"Dimensions\": \"100 x 80 cm\",\n",
      "        \"Description\": \"\",\n",
      "        \"WikiDescription\": \"\",\n",
      "        \"WikiLink\": null,\n",
      "        \"Tags\": [],\n",
      "        \"image_urls\": [\n",
      "            \"https://uploads1.wikiart.org/00226/images/joe-machine/meandmygrandfather400.jpg\"\n",
      "        ],\n",
      "        \"images\": [\n",
      "            {\n",
      "                \"url\": \"https://uploads1.wikiart.org/00226/images/joe-machine/meandmygrandfather400.jpg\",\n",
      "                \"path\": \"full/4d1412fd8921d65d62239be4d708fda33a650817.jpg\",\n",
      "                \"checksum\": \"b0936d9f55a45b576f9bf448e9ac19e1\",\n",
      "                \"status\": \"downloaded\"\n",
      "            }\n",
      "        ]\n",
      "    },\n",
      "    {\n",
      "        \"Id\": 1,\n",
      "        \"URL\": \"https://www.wikiart.org/en/joe-machine/sex-crime-variation-2-2001\",\n",
      "        \"Title\": \"Sex Crime Variation 2\",\n",
      "        \"OriginalTitle\": null,\n",
      "        \"Author\": \"Joe Machine\",\n",
      "        \"AuthorLink\": \"https://www.wikiart.org/en/joe-machine\",\n",
      "        \"Date\": null,\n",
      "        \"Styles\": [\n",
      "            [\n",
      "                \"Stuckism\",\n",
      "                \"https://www.wikiart.org/en/paintings-by-style/stuckism\"\n",
      "            ]\n",
      "        ],\n",
      "        \"Series\": null,\n",
      "        \"SeriesLink\": null,\n",
      "        \"Genre\": \"genre painting\",\n",
      "        \"GenreLink\": \"https://www.wikiart.org/en/paintings-by-genre/genre-painting\",\n",
      "        \"Media\": [\n",
      "            [\n",
      "                \"acrylic\",\n",
      "                \"https://www.wikiart.org/en/paintings-by-media/acrylic\"\n",
      "            ],\n",
      "            [\n",
      "                \"canvas\",\n",
      "                \"https://www.wikiart.org/en/paintings-by-media/canvas\"\n",
      "            ]\n",
      "        ],\n",
      "        \"Location\": null,\n",
      "        \"Dimensions\": \"99 x 38 cm\",\n",
      "        \"Description\": \"\",\n",
      "        \"WikiDescription\": \"\",\n",
      "        \"WikiLink\": null,\n",
      "        \"Tags\": [],\n",
      "        \"image_urls\": [\n",
      "            \"https://uploads2.wikiart.org/00226/images/joe-machine/sexcrimevariation2-400.jpg\"\n",
      "        ],\n",
      "        \"images\": [\n",
      "            {\n",
      "                \"url\": \"https://uploads2.wikiart.org/00226/images/joe-machine/sexcrimevariation2-400.jpg\",\n",
      "                \"path\": \"full/d0a8d51db4c6cb4aaf62071e4dcf887f3866941b.jpg\",\n",
      "                \"checksum\": \"794373c6d0be95fc5e5b68844d9adc74\",\n",
      "                \"status\": \"downloaded\"\n",
      "            }\n",
      "        ]\n",
      "    },\n",
      "    {\n",
      "        \"Id\": 0,\n",
      "        \"URL\": \"https://www.wikiart.org/en/joe-machine/two-girlies\",\n",
      "        \"Title\": \"Two Girlies\",\n",
      "        \"OriginalTitle\": null,\n",
      "        \"Author\": \"Joe Machine\",\n",
      "        \"AuthorLink\": \"https://www.wikiart.org/en/joe-machine\",\n",
      "        \"Date\": null,\n",
      "        \"Styles\": [\n",
      "            [\n",
      "                \"Stuckism\",\n",
      "                \"https://www.wikiart.org/en/paintings-by-style/stuckism\"\n",
      "            ]\n",
      "        ],\n",
      "        \"Series\": null,\n",
      "        \"SeriesLink\": null,\n",
      "        \"Genre\": \"nude painting (nu)\",\n",
      "        \"GenreLink\": \"https://www.wikiart.org/en/paintings-by-genre/nude-painting-nu\",\n",
      "        \"Media\": [\n",
      "            [\n",
      "                \"acrylic\",\n",
      "                \"https://www.wikiart.org/en/paintings-by-media/acrylic\"\n",
      "            ],\n",
      "            [\n",
      "                \"canvas\",\n",
      "                \"https://www.wikiart.org/en/paintings-by-media/canvas\"\n",
      "            ]\n",
      "        ],\n",
      "        \"Location\": null,\n",
      "        \"Dimensions\": \"122 x 91 cm\",\n",
      "        \"Description\": \"\",\n",
      "        \"WikiDescription\": \"\",\n",
      "        \"WikiLink\": null,\n",
      "        \"Tags\": [\n",
      "            \"female-nude\",\n",
      "            \"Human\"\n",
      "        ],\n",
      "        \"image_urls\": [\n",
      "            \"https://uploads2.wikiart.org/00226/images/joe-machine/twogirlies400.jpg\"\n",
      "        ],\n",
      "        \"images\": [\n",
      "            {\n",
      "                \"url\": \"https://uploads2.wikiart.org/00226/images/joe-machine/twogirlies400.jpg\",\n",
      "                \"path\": \"full/abc0a024fefa552ea4a65e854caa45cebecc92d4.jpg\",\n",
      "                \"checksum\": \"03dd2410af7ef63fdab0696ceecc541a\",\n",
      "                \"status\": \"downloaded\"\n",
      "            }\n",
      "        ]\n",
      "    }\n",
      "]\n"
     ]
    }
   ],
   "source": [
    "import json\n",
    "\n",
    "with open('data/canvas_metadata.json', 'r', encoding='utf-8') as f:\n",
    "    data = json.load(f)\n",
    "# If it's a list\n",
    "if isinstance(data, list):\n",
    "    print(json.dumps(data[:3], indent=4))  # Show only first 3 items\n",
    "# If it's a dict\n",
    "elif isinstance(data, dict):\n",
    "    for key in list(data)[:3]:  # Show only first 3 keys\n",
    "        print(f\"{key}: {data[key]}\")"
   ]
  },
  {
   "cell_type": "code",
   "execution_count": null,
   "id": "87a66887-cfcb-4dc6-b88b-5282447a8af7",
   "metadata": {},
   "outputs": [],
   "source": []
  }
 ],
 "metadata": {
  "kernelspec": {
   "display_name": "Python [conda env:.conda-webscraper]",
   "language": "python",
   "name": "conda-env-.conda-webscraper-py"
  },
  "language_info": {
   "codemirror_mode": {
    "name": "ipython",
    "version": 3
   },
   "file_extension": ".py",
   "mimetype": "text/x-python",
   "name": "python",
   "nbconvert_exporter": "python",
   "pygments_lexer": "ipython3",
   "version": "3.10.17"
  }
 },
 "nbformat": 4,
 "nbformat_minor": 5
}

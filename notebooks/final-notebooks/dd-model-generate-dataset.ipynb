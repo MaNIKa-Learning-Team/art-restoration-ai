{
 "cells": [
  {
   "cell_type": "markdown",
   "id": "e18a7b5b-7a6a-4e40-9024-a1e77ec58e19",
   "metadata": {},
   "source": [
    "# Generating the Actual Dataset for the Damage Detection Phase"
   ]
  },
  {
   "cell_type": "markdown",
   "id": "8f8a98bf-41ba-4378-bd8a-22c5e037ddf3",
   "metadata": {},
   "source": [
    "This script applies one random, reproducible damage effect (e.g., scratches, water discoloration, or craquelure) to each image in a dataset. It uses multiprocessing to speed up processing across multiple CPU cores, saving both the damaged image and its corresponding damage mask. A metadata file is generated to track the original image, damage type applied, and output file paths."
   ]
  },
  {
   "cell_type": "code",
   "execution_count": 1,
   "id": "d5319b1e-caac-4090-9db6-f003f6365345",
   "metadata": {
    "execution": {
     "iopub.execute_input": "2025-06-02T05:45:36.532139Z",
     "iopub.status.busy": "2025-06-02T05:45:36.531766Z",
     "iopub.status.idle": "2025-06-02T05:45:38.161356Z",
     "shell.execute_reply": "2025-06-02T05:45:38.160064Z",
     "shell.execute_reply.started": "2025-06-02T05:45:36.532066Z"
    }
   },
   "outputs": [],
   "source": [
    "import os\n",
    "import sys\n",
    "import json\n",
    "import random\n",
    "from pathlib import Path\n",
    "import shutil\n",
    "import hashlib\n",
    "from concurrent.futures import ProcessPoolExecutor, as_completed\n",
    "\n",
    "# Add src/ to sys.path\n",
    "project_root = os.path.abspath(\"../..\")\n",
    "src_path = os.path.join(project_root, \"src\")\n",
    "if src_path not in sys.path:\n",
    "    sys.path.append(src_path)\n",
    "\n",
    "import numpy as np\n",
    "from PIL import Image, ImageDraw, ImageFilter\n",
    "from tqdm import tqdm\n",
    "\n",
    "# Local import\n",
    "from maskerada import (\n",
    "    ScratchDamage,\n",
    "    WaterDiscolouration,\n",
    "    CraquelureDamage,\n",
    "    NoDamage\n",
    ")"
   ]
  },
  {
   "cell_type": "code",
   "execution_count": 2,
   "id": "72480902-bd3e-46b7-b4b5-86825f471e01",
   "metadata": {
    "execution": {
     "iopub.execute_input": "2025-06-02T05:45:38.162569Z",
     "iopub.status.busy": "2025-06-02T05:45:38.162199Z",
     "iopub.status.idle": "2025-06-02T05:45:38.169019Z",
     "shell.execute_reply": "2025-06-02T05:45:38.167986Z",
     "shell.execute_reply.started": "2025-06-02T05:45:38.162538Z"
    }
   },
   "outputs": [],
   "source": [
    "def get_deterministic_seed(image_path):\n",
    "    \"\"\"\n",
    "    Generate a reproducible integer seed based on the SHA-256 hash of the image path.\n",
    "\n",
    "    This ensures consistent damage generation per image, even across runs.\n",
    "\n",
    "    Args:\n",
    "        image_path (str): Full path to the input image file.\n",
    "\n",
    "    Returns:\n",
    "        int: A 32-bit integer seed derived from the image path.\n",
    "    \"\"\"\n",
    "    return int(hashlib.sha256(image_path.encode()).hexdigest(), 16) % (2**32)"
   ]
  },
  {
   "cell_type": "code",
   "execution_count": 3,
   "id": "5338aadd-6902-45c5-9fb5-c8470da80d23",
   "metadata": {
    "execution": {
     "iopub.execute_input": "2025-06-02T05:45:38.170428Z",
     "iopub.status.busy": "2025-06-02T05:45:38.170129Z",
     "iopub.status.idle": "2025-06-02T05:45:38.181765Z",
     "shell.execute_reply": "2025-06-02T05:45:38.180503Z",
     "shell.execute_reply.started": "2025-06-02T05:45:38.170392Z"
    }
   },
   "outputs": [],
   "source": [
    "def process_image(args):\n",
    "    \"\"\"\n",
    "    Applies a specific damage class to an image, generates a damage mask,\n",
    "    and saves both the damaged image and mask to disk.\n",
    "\n",
    "    Args:\n",
    "        args (tuple): A 3-tuple containing:\n",
    "            - image_path (str): Full path to the image to process.\n",
    "            - base_output_directory (str): Base directory to save outputs.\n",
    "            - damage_class (class or callable): A damage class or factory.\n",
    "\n",
    "    Returns:\n",
    "        dict or None: A dictionary containing metadata about the processed image,\n",
    "                      or None if processing failed or yielded no result.\n",
    "                      Fields include:\n",
    "                      - filename: Original image filename\n",
    "                      - damage_type: Class name of the applied damage\n",
    "                      - damaged_image: Path to saved damaged image\n",
    "                      - damage_mask: Path to saved damage mask\n",
    "    \"\"\"\n",
    "    image_path, base_output_directory, damage_class = args\n",
    "    original_image_filename = os.path.basename(image_path)\n",
    "    image_identifier = Path(original_image_filename).stem\n",
    "\n",
    "    try:\n",
    "        seed = get_deterministic_seed(image_path)\n",
    "        random.seed(seed)\n",
    "        image = Image.open(image_path).convert(\"RGB\")\n",
    "\n",
    "        damage_instance = damage_class() if callable(damage_class) else damage_class\n",
    "        damaged_image, damage_mask = damage_instance.apply(image)\n",
    "\n",
    "        if damaged_image is None or damage_mask is None:\n",
    "            print(f\"[WARNING] {damage_instance.__class__.__name__} returned None for {original_image_filename}\")\n",
    "            return None\n",
    "\n",
    "        damage_type_name = damage_instance.__class__.__name__\n",
    "        damage_suffix = damage_type_name.lower().replace(\"damage\", \"\")\n",
    "\n",
    "        damage_img_dir = os.path.join(base_output_directory, \"generated-damaged-images\")\n",
    "        damage_mask_dir = os.path.join(base_output_directory, \"generated-damage-masks\")\n",
    "        os.makedirs(damage_img_dir, exist_ok=True)\n",
    "        os.makedirs(damage_mask_dir, exist_ok=True)\n",
    "\n",
    "        base_filename = f\"{image_identifier}-{damage_suffix}\"\n",
    "        damaged_image_path = os.path.join(damage_img_dir, base_filename + \".png\")\n",
    "        damage_mask_path = os.path.join(damage_mask_dir, base_filename + \"-mask.png\")\n",
    "\n",
    "        damaged_image.convert(\"RGB\").save(damaged_image_path)\n",
    "        damage_mask.save(damage_mask_path)\n",
    "\n",
    "        return {\n",
    "            \"filename\": original_image_filename,\n",
    "            \"damage_type\": damage_type_name,\n",
    "            \"damaged_image\": damaged_image_path,\n",
    "            \"damage_mask\": damage_mask_path,\n",
    "        }\n",
    "\n",
    "    except Exception as e:\n",
    "        print(f\"[ERROR] Failed to process {original_image_filename}: {e}\")\n",
    "        return None"
   ]
  },
  {
   "cell_type": "code",
   "execution_count": 4,
   "id": "69199115-2e51-48d1-b277-c74b464b2ede",
   "metadata": {
    "execution": {
     "iopub.execute_input": "2025-06-02T05:45:38.183292Z",
     "iopub.status.busy": "2025-06-02T05:45:38.182952Z",
     "iopub.status.idle": "2025-06-02T05:45:38.196032Z",
     "shell.execute_reply": "2025-06-02T05:45:38.194791Z",
     "shell.execute_reply.started": "2025-06-02T05:45:38.183254Z"
    }
   },
   "outputs": [],
   "source": [
    "def process_all_images(\n",
    "    image_directory,\n",
    "    base_output_directory,\n",
    "    metadata_output_path,\n",
    "    damage_classes,\n",
    "    sample_size=None,\n",
    "    max_workers=None\n",
    "):\n",
    "    \"\"\"\n",
    "    Applies damage to a set of input images according to fixed class proportions\n",
    "    and saves metadata about the generated outputs.\n",
    "\n",
    "    Each image is assigned to a damage type based on the following distribution:\n",
    "        - Craquelure: 30%\n",
    "        - Scratch: 30%\n",
    "        - Water Damage: 30%\n",
    "        - No Damage: 10%\n",
    "\n",
    "    Damage application is done in parallel using multiprocessing.\n",
    "\n",
    "    Args:\n",
    "        image_directory (str): Directory containing original input images.\n",
    "        base_output_directory (str): Directory where damaged images and masks are saved.\n",
    "        metadata_output_path (str): Path to save a JSON metadata file summarizing results.\n",
    "        damage_classes (list): List of all possible damage classes (including create_craquelure).\n",
    "                               This argument is not used to assign classes randomly.\n",
    "        sample_size (int or None): If specified, subsample N images from the directory.\n",
    "        max_workers (int or None): Number of worker processes to use in parallel.\n",
    "\n",
    "    Returns:\n",
    "        None: Outputs are saved to disk (damaged images, masks, and metadata).\n",
    "    \"\"\"\n",
    "    image_paths = sorted([\n",
    "        str(p) for p in Path(image_directory).glob(\"*\")\n",
    "        if p.suffix.lower() in [\".jpg\", \".jpeg\", \".png\"]\n",
    "    ])\n",
    "\n",
    "    if sample_size:\n",
    "        random.seed(42)\n",
    "        image_paths = random.sample(image_paths, sample_size)\n",
    "\n",
    "    total_images = len(image_paths)\n",
    "\n",
    "    class_distribution = {\n",
    "        \"Craquelure\": 0.30,\n",
    "        \"Scratch\": 0.30,\n",
    "        \"WaterDiscolouration\": 0.30,\n",
    "        \"NoDamage\": 0.10,\n",
    "    }\n",
    "\n",
    "    damage_class_map = {\n",
    "        \"Craquelure\": create_craquelure,\n",
    "        \"Scratch\": ScratchDamage,\n",
    "        \"WaterDiscolouration\": WaterDiscolouration,\n",
    "        \"NoDamage\": NoDamage,\n",
    "    }\n",
    "\n",
    "    class_counts = {\n",
    "        cls: int(total_images * prop)\n",
    "        for cls, prop in class_distribution.items()\n",
    "    }\n",
    "\n",
    "    random.seed(42)\n",
    "    random.shuffle(image_paths)\n",
    "\n",
    "    assigned_tasks = []\n",
    "    start = 0\n",
    "    for class_name, count in class_counts.items():\n",
    "        selected_images = image_paths[start:start + count]\n",
    "        for img_path in selected_images:\n",
    "            assigned_tasks.append((img_path, base_output_directory, damage_class_map[class_name]))\n",
    "        start += count\n",
    "\n",
    "    results = []\n",
    "    with ProcessPoolExecutor(max_workers=max_workers) as executor:\n",
    "        futures = [executor.submit(process_image, task) for task in assigned_tasks]\n",
    "        for future in tqdm(as_completed(futures), total=len(futures), desc=\"Processing\"):\n",
    "            result = future.result()\n",
    "            if result:\n",
    "                results.append(result)\n",
    "\n",
    "    if metadata_output_path:\n",
    "        with open(metadata_output_path, \"w\") as f:\n",
    "            json.dump(results, f, indent=2)"
   ]
  },
  {
   "cell_type": "code",
   "execution_count": 5,
   "id": "28b6bed2-e28a-4c3f-8a63-8bc228990427",
   "metadata": {
    "execution": {
     "iopub.execute_input": "2025-06-02T05:45:38.197221Z",
     "iopub.status.busy": "2025-06-02T05:45:38.196916Z",
     "iopub.status.idle": "2025-06-02T05:45:38.201985Z",
     "shell.execute_reply": "2025-06-02T05:45:38.200979Z",
     "shell.execute_reply.started": "2025-06-02T05:45:38.197183Z"
    }
   },
   "outputs": [],
   "source": [
    "def create_craquelure():\n",
    "    \"\"\"\n",
    "    Factory function for CraquelureDamage to ensure it's pickleable in multiprocessing.\n",
    "    \"\"\"\n",
    "    return CraquelureDamage(crack_mask_dir=\"../../data/crack-masks\")"
   ]
  },
  {
   "cell_type": "code",
   "execution_count": 6,
   "id": "7cebf8fa-e300-479d-8438-b2a73d9532c4",
   "metadata": {
    "execution": {
     "iopub.execute_input": "2025-06-02T05:45:38.204524Z",
     "iopub.status.busy": "2025-06-02T05:45:38.204071Z",
     "iopub.status.idle": "2025-06-02T05:58:47.233253Z",
     "shell.execute_reply": "2025-06-02T05:58:47.230809Z",
     "shell.execute_reply.started": "2025-06-02T05:45:38.204491Z"
    }
   },
   "outputs": [
    {
     "name": "stderr",
     "output_type": "stream",
     "text": [
      "Processing: 100%|██████████| 34580/34580 [13:05<00:00, 44.02it/s]\n"
     ]
    }
   ],
   "source": [
    "process_all_images(\n",
    "    image_directory=\"../../data/img/\",\n",
    "    base_output_directory=\"../../data/v6-damaged-and-mask-dataset\",\n",
    "    metadata_output_path=\"../../data/v6-damage_metadata.json\",\n",
    "    damage_classes=[\n",
    "        ScratchDamage,\n",
    "        WaterDiscolouration,\n",
    "        create_craquelure,\n",
    "        NoDamage\n",
    "    ],\n",
    "    sample_size=None,\n",
    "    max_workers=12       # or None for default\n",
    ")"
   ]
  }
 ],
 "metadata": {
  "kernelspec": {
   "display_name": "art-restoration-ai",
   "language": "python",
   "name": "art-restoration-ai"
  },
  "language_info": {
   "codemirror_mode": {
    "name": "ipython",
    "version": 3
   },
   "file_extension": ".py",
   "mimetype": "text/x-python",
   "name": "python",
   "nbconvert_exporter": "python",
   "pygments_lexer": "ipython3",
   "version": "3.10.13"
  }
 },
 "nbformat": 4,
 "nbformat_minor": 5
}

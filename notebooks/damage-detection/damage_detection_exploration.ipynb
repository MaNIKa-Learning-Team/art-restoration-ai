{
 "cells": [
  {
   "cell_type": "markdown",
   "id": "51cdc19a-e3b8-4006-ae9c-50d05167c059",
   "metadata": {},
   "source": [
    "# Damage Detection"
   ]
  },
  {
   "cell_type": "markdown",
   "id": "328fed30-5c52-414f-aff2-2d4fd9e5c25a",
   "metadata": {},
   "source": [
    "### Supervised Semantic Segmentation Models\n",
    "#### Goal:\n",
    "Train a neural network to classify each pixel in an image as either \"damaged\" or \"undamaged.\" The output is a binary mask.\n",
    "\n",
    "#### Training Data:\n",
    "\n",
    "**Input:**\n",
    "\n",
    "- Clean paintings with various synthetic damages applied.\n",
    "\n",
    "**Target:**\n",
    "\n",
    "- Corresponding binary masks where damaged pixels are 1 (or white) and undamaged pixels are 0 (or black).\n",
    "- Need to generate these masks precisely when you create the synthetic damage.\n",
    "- For example, if \"scratch,\" the mask should perfectly outline that scratch.\n",
    "\n",
    "\n",
    "\n",
    "1. U-Net"
   ]
  },
  {
   "cell_type": "code",
   "execution_count": null,
   "id": "760bfb23-aaa8-41b9-9a91-7435b4d213aa",
   "metadata": {},
   "outputs": [],
   "source": []
  },
  {
   "cell_type": "code",
   "execution_count": null,
   "id": "8a5ef9b5-8161-4120-b763-17bbd2984a9d",
   "metadata": {},
   "outputs": [],
   "source": []
  },
  {
   "cell_type": "markdown",
   "id": "a3b048a6-004d-4c8b-ba97-2ca38325c9e2",
   "metadata": {},
   "source": [
    "### Anomaly Detection / Unsupervised or Weakly Supervised Defect Detection\n",
    "#### Goal:\n",
    "**Reconstruction-based** (e.g., Autoencoders, GANs like f-AnoGAN): Train a model to reconstruct pristine versions of paintings. When a damaged painting is input, the difference (residual) between the input and the reconstruction can highlight damaged areas.\n",
    "\n",
    "**Embedding-based** (e.g., PatchCore, SPADE): Learn a representation of normal patches. Patches from a test image that are far from the learned normal representations in the embedding space are considered anomalous."
   ]
  },
  {
   "cell_type": "code",
   "execution_count": null,
   "id": "4482b9a3-fc13-4744-baea-f67f4649992d",
   "metadata": {},
   "outputs": [],
   "source": []
  },
  {
   "cell_type": "code",
   "execution_count": null,
   "id": "c7727b82-b5f4-4a8f-a6ac-867617a862da",
   "metadata": {},
   "outputs": [],
   "source": []
  },
  {
   "cell_type": "code",
   "execution_count": null,
   "id": "39f84feb-0c5a-46e0-9e14-195a7629ebec",
   "metadata": {},
   "outputs": [],
   "source": []
  }
 ],
 "metadata": {
  "kernelspec": {
   "display_name": "Python [conda env:.conda-ml3-final-project]",
   "language": "python",
   "name": "conda-env-.conda-ml3-final-project-py"
  },
  "language_info": {
   "codemirror_mode": {
    "name": "ipython",
    "version": 3
   },
   "file_extension": ".py",
   "mimetype": "text/x-python",
   "name": "python",
   "nbconvert_exporter": "python",
   "pygments_lexer": "ipython3",
   "version": "3.10.17"
  }
 },
 "nbformat": 4,
 "nbformat_minor": 5
}

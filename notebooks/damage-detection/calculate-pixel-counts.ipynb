{
 "cells": [
  {
   "cell_type": "markdown",
   "id": "4f421abc-79ca-4ef3-9606-7bc39dff6226",
   "metadata": {},
   "source": [
    "# Calculate Pixels of Masks\n",
    "\n",
    "Purpose:\n",
    "This notebook scans all binary mask images in the specified directory and counts\n",
    "the total number of pixels labeled as \"damage\" (value = 1) and \"painting\" (value = 0).\n",
    "It is used to compute class pixel counts for use in class balancing during model training.\n",
    "\n",
    "Output:\n",
    "- A Python dictionary named CLASSES_PIXEL_COUNT_DICT\n",
    "- A JSON file (\"class_pixel_counts.json\") containing the pixel counts for:\n",
    "    • \"painting\"\n",
    "    • \"damage_mask\""
   ]
  },
  {
   "cell_type": "code",
   "execution_count": 1,
   "id": "9bde5512-8738-49c2-81f5-b6ee23714c8f",
   "metadata": {
    "execution": {
     "iopub.execute_input": "2025-05-29T01:40:57.190135Z",
     "iopub.status.busy": "2025-05-29T01:40:57.189572Z",
     "iopub.status.idle": "2025-05-29T01:40:57.825814Z",
     "shell.execute_reply": "2025-05-29T01:40:57.824428Z",
     "shell.execute_reply.started": "2025-05-29T01:40:57.190102Z"
    }
   },
   "outputs": [],
   "source": [
    "import os\n",
    "import json\n",
    "\n",
    "from PIL import Image\n",
    "import numpy as np"
   ]
  },
  {
   "cell_type": "code",
   "execution_count": 2,
   "id": "1c57bb38-4bb2-4010-bf9f-2c6a0af452a6",
   "metadata": {
    "execution": {
     "iopub.execute_input": "2025-05-29T01:40:57.827773Z",
     "iopub.status.busy": "2025-05-29T01:40:57.827389Z",
     "iopub.status.idle": "2025-05-29T01:40:57.841744Z",
     "shell.execute_reply": "2025-05-29T01:40:57.839383Z",
     "shell.execute_reply.started": "2025-05-29T01:40:57.827744Z"
    }
   },
   "outputs": [],
   "source": [
    "MASK_DIR = \"../../data/damaged-and-mask-dataset/generated-damage-masks\""
   ]
  },
  {
   "cell_type": "code",
   "execution_count": 3,
   "id": "58fe99cd-1354-484a-95fa-c81e0418ad43",
   "metadata": {
    "execution": {
     "iopub.execute_input": "2025-05-29T01:40:57.844454Z",
     "iopub.status.busy": "2025-05-29T01:40:57.843897Z",
     "iopub.status.idle": "2025-05-29T01:40:57.852433Z",
     "shell.execute_reply": "2025-05-29T01:40:57.850983Z",
     "shell.execute_reply.started": "2025-05-29T01:40:57.844401Z"
    }
   },
   "outputs": [],
   "source": [
    "damage_pixels = 0\n",
    "painting_pixels = 0"
   ]
  },
  {
   "cell_type": "code",
   "execution_count": 4,
   "id": "6a81b1ef-b364-4ae6-babc-72e65b60a504",
   "metadata": {
    "execution": {
     "iopub.execute_input": "2025-05-29T01:40:57.854771Z",
     "iopub.status.busy": "2025-05-29T01:40:57.854301Z",
     "iopub.status.idle": "2025-05-29T01:46:24.235989Z",
     "shell.execute_reply": "2025-05-29T01:46:24.232558Z",
     "shell.execute_reply.started": "2025-05-29T01:40:57.854722Z"
    }
   },
   "outputs": [],
   "source": [
    "# Loop over each mask image\n",
    "for filename in os.listdir(MASK_DIR):\n",
    "    if filename.endswith(\".png\"):\n",
    "        mask_path = os.path.join(MASK_DIR, filename)\n",
    "        \n",
    "        # Load mask and convert to binary (0 or 1)\n",
    "        mask = Image.open(mask_path).convert(\"L\")  # grayscale\n",
    "        mask_array = np.array(mask)\n",
    "\n",
    "        binary_mask = (mask_array > 127).astype(np.uint8)  # 1 = damage, 0 = painting\n",
    "\n",
    "        damage_pixels += np.sum(binary_mask == 1)\n",
    "        painting_pixels += np.sum(binary_mask == 0)"
   ]
  },
  {
   "cell_type": "code",
   "execution_count": 5,
   "id": "77f84ed6-eee4-44ae-9360-c3094f5d5cfd",
   "metadata": {
    "execution": {
     "iopub.execute_input": "2025-05-29T01:46:24.239911Z",
     "iopub.status.busy": "2025-05-29T01:46:24.239085Z",
     "iopub.status.idle": "2025-05-29T01:46:24.250225Z",
     "shell.execute_reply": "2025-05-29T01:46:24.248647Z",
     "shell.execute_reply.started": "2025-05-29T01:46:24.239826Z"
    }
   },
   "outputs": [],
   "source": [
    "CLASSES_PIXEL_COUNT_DICT = {\n",
    "    \"painting\": int(painting_pixels),\n",
    "    \"damage_mask\": int(damage_pixels)\n",
    "}"
   ]
  },
  {
   "cell_type": "code",
   "execution_count": 6,
   "id": "2a749cc5-fb4f-47a0-ab0e-188a4c4f0bb2",
   "metadata": {
    "execution": {
     "iopub.execute_input": "2025-05-29T01:46:24.254252Z",
     "iopub.status.busy": "2025-05-29T01:46:24.253730Z",
     "iopub.status.idle": "2025-05-29T01:46:24.261824Z",
     "shell.execute_reply": "2025-05-29T01:46:24.260454Z",
     "shell.execute_reply.started": "2025-05-29T01:46:24.254201Z"
    }
   },
   "outputs": [],
   "source": [
    "# Save dictionary to JSON\n",
    "with open(\"class_pixel_counts.json\", \"w\") as f:\n",
    "    json.dump(CLASSES_PIXEL_COUNT_DICT, f)"
   ]
  },
  {
   "cell_type": "code",
   "execution_count": 7,
   "id": "29a25777-af8f-40fc-af7f-94e7150ff447",
   "metadata": {
    "execution": {
     "iopub.execute_input": "2025-05-29T01:51:44.610967Z",
     "iopub.status.busy": "2025-05-29T01:51:44.610042Z",
     "iopub.status.idle": "2025-05-29T01:51:44.641572Z",
     "shell.execute_reply": "2025-05-29T01:51:44.638629Z",
     "shell.execute_reply.started": "2025-05-29T01:51:44.610889Z"
    }
   },
   "outputs": [
    {
     "data": {
      "text/plain": [
       "{'painting': 10082621917, 'damage_mask': 946974915}"
      ]
     },
     "execution_count": 7,
     "metadata": {},
     "output_type": "execute_result"
    }
   ],
   "source": [
    "CLASSES_PIXEL_COUNT_DICT"
   ]
  },
  {
   "cell_type": "code",
   "execution_count": null,
   "id": "f732699b-833d-4869-857b-db39a74c9901",
   "metadata": {},
   "outputs": [],
   "source": []
  }
 ],
 "metadata": {
  "kernelspec": {
   "display_name": "art-restoration-ai",
   "language": "python",
   "name": "art-restoration-ai"
  },
  "language_info": {
   "codemirror_mode": {
    "name": "ipython",
    "version": 3
   },
   "file_extension": ".py",
   "mimetype": "text/x-python",
   "name": "python",
   "nbconvert_exporter": "python",
   "pygments_lexer": "ipython3",
   "version": "3.10.13"
  }
 },
 "nbformat": 4,
 "nbformat_minor": 5
}

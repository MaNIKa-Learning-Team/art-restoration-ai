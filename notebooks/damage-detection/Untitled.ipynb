{
 "cells": [
  {
   "cell_type": "code",
   "execution_count": 2,
   "id": "6b3f0e9e-23b7-4637-94a2-60ab5608c1f7",
   "metadata": {
    "execution": {
     "iopub.execute_input": "2025-05-26T04:46:29.491311Z",
     "iopub.status.busy": "2025-05-26T04:46:29.488083Z",
     "iopub.status.idle": "2025-05-26T04:46:29.520058Z",
     "shell.execute_reply": "2025-05-26T04:46:29.513866Z",
     "shell.execute_reply.started": "2025-05-26T04:46:29.491102Z"
    }
   },
   "outputs": [],
   "source": [
    "import sys, os\n",
    "\n",
    "project_root = os.path.abspath(\"..\")\n",
    "src_path = os.path.join(project_root, \"src\")\n",
    "if src_path not in sys.path:\n",
    "    sys.path.append(src_path)"
   ]
  },
  {
   "cell_type": "code",
   "execution_count": 7,
   "id": "f7cc2ead-419a-4682-9f11-891912c5b03d",
   "metadata": {
    "execution": {
     "iopub.execute_input": "2025-05-26T04:52:04.220753Z",
     "iopub.status.busy": "2025-05-26T04:52:04.218515Z",
     "iopub.status.idle": "2025-05-26T04:52:04.320012Z",
     "shell.execute_reply": "2025-05-26T04:52:04.313099Z",
     "shell.execute_reply.started": "2025-05-26T04:52:04.220494Z"
    }
   },
   "outputs": [],
   "source": [
    "from maskerada import (ScratchDamage, WaterDiscolouration, CraquelureDamage)"
   ]
  },
  {
   "cell_type": "code",
   "execution_count": null,
   "id": "583f133e-9053-4abb-b2a3-da826a1489be",
   "metadata": {},
   "outputs": [],
   "source": []
  },
  {
   "cell_type": "code",
   "execution_count": null,
   "id": "188bbe00-6c83-4a1c-aae6-227e607bc2b3",
   "metadata": {},
   "outputs": [],
   "source": []
  },
  {
   "cell_type": "code",
   "execution_count": null,
   "id": "0c564ac1-2e22-4679-abb2-e6d35f76c2b3",
   "metadata": {},
   "outputs": [],
   "source": []
  },
  {
   "cell_type": "code",
   "execution_count": null,
   "id": "57c9ae4b-7feb-4ddb-a29a-054875256dfd",
   "metadata": {},
   "outputs": [],
   "source": []
  },
  {
   "cell_type": "code",
   "execution_count": null,
   "id": "20e4e517-cca9-4b3c-b423-977ae6be07c8",
   "metadata": {},
   "outputs": [],
   "source": []
  },
  {
   "cell_type": "code",
   "execution_count": null,
   "id": "f1ba3129-67a1-4a53-8517-ccf0e660f9ed",
   "metadata": {},
   "outputs": [],
   "source": []
  },
  {
   "cell_type": "code",
   "execution_count": null,
   "id": "5324606c-cdc0-4816-aceb-a31e447da0dd",
   "metadata": {},
   "outputs": [],
   "source": []
  }
 ],
 "metadata": {
  "kernelspec": {
   "display_name": "art-restoration-ai",
   "language": "python",
   "name": "art-restoration-ai"
  },
  "language_info": {
   "codemirror_mode": {
    "name": "ipython",
    "version": 3
   },
   "file_extension": ".py",
   "mimetype": "text/x-python",
   "name": "python",
   "nbconvert_exporter": "python",
   "pygments_lexer": "ipython3",
   "version": "3.10.13"
  }
 },
 "nbformat": 4,
 "nbformat_minor": 5
}
